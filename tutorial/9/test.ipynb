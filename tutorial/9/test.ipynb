{
 "cells": [
  {
   "cell_type": "code",
   "execution_count": 1,
   "metadata": {},
   "outputs": [
    {
     "name": "stderr",
     "output_type": "stream",
     "text": [
      "[INFO    ] 2020-03-18 03:12:16 [pickle_serializer.py] [load:15] Pickle load : ../../../token.pickle\n",
      "[INFO    ] 2020-03-18 03:12:16 [google_drive.py] [__init__:26] Google drive access...\n"
     ]
    }
   ],
   "source": [
    "import time\n",
    "from collections import defaultdict\n",
    "\n",
    "from Feynman.cloud import Google_drive\n",
    "from Feynman.serialize import Pickle_serializer\n",
    "\n",
    "\n",
    "ps = Pickle_serializer()\n",
    "gd = Google_drive('../../../token.pickle')"
   ]
  },
  {
   "cell_type": "markdown",
   "metadata": {},
   "source": [
    "## 유저 생성"
   ]
  },
  {
   "cell_type": "code",
   "execution_count": 2,
   "metadata": {},
   "outputs": [
    {
     "name": "stderr",
     "output_type": "stream",
     "text": [
      "[INFO    ] 2020-03-18 03:13:17 [google_drive.py] [download:140] Connection reset by peer...\n",
      "[INFO    ] 2020-03-18 03:15:18 [google_drive.py] [download:140] Connection reset by peer...\n",
      "[INFO    ] 2020-03-18 03:17:18 [google_drive.py] [download:140] Connection reset by peer...\n",
      "[INFO    ] 2020-03-18 03:18:19 [google_drive.py] [_download:120] demo_user.ps(1ht0fDDb0cDUxDHfiJVh_eVD3Hzwz0XVD) is the latest version...\n"
     ]
    }
   ],
   "source": [
    "gd.download(folder='demo_user_data',\n",
    "           path='cache')"
   ]
  },
  {
   "cell_type": "code",
   "execution_count": 3,
   "metadata": {},
   "outputs": [
    {
     "name": "stderr",
     "output_type": "stream",
     "text": [
      "[INFO    ] 2020-03-18 03:18:19 [pickle_serializer.py] [load:15] Pickle load : cache/demo_user_data/demo_user.ps\n"
     ]
    }
   ],
   "source": [
    "demo_user = ps.load('cache/demo_user_data/demo_user.ps')"
   ]
  },
  {
   "cell_type": "code",
   "execution_count": 4,
   "metadata": {},
   "outputs": [
    {
     "data": {
      "text/plain": [
       "dict_keys(['item_count', 'user_count', 'cluster', 'traffic', 'timing', 'item_idx', 'user_idx', 'p_item_cluster', 'p_cluster_user', 'p_user'])"
      ]
     },
     "execution_count": 4,
     "metadata": {},
     "output_type": "execute_result"
    }
   ],
   "source": [
    "demo_user.keys()"
   ]
  },
  {
   "cell_type": "code",
   "execution_count": 5,
   "metadata": {},
   "outputs": [],
   "source": [
    "_timing = demo_user['timing']\n",
    "_traffic = demo_user['traffic']\n",
    "_user_count = demo_user['user_count']\n",
    "_p_user = demo_user['p_user']"
   ]
  },
  {
   "cell_type": "code",
   "execution_count": 6,
   "metadata": {},
   "outputs": [],
   "source": [
    "def make_user_list():\n",
    "    user_num = _traffic/24/60/60*_timing\n",
    "    user_num = np.random.poisson(user_num)\n",
    "    u_idxs = np.random.choice(range(_user_count),user_num,p=_p_user[0])\n",
    "    return {'user_id':list(map(int,u_idxs))}"
   ]
  },
  {
   "cell_type": "code",
   "execution_count": 7,
   "metadata": {},
   "outputs": [],
   "source": [
    "u_list = make_user_list()"
   ]
  },
  {
   "cell_type": "code",
   "execution_count": 8,
   "metadata": {},
   "outputs": [],
   "source": [
    "\n",
    "\n",
    "dic_msg = {}\n",
    "dic_msg['type'] = 'user_list'\n",
    "dic_msg['value'] = u_list\n",
    "dic_msg['timestamp'] = time.ctime()\n",
    "dic_msg['servive'] = 'demo_personal_reco_systemp'"
   ]
  },
  {
   "cell_type": "code",
   "execution_count": 9,
   "metadata": {},
   "outputs": [
    {
     "data": {
      "text/plain": [
       "{'type': 'user_list',\n",
       " 'value': {'user_id': [39934,\n",
       "   821337,\n",
       "   92246,\n",
       "   803002,\n",
       "   897467,\n",
       "   496192,\n",
       "   643732,\n",
       "   942236,\n",
       "   180819,\n",
       "   454341,\n",
       "   782589,\n",
       "   118032,\n",
       "   620687,\n",
       "   473116,\n",
       "   274604,\n",
       "   95529,\n",
       "   846071,\n",
       "   24490,\n",
       "   658809,\n",
       "   435269,\n",
       "   101369,\n",
       "   29092,\n",
       "   649728,\n",
       "   940683,\n",
       "   139490,\n",
       "   530482,\n",
       "   906615,\n",
       "   237854,\n",
       "   471426,\n",
       "   71325,\n",
       "   445817,\n",
       "   396661,\n",
       "   518010,\n",
       "   592038,\n",
       "   197289,\n",
       "   221342,\n",
       "   506045,\n",
       "   29395]},\n",
       " 'timestamp': 'Wed Mar 18 03:18:21 2020',\n",
       " 'servive': 'demo_personal_reco_systemp'}"
      ]
     },
     "execution_count": 9,
     "metadata": {},
     "output_type": "execute_result"
    }
   ],
   "source": [
    "dic_msg"
   ]
  },
  {
   "cell_type": "code",
   "execution_count": 10,
   "metadata": {},
   "outputs": [],
   "source": [
    "import json"
   ]
  },
  {
   "cell_type": "code",
   "execution_count": 11,
   "metadata": {},
   "outputs": [
    {
     "data": {
      "text/plain": [
       "'{\"type\": \"user_list\", \"value\": {\"user_id\": [39934, 821337, 92246, 803002, 897467, 496192, 643732, 942236, 180819, 454341, 782589, 118032, 620687, 473116, 274604, 95529, 846071, 24490, 658809, 435269, 101369, 29092, 649728, 940683, 139490, 530482, 906615, 237854, 471426, 71325, 445817, 396661, 518010, 592038, 197289, 221342, 506045, 29395]}, \"timestamp\": \"Wed Mar 18 03:18:21 2020\", \"servive\": \"demo_personal_reco_systemp\"}'"
      ]
     },
     "execution_count": 11,
     "metadata": {},
     "output_type": "execute_result"
    }
   ],
   "source": [
    "json.dumps(dic_msg)"
   ]
  },
  {
   "cell_type": "code",
   "execution_count": 12,
   "metadata": {},
   "outputs": [
    {
     "data": {
      "text/plain": [
       "1"
      ]
     },
     "execution_count": 12,
     "metadata": {},
     "output_type": "execute_result"
    }
   ],
   "source": [
    "len(u_list.values())"
   ]
  },
  {
   "cell_type": "code",
   "execution_count": 13,
   "metadata": {},
   "outputs": [
    {
     "data": {
      "text/plain": [
       "38"
      ]
     },
     "execution_count": 13,
     "metadata": {},
     "output_type": "execute_result"
    }
   ],
   "source": [
    "len(u_list['user_id'])"
   ]
  },
  {
   "cell_type": "code",
   "execution_count": null,
   "metadata": {},
   "outputs": [],
   "source": []
  },
  {
   "cell_type": "markdown",
   "metadata": {},
   "source": [
    "## 추천 리스트 만들기"
   ]
  },
  {
   "cell_type": "code",
   "execution_count": 14,
   "metadata": {},
   "outputs": [
    {
     "name": "stderr",
     "output_type": "stream",
     "text": [
      "[INFO    ] 2020-03-18 03:18:23 [google_drive.py] [_download:120] reco_cluster_user.ps(1O1gVU9Ui1vSIfVK9FCO0LfngvKf2qKIg) is the latest version...\n",
      "[INFO    ] 2020-03-18 03:18:23 [google_drive.py] [_download:120] reco_item_cluster.ps(1lg3OR0JSM29a0N6jid8etKM1sd77QNGA) is the latest version...\n"
     ]
    }
   ],
   "source": [
    "gd.download(folder='demo_reco',\n",
    "           path='cache')"
   ]
  },
  {
   "cell_type": "code",
   "execution_count": 15,
   "metadata": {},
   "outputs": [
    {
     "name": "stderr",
     "output_type": "stream",
     "text": [
      "[INFO    ] 2020-03-18 03:18:24 [pickle_serializer.py] [load:15] Pickle load : cache/demo_reco/reco_item_cluster.ps\n",
      "[INFO    ] 2020-03-18 03:18:24 [pickle_serializer.py] [load:15] Pickle load : cache/demo_reco/reco_cluster_user.ps\n"
     ]
    }
   ],
   "source": [
    "reco_item_cluster = ps.load('cache/demo_reco/reco_item_cluster.ps')\n",
    "reco_cluster_user = ps.load('cache/demo_reco/reco_cluster_user.ps')"
   ]
  },
  {
   "cell_type": "code",
   "execution_count": 16,
   "metadata": {},
   "outputs": [
    {
     "data": {
      "text/plain": [
       "dict_keys(['cluster', 'reco_p_item_cluster'])"
      ]
     },
     "execution_count": 16,
     "metadata": {},
     "output_type": "execute_result"
    }
   ],
   "source": [
    "reco_item_cluster.keys()"
   ]
  },
  {
   "cell_type": "code",
   "execution_count": 17,
   "metadata": {},
   "outputs": [],
   "source": [
    "_reco_p_item_cluster = reco_item_cluster['reco_p_item_cluster']"
   ]
  },
  {
   "cell_type": "code",
   "execution_count": 18,
   "metadata": {},
   "outputs": [
    {
     "data": {
      "text/plain": [
       "dict_keys(['user_count', 'cluster', 'reco_p_cluster_user', 'reco_user_id_dic'])"
      ]
     },
     "execution_count": 18,
     "metadata": {},
     "output_type": "execute_result"
    }
   ],
   "source": [
    "reco_cluster_user.keys()"
   ]
  },
  {
   "cell_type": "code",
   "execution_count": 19,
   "metadata": {},
   "outputs": [],
   "source": [
    "_reco_user_id_dic = reco_cluster_user['reco_user_id_dic']\n",
    "_cluster = reco_cluster_user['cluster']\n",
    "_reco_p_cluster_user = reco_cluster_user['reco_p_cluster_user']"
   ]
  },
  {
   "cell_type": "code",
   "execution_count": 20,
   "metadata": {},
   "outputs": [],
   "source": [
    "def make_reco(user_id):\n",
    "    \n",
    "    if user_id in _reco_user_id_dic:    \n",
    "        cluster = _reco_p_cluster_user[_reco_user_id_dic[user_id]]\n",
    "    else:\n",
    "        cluster = [1./_cluster for _ in range(_cluster)]\n",
    "    \n",
    "    dic = defaultdict(float)\n",
    "    for k in range(_cluster):\n",
    "        for item, prob in _reco_p_item_cluster[k].items():\n",
    "            dic[item]+= prob*cluster[k]\n",
    "    return sorted(dic.items(), key = lambda x: -x[1])[:10]"
   ]
  },
  {
   "cell_type": "code",
   "execution_count": 21,
   "metadata": {},
   "outputs": [],
   "source": [
    "a = make_reco(478117)"
   ]
  },
  {
   "cell_type": "code",
   "execution_count": 22,
   "metadata": {},
   "outputs": [],
   "source": [
    "b = {123:a, 133:a}"
   ]
  },
  {
   "cell_type": "code",
   "execution_count": 23,
   "metadata": {},
   "outputs": [
    {
     "data": {
      "text/plain": [
       "dict_keys([123, 133])"
      ]
     },
     "execution_count": 23,
     "metadata": {},
     "output_type": "execute_result"
    }
   ],
   "source": [
    "b.keys()"
   ]
  },
  {
   "cell_type": "code",
   "execution_count": 24,
   "metadata": {},
   "outputs": [
    {
     "data": {
      "text/plain": [
       "{123: [(17982, 0.002276975676420655),\n",
       "  (29835, 0.0017865985399487534),\n",
       "  (39427, 0.0017187136211895887),\n",
       "  (42886, 0.0016688283139483396),\n",
       "  (75845, 0.0016553292809951534),\n",
       "  (80938, 0.0016460698405256343),\n",
       "  (14497, 0.001615838859243333),\n",
       "  (41928, 0.0015686362589538412),\n",
       "  (80471, 0.0015276446945529452),\n",
       "  (91109, 0.0015160138472513109)],\n",
       " 133: [(17982, 0.002276975676420655),\n",
       "  (29835, 0.0017865985399487534),\n",
       "  (39427, 0.0017187136211895887),\n",
       "  (42886, 0.0016688283139483396),\n",
       "  (75845, 0.0016553292809951534),\n",
       "  (80938, 0.0016460698405256343),\n",
       "  (14497, 0.001615838859243333),\n",
       "  (41928, 0.0015686362589538412),\n",
       "  (80471, 0.0015276446945529452),\n",
       "  (91109, 0.0015160138472513109)]}"
      ]
     },
     "execution_count": 24,
     "metadata": {},
     "output_type": "execute_result"
    }
   ],
   "source": [
    "b"
   ]
  },
  {
   "cell_type": "markdown",
   "metadata": {},
   "source": [
    "## 유저 선호도"
   ]
  },
  {
   "cell_type": "code",
   "execution_count": 25,
   "metadata": {},
   "outputs": [],
   "source": [
    "user_ids = [i for i in range(10)]"
   ]
  },
  {
   "cell_type": "code",
   "execution_count": 26,
   "metadata": {},
   "outputs": [],
   "source": [
    "result = []\n",
    "for user_id in user_ids:\n",
    "    stat= np.random.choice(['pass', 'choice', 'click'],p=[0.4, 0.3, 0.3])\n",
    "    if stat == 'pass':\n",
    "        continue\n",
    "    elif stat == 'choice':\n",
    "        pass\n",
    "    else:\n",
    "        pass"
   ]
  },
  {
   "cell_type": "code",
   "execution_count": null,
   "metadata": {},
   "outputs": [],
   "source": []
  },
  {
   "cell_type": "code",
   "execution_count": 48,
   "metadata": {},
   "outputs": [],
   "source": [
    "d = [[1,2],[3,4],[5,6]]"
   ]
  },
  {
   "cell_type": "code",
   "execution_count": null,
   "metadata": {},
   "outputs": [],
   "source": [
    "e = list(zip(*d))"
   ]
  },
  {
   "cell_type": "code",
   "execution_count": null,
   "metadata": {},
   "outputs": [],
   "source": [
    "list(zip(*e))"
   ]
  },
  {
   "cell_type": "code",
   "execution_count": 52,
   "metadata": {},
   "outputs": [
    {
     "data": {
      "text/plain": [
       "{1, 3, 5}"
      ]
     },
     "execution_count": 52,
     "metadata": {},
     "output_type": "execute_result"
    }
   ],
   "source": [
    "set(list(zip(*d))[0])"
   ]
  },
  {
   "cell_type": "code",
   "execution_count": 43,
   "metadata": {},
   "outputs": [
    {
     "data": {
      "text/plain": [
       "[(1, 3, 5), (2, 4, 6)]"
      ]
     },
     "execution_count": 43,
     "metadata": {},
     "output_type": "execute_result"
    }
   ],
   "source": [
    "list(zip(*d.__iter__()))"
   ]
  },
  {
   "cell_type": "code",
   "execution_count": null,
   "metadata": {},
   "outputs": [],
   "source": [
    "def func(*a):\n",
    "    print(*a)"
   ]
  },
  {
   "cell_type": "code",
   "execution_count": null,
   "metadata": {},
   "outputs": [],
   "source": [
    "func(*e)"
   ]
  },
  {
   "cell_type": "code",
   "execution_count": null,
   "metadata": {},
   "outputs": [],
   "source": [
    "q, w = list(zip(*d))"
   ]
  },
  {
   "cell_type": "code",
   "execution_count": null,
   "metadata": {},
   "outputs": [],
   "source": [
    "q"
   ]
  },
  {
   "cell_type": "code",
   "execution_count": 44,
   "metadata": {},
   "outputs": [
    {
     "data": {
      "text/plain": [
       "{1: 0.3, 2: 0.4}"
      ]
     },
     "execution_count": 44,
     "metadata": {},
     "output_type": "execute_result"
    }
   ],
   "source": [
    "{1:0.3, 2:0.4}"
   ]
  },
  {
   "cell_type": "code",
   "execution_count": 45,
   "metadata": {},
   "outputs": [],
   "source": [
    "import json"
   ]
  },
  {
   "cell_type": "code",
   "execution_count": 47,
   "metadata": {},
   "outputs": [
    {
     "data": {
      "text/plain": [
       "{'1': 0.3, '2': 0.4}"
      ]
     },
     "execution_count": 47,
     "metadata": {},
     "output_type": "execute_result"
    }
   ],
   "source": [
    "json.loads(json.dumps({1:0.3, 2:0.4}))"
   ]
  },
  {
   "cell_type": "code",
   "execution_count": 55,
   "metadata": {},
   "outputs": [
    {
     "data": {
      "text/plain": [
       "{1, 2}"
      ]
     },
     "execution_count": 55,
     "metadata": {},
     "output_type": "execute_result"
    }
   ],
   "source": [
    "set(np.array([1,2]))"
   ]
  },
  {
   "cell_type": "code",
   "execution_count": 56,
   "metadata": {},
   "outputs": [],
   "source": [
    "a, b = 1, 2\n"
   ]
  },
  {
   "cell_type": "code",
   "execution_count": null,
   "metadata": {},
   "outputs": [],
   "source": []
  }
 ],
 "metadata": {
  "kernelspec": {
   "display_name": "Python 3",
   "language": "python",
   "name": "python3"
  },
  "language_info": {
   "codemirror_mode": {
    "name": "ipython",
    "version": 3
   },
   "file_extension": ".py",
   "mimetype": "text/x-python",
   "name": "python",
   "nbconvert_exporter": "python",
   "pygments_lexer": "ipython3",
   "version": "3.7.0"
  },
  "toc": {
   "base_numbering": 1,
   "nav_menu": {},
   "number_sections": true,
   "sideBar": true,
   "skip_h1_title": false,
   "title_cell": "Table of Contents",
   "title_sidebar": "Contents",
   "toc_cell": false,
   "toc_position": {},
   "toc_section_display": true,
   "toc_window_display": false
  },
  "varInspector": {
   "cols": {
    "lenName": 16,
    "lenType": 16,
    "lenVar": 40
   },
   "kernels_config": {
    "python": {
     "delete_cmd_postfix": "",
     "delete_cmd_prefix": "del ",
     "library": "var_list.py",
     "varRefreshCmd": "print(var_dic_list())"
    },
    "r": {
     "delete_cmd_postfix": ") ",
     "delete_cmd_prefix": "rm(",
     "library": "var_list.r",
     "varRefreshCmd": "cat(var_dic_list()) "
    }
   },
   "types_to_exclude": [
    "module",
    "function",
    "builtin_function_or_method",
    "instance",
    "_Feature"
   ],
   "window_display": false
  }
 },
 "nbformat": 4,
 "nbformat_minor": 4
}
