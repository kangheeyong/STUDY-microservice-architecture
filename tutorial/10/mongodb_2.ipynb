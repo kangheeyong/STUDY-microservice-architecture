{
 "cells": [
  {
   "cell_type": "code",
   "execution_count": 32,
   "metadata": {},
   "outputs": [],
   "source": [
    "from pymongo import MongoClient"
   ]
  },
  {
   "cell_type": "code",
   "execution_count": 33,
   "metadata": {},
   "outputs": [],
   "source": [
    "client = MongoClient('mongodb://127.0.0.1:27017')"
   ]
  },
  {
   "cell_type": "code",
   "execution_count": 34,
   "metadata": {},
   "outputs": [
    {
     "data": {
      "text/plain": [
       "['admin', 'config', 'dbtest', 'demo_data', 'local']"
      ]
     },
     "execution_count": 34,
     "metadata": {},
     "output_type": "execute_result"
    }
   ],
   "source": [
    "client.list_database_names()"
   ]
  },
  {
   "cell_type": "code",
   "execution_count": 35,
   "metadata": {},
   "outputs": [],
   "source": [
    "db = client['demo_data']"
   ]
  },
  {
   "cell_type": "code",
   "execution_count": 168,
   "metadata": {},
   "outputs": [
    {
     "data": {
      "text/plain": [
       "[{'name': 'imp',\n",
       "  'type': 'collection',\n",
       "  'options': {},\n",
       "  'info': {'readOnly': False,\n",
       "   'uuid': UUID('1e06462a-a53d-4df9-a0a1-7243172a0c5b')},\n",
       "  'idIndex': {'v': 2,\n",
       "   'key': {'_id': 1},\n",
       "   'name': '_id_',\n",
       "   'ns': 'demo_data.imp'}},\n",
       " {'name': 'choice',\n",
       "  'type': 'collection',\n",
       "  'options': {},\n",
       "  'info': {'readOnly': False,\n",
       "   'uuid': UUID('39764074-458f-4df2-9fcd-8e1414b1d030')},\n",
       "  'idIndex': {'v': 2,\n",
       "   'key': {'_id': 1},\n",
       "   'name': '_id_',\n",
       "   'ns': 'demo_data.choice'}},\n",
       " {'name': 'click',\n",
       "  'type': 'collection',\n",
       "  'options': {},\n",
       "  'info': {'readOnly': False,\n",
       "   'uuid': UUID('99e8f5d4-1e46-45d0-bb9e-0882c01c05b7')},\n",
       "  'idIndex': {'v': 2,\n",
       "   'key': {'_id': 1},\n",
       "   'name': '_id_',\n",
       "   'ns': 'demo_data.click'}}]"
      ]
     },
     "execution_count": 168,
     "metadata": {},
     "output_type": "execute_result"
    }
   ],
   "source": [
    "list(db.list_collections())"
   ]
  },
  {
   "cell_type": "code",
   "execution_count": 190,
   "metadata": {},
   "outputs": [
    {
     "data": {
      "text/plain": [
       "[{'_id': ObjectId('5e787bff6f6211145378162b'),\n",
       "  'user_id': '142367',\n",
       "  'item_id': '36018',\n",
       "  'bucket': 'test_default',\n",
       "  'stat': 'click',\n",
       "  'type': 'user_feedback',\n",
       "  'timestamp': 1584954102,\n",
       "  'ttl': datetime.datetime(2020, 3, 23, 9, 6, 7, 423000)},\n",
       " {'_id': ObjectId('5e787bff6f6211145378162c'),\n",
       "  'user_id': '235990',\n",
       "  'item_id': '10842',\n",
       "  'bucket': 'test_default',\n",
       "  'stat': 'click',\n",
       "  'type': 'user_feedback',\n",
       "  'timestamp': 1584954102,\n",
       "  'ttl': datetime.datetime(2020, 3, 23, 9, 6, 7, 423000)},\n",
       " {'_id': ObjectId('5e787bff6f6211145378162d'),\n",
       "  'user_id': '778447',\n",
       "  'item_id': '10842',\n",
       "  'bucket': 'test1',\n",
       "  'stat': 'click',\n",
       "  'type': 'user_feedback',\n",
       "  'timestamp': 1584954117,\n",
       "  'ttl': datetime.datetime(2020, 3, 23, 9, 6, 7, 423000)},\n",
       " {'_id': ObjectId('5e787bff6f6211145378162e'),\n",
       "  'user_id': '159930',\n",
       "  'item_id': '4909',\n",
       "  'bucket': 'test_default',\n",
       "  'stat': 'click',\n",
       "  'type': 'user_feedback',\n",
       "  'timestamp': 1584954117,\n",
       "  'ttl': datetime.datetime(2020, 3, 23, 9, 6, 7, 423000)},\n",
       " {'_id': ObjectId('5e787bff6f6211145378162f'),\n",
       "  'user_id': '102813',\n",
       "  'item_id': '36018',\n",
       "  'bucket': 'test_default',\n",
       "  'stat': 'click',\n",
       "  'type': 'user_feedback',\n",
       "  'timestamp': 1584954117,\n",
       "  'ttl': datetime.datetime(2020, 3, 23, 9, 6, 7, 423000)},\n",
       " {'_id': ObjectId('5e787bff6f62111453781630'),\n",
       "  'user_id': '273360',\n",
       "  'item_id': '10842',\n",
       "  'bucket': 'test_default',\n",
       "  'stat': 'click',\n",
       "  'type': 'user_feedback',\n",
       "  'timestamp': 1584954117,\n",
       "  'ttl': datetime.datetime(2020, 3, 23, 9, 6, 7, 423000)},\n",
       " {'_id': ObjectId('5e787bff6f62111453781631'),\n",
       "  'user_id': '570355',\n",
       "  'item_id': '10842',\n",
       "  'bucket': 'test1',\n",
       "  'stat': 'click',\n",
       "  'type': 'user_feedback',\n",
       "  'timestamp': 1584954117,\n",
       "  'ttl': datetime.datetime(2020, 3, 23, 9, 6, 7, 423000)},\n",
       " {'_id': ObjectId('5e787bff6f62111453781632'),\n",
       "  'user_id': '234758',\n",
       "  'item_id': '10842',\n",
       "  'bucket': 'test_default',\n",
       "  'stat': 'click',\n",
       "  'type': 'user_feedback',\n",
       "  'timestamp': 1584954117,\n",
       "  'ttl': datetime.datetime(2020, 3, 23, 9, 6, 7, 423000)},\n",
       " {'_id': ObjectId('5e787bff6f62111453781633'),\n",
       "  'user_id': '337048',\n",
       "  'item_id': '10842',\n",
       "  'bucket': 'test_default',\n",
       "  'stat': 'click',\n",
       "  'type': 'user_feedback',\n",
       "  'timestamp': 1584954133,\n",
       "  'ttl': datetime.datetime(2020, 3, 23, 9, 6, 7, 423000)},\n",
       " {'_id': ObjectId('5e787bff6f62111453781634'),\n",
       "  'user_id': '275186',\n",
       "  'item_id': '10842',\n",
       "  'bucket': 'test_default',\n",
       "  'stat': 'click',\n",
       "  'type': 'user_feedback',\n",
       "  'timestamp': 1584954133,\n",
       "  'ttl': datetime.datetime(2020, 3, 23, 9, 6, 7, 423000)},\n",
       " {'_id': ObjectId('5e787bff6f62111453781635'),\n",
       "  'user_id': '525969',\n",
       "  'item_id': '36018',\n",
       "  'bucket': 'test_default',\n",
       "  'stat': 'click',\n",
       "  'type': 'user_feedback',\n",
       "  'timestamp': 1584954148,\n",
       "  'ttl': datetime.datetime(2020, 3, 23, 9, 6, 7, 423000)},\n",
       " {'_id': ObjectId('5e787bff6f62111453781636'),\n",
       "  'user_id': '773731',\n",
       "  'item_id': '14497',\n",
       "  'bucket': 'test_default',\n",
       "  'stat': 'click',\n",
       "  'type': 'user_feedback',\n",
       "  'timestamp': 1584954148,\n",
       "  'ttl': datetime.datetime(2020, 3, 23, 9, 6, 7, 423000)},\n",
       " {'_id': ObjectId('5e787bff6f62111453781637'),\n",
       "  'user_id': '662411',\n",
       "  'item_id': '10842',\n",
       "  'bucket': 'test1',\n",
       "  'stat': 'click',\n",
       "  'type': 'user_feedback',\n",
       "  'timestamp': 1584954163,\n",
       "  'ttl': datetime.datetime(2020, 3, 23, 9, 6, 7, 423000)},\n",
       " {'_id': ObjectId('5e787bff6f62111453781638'),\n",
       "  'user_id': '865122',\n",
       "  'item_id': '36018',\n",
       "  'bucket': 'test1',\n",
       "  'stat': 'click',\n",
       "  'type': 'user_feedback',\n",
       "  'timestamp': 1584954178,\n",
       "  'ttl': datetime.datetime(2020, 3, 23, 9, 6, 7, 423000)},\n",
       " {'_id': ObjectId('5e787bff6f62111453781639'),\n",
       "  'user_id': '26796',\n",
       "  'item_id': '17982',\n",
       "  'bucket': 'test1',\n",
       "  'stat': 'click',\n",
       "  'type': 'user_feedback',\n",
       "  'timestamp': 1584954178,\n",
       "  'ttl': datetime.datetime(2020, 3, 23, 9, 6, 7, 423000)},\n",
       " {'_id': ObjectId('5e787bff6f6211145378163a'),\n",
       "  'user_id': '245337',\n",
       "  'item_id': '10842',\n",
       "  'bucket': 'test1',\n",
       "  'stat': 'click',\n",
       "  'type': 'user_feedback',\n",
       "  'timestamp': 1584954194,\n",
       "  'ttl': datetime.datetime(2020, 3, 23, 9, 6, 7, 423000)},\n",
       " {'_id': ObjectId('5e787bff6f6211145378163b'),\n",
       "  'user_id': '365444',\n",
       "  'item_id': '17982',\n",
       "  'bucket': 'test1',\n",
       "  'stat': 'click',\n",
       "  'type': 'user_feedback',\n",
       "  'timestamp': 1584954194,\n",
       "  'ttl': datetime.datetime(2020, 3, 23, 9, 6, 7, 423000)},\n",
       " {'_id': ObjectId('5e787bff6f6211145378163c'),\n",
       "  'user_id': '590511',\n",
       "  'item_id': '36018',\n",
       "  'bucket': 'test1',\n",
       "  'stat': 'click',\n",
       "  'type': 'user_feedback',\n",
       "  'timestamp': 1584954209,\n",
       "  'ttl': datetime.datetime(2020, 3, 23, 9, 6, 7, 423000)},\n",
       " {'_id': ObjectId('5e787bff6f6211145378163d'),\n",
       "  'user_id': '801817',\n",
       "  'item_id': '36018',\n",
       "  'bucket': 'test_default',\n",
       "  'stat': 'click',\n",
       "  'type': 'user_feedback',\n",
       "  'timestamp': 1584954209,\n",
       "  'ttl': datetime.datetime(2020, 3, 23, 9, 6, 7, 423000)},\n",
       " {'_id': ObjectId('5e787bff6f6211145378163e'),\n",
       "  'user_id': '930679',\n",
       "  'item_id': '10842',\n",
       "  'bucket': 'test1',\n",
       "  'stat': 'click',\n",
       "  'type': 'user_feedback',\n",
       "  'timestamp': 1584954209,\n",
       "  'ttl': datetime.datetime(2020, 3, 23, 9, 6, 7, 423000)},\n",
       " {'_id': ObjectId('5e787bff6f6211145378163f'),\n",
       "  'user_id': '140976',\n",
       "  'item_id': '36018',\n",
       "  'bucket': 'test_default',\n",
       "  'stat': 'click',\n",
       "  'type': 'user_feedback',\n",
       "  'timestamp': 1584954209,\n",
       "  'ttl': datetime.datetime(2020, 3, 23, 9, 6, 7, 423000)},\n",
       " {'_id': ObjectId('5e787bff6f62111453781640'),\n",
       "  'user_id': '633119',\n",
       "  'item_id': '10842',\n",
       "  'bucket': 'test1',\n",
       "  'stat': 'click',\n",
       "  'type': 'user_feedback',\n",
       "  'timestamp': 1584954226,\n",
       "  'ttl': datetime.datetime(2020, 3, 23, 9, 6, 7, 423000)},\n",
       " {'_id': ObjectId('5e787bff6f62111453781641'),\n",
       "  'user_id': '341560',\n",
       "  'item_id': '14497',\n",
       "  'bucket': 'test1',\n",
       "  'stat': 'click',\n",
       "  'type': 'user_feedback',\n",
       "  'timestamp': 1584954226,\n",
       "  'ttl': datetime.datetime(2020, 3, 23, 9, 6, 7, 423000)},\n",
       " {'_id': ObjectId('5e787bff6f62111453781642'),\n",
       "  'user_id': '525329',\n",
       "  'item_id': '36018',\n",
       "  'bucket': 'test1',\n",
       "  'stat': 'click',\n",
       "  'type': 'user_feedback',\n",
       "  'timestamp': 1584954241,\n",
       "  'ttl': datetime.datetime(2020, 3, 23, 9, 6, 7, 423000)},\n",
       " {'_id': ObjectId('5e787bff6f62111453781643'),\n",
       "  'user_id': '221768',\n",
       "  'item_id': '10842',\n",
       "  'bucket': 'test1',\n",
       "  'stat': 'click',\n",
       "  'type': 'user_feedback',\n",
       "  'timestamp': 1584954241,\n",
       "  'ttl': datetime.datetime(2020, 3, 23, 9, 6, 7, 423000)},\n",
       " {'_id': ObjectId('5e787bff6f62111453781644'),\n",
       "  'user_id': '23613',\n",
       "  'item_id': '36018',\n",
       "  'bucket': 'test_default',\n",
       "  'stat': 'click',\n",
       "  'type': 'user_feedback',\n",
       "  'timestamp': 1584954256,\n",
       "  'ttl': datetime.datetime(2020, 3, 23, 9, 6, 7, 423000)},\n",
       " {'_id': ObjectId('5e787bff6f62111453781645'),\n",
       "  'user_id': '743667',\n",
       "  'item_id': '10842',\n",
       "  'bucket': 'test1',\n",
       "  'stat': 'click',\n",
       "  'type': 'user_feedback',\n",
       "  'timestamp': 1584954272,\n",
       "  'ttl': datetime.datetime(2020, 3, 23, 9, 6, 7, 423000)},\n",
       " {'_id': ObjectId('5e787bff6f62111453781646'),\n",
       "  'user_id': '39556',\n",
       "  'item_id': '36018',\n",
       "  'bucket': 'test_default',\n",
       "  'stat': 'click',\n",
       "  'type': 'user_feedback',\n",
       "  'timestamp': 1584954295.6663597,\n",
       "  'ttl': datetime.datetime(2020, 3, 23, 9, 6, 7, 423000)},\n",
       " {'_id': ObjectId('5e787bff6f62111453781647'),\n",
       "  'user_id': '767834',\n",
       "  'item_id': '14497',\n",
       "  'bucket': 'test1',\n",
       "  'stat': 'click',\n",
       "  'type': 'user_feedback',\n",
       "  'timestamp': 1584954295.6663597,\n",
       "  'ttl': datetime.datetime(2020, 3, 23, 9, 6, 7, 423000)},\n",
       " {'_id': ObjectId('5e787bff6f62111453781648'),\n",
       "  'user_id': '706195',\n",
       "  'item_id': '36018',\n",
       "  'bucket': 'test_default',\n",
       "  'stat': 'click',\n",
       "  'type': 'user_feedback',\n",
       "  'timestamp': 1584954310.2613657,\n",
       "  'ttl': datetime.datetime(2020, 3, 23, 9, 6, 7, 423000)},\n",
       " {'_id': ObjectId('5e787bff6f62111453781649'),\n",
       "  'user_id': '228979',\n",
       "  'item_id': '14497',\n",
       "  'bucket': 'test_default',\n",
       "  'stat': 'click',\n",
       "  'type': 'user_feedback',\n",
       "  'timestamp': 1584954326.9318902,\n",
       "  'ttl': datetime.datetime(2020, 3, 23, 9, 6, 7, 423000)},\n",
       " {'_id': ObjectId('5e787bff6f6211145378164a'),\n",
       "  'user_id': '10138',\n",
       "  'item_id': '10842',\n",
       "  'bucket': 'test_default',\n",
       "  'stat': 'click',\n",
       "  'type': 'user_feedback',\n",
       "  'timestamp': 1584954326.9318902,\n",
       "  'ttl': datetime.datetime(2020, 3, 23, 9, 6, 7, 423000)},\n",
       " {'_id': ObjectId('5e787bff6f6211145378164b'),\n",
       "  'user_id': '218662',\n",
       "  'item_id': '36018',\n",
       "  'bucket': 'test1',\n",
       "  'stat': 'click',\n",
       "  'type': 'user_feedback',\n",
       "  'timestamp': 1584954341.9632237,\n",
       "  'ttl': datetime.datetime(2020, 3, 23, 9, 6, 7, 423000)},\n",
       " {'_id': ObjectId('5e787bff6f6211145378164c'),\n",
       "  'user_id': '387764',\n",
       "  'item_id': '36018',\n",
       "  'bucket': 'test_default',\n",
       "  'stat': 'click',\n",
       "  'type': 'user_feedback',\n",
       "  'timestamp': 1584954341.9632237,\n",
       "  'ttl': datetime.datetime(2020, 3, 23, 9, 6, 7, 423000)},\n",
       " {'_id': ObjectId('5e787bff6f6211145378164d'),\n",
       "  'user_id': '484420',\n",
       "  'item_id': '10842',\n",
       "  'bucket': 'test_default',\n",
       "  'stat': 'click',\n",
       "  'type': 'user_feedback',\n",
       "  'timestamp': 1584954341.9632237,\n",
       "  'ttl': datetime.datetime(2020, 3, 23, 9, 6, 7, 423000)},\n",
       " {'_id': ObjectId('5e787bff6f6211145378164e'),\n",
       "  'user_id': '559489',\n",
       "  'item_id': '36018',\n",
       "  'bucket': 'test1',\n",
       "  'stat': 'click',\n",
       "  'type': 'user_feedback',\n",
       "  'timestamp': 1584954358.2735682,\n",
       "  'ttl': datetime.datetime(2020, 3, 23, 9, 6, 7, 423000)},\n",
       " {'_id': ObjectId('5e787ddf25d58900154eebe4'),\n",
       "  'user_id': '247077',\n",
       "  'item_id': '10842',\n",
       "  'bucket': 'test1',\n",
       "  'stat': 'click',\n",
       "  'type': 'user_feedback',\n",
       "  'timestamp': 1584954650.4547632,\n",
       "  'ttl': datetime.datetime(2020, 3, 23, 9, 14, 7, 507000)},\n",
       " {'_id': ObjectId('5e787ddf25d58900154eebe5'),\n",
       "  'user_id': '14540',\n",
       "  'item_id': '10842',\n",
       "  'bucket': 'test_default',\n",
       "  'stat': 'click',\n",
       "  'type': 'user_feedback',\n",
       "  'timestamp': 1584954650.4547632,\n",
       "  'ttl': datetime.datetime(2020, 3, 23, 9, 14, 7, 507000)},\n",
       " {'_id': ObjectId('5e787ddf25d58900154eebe6'),\n",
       "  'user_id': '700944',\n",
       "  'item_id': '10842',\n",
       "  'bucket': 'test1',\n",
       "  'stat': 'click',\n",
       "  'type': 'user_feedback',\n",
       "  'timestamp': 1584954666.9250164,\n",
       "  'ttl': datetime.datetime(2020, 3, 23, 9, 14, 7, 507000)},\n",
       " {'_id': ObjectId('5e787ddf25d58900154eebe7'),\n",
       "  'user_id': '277389',\n",
       "  'item_id': '4909',\n",
       "  'bucket': 'test_default',\n",
       "  'stat': 'click',\n",
       "  'type': 'user_feedback',\n",
       "  'timestamp': 1584954697.82097,\n",
       "  'ttl': datetime.datetime(2020, 3, 23, 9, 14, 7, 507000)},\n",
       " {'_id': ObjectId('5e787ddf25d58900154eebe8'),\n",
       "  'user_id': '631335',\n",
       "  'item_id': '4909',\n",
       "  'bucket': 'test1',\n",
       "  'stat': 'click',\n",
       "  'type': 'user_feedback',\n",
       "  'timestamp': 1584954729.718945,\n",
       "  'ttl': datetime.datetime(2020, 3, 23, 9, 14, 7, 507000)},\n",
       " {'_id': ObjectId('5e787ddf25d58900154eebe9'),\n",
       "  'user_id': '95590',\n",
       "  'item_id': '4909',\n",
       "  'bucket': 'test1',\n",
       "  'stat': 'click',\n",
       "  'type': 'user_feedback',\n",
       "  'timestamp': 1584954729.718945,\n",
       "  'ttl': datetime.datetime(2020, 3, 23, 9, 14, 7, 507000)},\n",
       " {'_id': ObjectId('5e787ddf25d58900154eebea'),\n",
       "  'user_id': '841801',\n",
       "  'item_id': '36018',\n",
       "  'bucket': 'test_default',\n",
       "  'stat': 'click',\n",
       "  'type': 'user_feedback',\n",
       "  'timestamp': 1584954729.718945,\n",
       "  'ttl': datetime.datetime(2020, 3, 23, 9, 14, 7, 507000)},\n",
       " {'_id': ObjectId('5e787ddf25d58900154eebeb'),\n",
       "  'user_id': '837703',\n",
       "  'item_id': '10842',\n",
       "  'bucket': 'test_default',\n",
       "  'stat': 'click',\n",
       "  'type': 'user_feedback',\n",
       "  'timestamp': 1584954729.718945,\n",
       "  'ttl': datetime.datetime(2020, 3, 23, 9, 14, 7, 507000)},\n",
       " {'_id': ObjectId('5e787ddf25d58900154eebec'),\n",
       "  'user_id': '323697',\n",
       "  'item_id': '36018',\n",
       "  'bucket': 'test1',\n",
       "  'stat': 'click',\n",
       "  'type': 'user_feedback',\n",
       "  'timestamp': 1584954744.4758573,\n",
       "  'ttl': datetime.datetime(2020, 3, 23, 9, 14, 7, 507000)},\n",
       " {'_id': ObjectId('5e787ddf25d58900154eebed'),\n",
       "  'user_id': '544303',\n",
       "  'item_id': '4909',\n",
       "  'bucket': 'test_default',\n",
       "  'stat': 'click',\n",
       "  'type': 'user_feedback',\n",
       "  'timestamp': 1584954760.5293548,\n",
       "  'ttl': datetime.datetime(2020, 3, 23, 9, 14, 7, 507000)},\n",
       " {'_id': ObjectId('5e787ddf25d58900154eebee'),\n",
       "  'user_id': '558678',\n",
       "  'item_id': '36018',\n",
       "  'bucket': 'test_default',\n",
       "  'stat': 'click',\n",
       "  'type': 'user_feedback',\n",
       "  'timestamp': 1584954760.5293548,\n",
       "  'ttl': datetime.datetime(2020, 3, 23, 9, 14, 7, 507000)},\n",
       " {'_id': ObjectId('5e787ddf25d58900154eebef'),\n",
       "  'user_id': '767719',\n",
       "  'item_id': '36018',\n",
       "  'bucket': 'test_default',\n",
       "  'stat': 'click',\n",
       "  'type': 'user_feedback',\n",
       "  'timestamp': 1584954775.1353865,\n",
       "  'ttl': datetime.datetime(2020, 3, 23, 9, 14, 7, 507000)},\n",
       " {'_id': ObjectId('5e787ddf25d58900154eebf0'),\n",
       "  'user_id': '703672',\n",
       "  'item_id': '36018',\n",
       "  'bucket': 'test_default',\n",
       "  'stat': 'click',\n",
       "  'type': 'user_feedback',\n",
       "  'timestamp': 1584954775.1353865,\n",
       "  'ttl': datetime.datetime(2020, 3, 23, 9, 14, 7, 507000)},\n",
       " {'_id': ObjectId('5e787ddf25d58900154eebf1'),\n",
       "  'user_id': '247833',\n",
       "  'item_id': '10842',\n",
       "  'bucket': 'test_default',\n",
       "  'stat': 'click',\n",
       "  'type': 'user_feedback',\n",
       "  'timestamp': 1584954791.6688633,\n",
       "  'ttl': datetime.datetime(2020, 3, 23, 9, 14, 7, 507000)},\n",
       " {'_id': ObjectId('5e787ddf25d58900154eebf2'),\n",
       "  'user_id': '600109',\n",
       "  'item_id': '10842',\n",
       "  'bucket': 'test1',\n",
       "  'stat': 'click',\n",
       "  'type': 'user_feedback',\n",
       "  'timestamp': 1584954791.6688633,\n",
       "  'ttl': datetime.datetime(2020, 3, 23, 9, 14, 7, 507000)},\n",
       " {'_id': ObjectId('5e787ddf25d58900154eebf3'),\n",
       "  'user_id': '35042',\n",
       "  'item_id': '10842',\n",
       "  'bucket': 'test1',\n",
       "  'stat': 'click',\n",
       "  'type': 'user_feedback',\n",
       "  'timestamp': 1584954791.6688633,\n",
       "  'ttl': datetime.datetime(2020, 3, 23, 9, 14, 7, 507000)},\n",
       " {'_id': ObjectId('5e787ddf25d58900154eebf4'),\n",
       "  'user_id': '149083',\n",
       "  'item_id': '36018',\n",
       "  'bucket': 'test_default',\n",
       "  'stat': 'click',\n",
       "  'type': 'user_feedback',\n",
       "  'timestamp': 1584954791.6688633,\n",
       "  'ttl': datetime.datetime(2020, 3, 23, 9, 14, 7, 507000)},\n",
       " {'_id': ObjectId('5e787ddf25d58900154eebf5'),\n",
       "  'user_id': '738539',\n",
       "  'item_id': '36018',\n",
       "  'bucket': 'test_default',\n",
       "  'stat': 'click',\n",
       "  'type': 'user_feedback',\n",
       "  'timestamp': 1584954791.6688633,\n",
       "  'ttl': datetime.datetime(2020, 3, 23, 9, 14, 7, 507000)},\n",
       " {'_id': ObjectId('5e787ddf25d58900154eebf6'),\n",
       "  'user_id': '730601',\n",
       "  'item_id': '36018',\n",
       "  'bucket': 'test_default',\n",
       "  'stat': 'click',\n",
       "  'type': 'user_feedback',\n",
       "  'timestamp': 1584954791.6688633,\n",
       "  'ttl': datetime.datetime(2020, 3, 23, 9, 14, 7, 507000)},\n",
       " {'_id': ObjectId('5e787ddf25d58900154eebf7'),\n",
       "  'user_id': '394349',\n",
       "  'item_id': '36018',\n",
       "  'bucket': 'test_default',\n",
       "  'stat': 'click',\n",
       "  'type': 'user_feedback',\n",
       "  'timestamp': 1584954806.9864705,\n",
       "  'ttl': datetime.datetime(2020, 3, 23, 9, 14, 7, 507000)},\n",
       " {'_id': ObjectId('5e787ddf25d58900154eebf8'),\n",
       "  'user_id': '322319',\n",
       "  'item_id': '36018',\n",
       "  'bucket': 'test_default',\n",
       "  'stat': 'click',\n",
       "  'type': 'user_feedback',\n",
       "  'timestamp': 1584954806.9864705,\n",
       "  'ttl': datetime.datetime(2020, 3, 23, 9, 14, 7, 507000)},\n",
       " {'_id': ObjectId('5e787ddf25d58900154eebf9'),\n",
       "  'user_id': '537876',\n",
       "  'item_id': '10842',\n",
       "  'bucket': 'test_default',\n",
       "  'stat': 'click',\n",
       "  'type': 'user_feedback',\n",
       "  'timestamp': 1584954806.9864705,\n",
       "  'ttl': datetime.datetime(2020, 3, 23, 9, 14, 7, 507000)},\n",
       " {'_id': ObjectId('5e787ddf25d58900154eebfa'),\n",
       "  'user_id': '192879',\n",
       "  'item_id': '10842',\n",
       "  'bucket': 'test_default',\n",
       "  'stat': 'click',\n",
       "  'type': 'user_feedback',\n",
       "  'timestamp': 1584954821.9642391,\n",
       "  'ttl': datetime.datetime(2020, 3, 23, 9, 14, 7, 507000)},\n",
       " {'_id': ObjectId('5e787ddf25d58900154eebfb'),\n",
       "  'user_id': '755978',\n",
       "  'item_id': '36018',\n",
       "  'bucket': 'test_default',\n",
       "  'stat': 'click',\n",
       "  'type': 'user_feedback',\n",
       "  'timestamp': 1584954838.0893896,\n",
       "  'ttl': datetime.datetime(2020, 3, 23, 9, 14, 7, 507000)},\n",
       " {'_id': ObjectId('5e787ddf25d58900154eebfc'),\n",
       "  'user_id': '12966',\n",
       "  'item_id': '36018',\n",
       "  'bucket': 'test_default',\n",
       "  'stat': 'click',\n",
       "  'type': 'user_feedback',\n",
       "  'timestamp': 1584954838.0893896,\n",
       "  'ttl': datetime.datetime(2020, 3, 23, 9, 14, 7, 507000)},\n",
       " {'_id': ObjectId('5e787ddf25d58900154eebfd'),\n",
       "  'user_id': '328883',\n",
       "  'item_id': '10842',\n",
       "  'bucket': 'test1',\n",
       "  'stat': 'click',\n",
       "  'type': 'user_feedback',\n",
       "  'timestamp': 1584954838.0893896,\n",
       "  'ttl': datetime.datetime(2020, 3, 23, 9, 14, 7, 507000)},\n",
       " {'_id': ObjectId('5e787ddf25d58900154eebfe'),\n",
       "  'user_id': '48100',\n",
       "  'item_id': '36018',\n",
       "  'bucket': 'test_default',\n",
       "  'stat': 'click',\n",
       "  'type': 'user_feedback',\n",
       "  'timestamp': 1584954838.0893896,\n",
       "  'ttl': datetime.datetime(2020, 3, 23, 9, 14, 7, 507000)},\n",
       " {'_id': ObjectId('5e787df925d58900154efdcb'),\n",
       "  'user_id': '226311',\n",
       "  'item_id': '36018',\n",
       "  'bucket': 'test_default',\n",
       "  'stat': 'click',\n",
       "  'type': 'user_feedback',\n",
       "  'timestamp': 1584954868.652317,\n",
       "  'ttl': datetime.datetime(2020, 3, 23, 9, 14, 33, 657000)},\n",
       " {'_id': ObjectId('5e787e1425d58900154f0020'),\n",
       "  'user_id': '878524',\n",
       "  'item_id': '10842',\n",
       "  'bucket': 'test_default',\n",
       "  'stat': 'click',\n",
       "  'type': 'user_feedback',\n",
       "  'timestamp': 1584954885.5731328,\n",
       "  'ttl': datetime.datetime(2020, 3, 23, 9, 15, 0, 704000)},\n",
       " {'_id': ObjectId('5e787e1425d58900154f0021'),\n",
       "  'user_id': '59300',\n",
       "  'item_id': '17982',\n",
       "  'bucket': 'test1',\n",
       "  'stat': 'click',\n",
       "  'type': 'user_feedback',\n",
       "  'timestamp': 1584954885.5731328,\n",
       "  'ttl': datetime.datetime(2020, 3, 23, 9, 15, 0, 704000)},\n",
       " {'_id': ObjectId('5e787e1425d58900154f0022'),\n",
       "  'user_id': '373870',\n",
       "  'item_id': '10842',\n",
       "  'bucket': 'test1',\n",
       "  'stat': 'click',\n",
       "  'type': 'user_feedback',\n",
       "  'timestamp': 1584954885.5731328,\n",
       "  'ttl': datetime.datetime(2020, 3, 23, 9, 15, 0, 704000)},\n",
       " {'_id': ObjectId('5e787e1425d58900154f0023'),\n",
       "  'user_id': '997187',\n",
       "  'item_id': '10842',\n",
       "  'bucket': 'test1',\n",
       "  'stat': 'click',\n",
       "  'type': 'user_feedback',\n",
       "  'timestamp': 1584954885.5731328,\n",
       "  'ttl': datetime.datetime(2020, 3, 23, 9, 15, 0, 704000)},\n",
       " {'_id': ObjectId('5e787e3725d58900154f01ca'),\n",
       "  'user_id': '907993',\n",
       "  'item_id': '10842',\n",
       "  'bucket': 'test1',\n",
       "  'stat': 'click',\n",
       "  'type': 'user_feedback',\n",
       "  'timestamp': 1584954901.8299453,\n",
       "  'ttl': datetime.datetime(2020, 3, 23, 9, 15, 35, 329000)},\n",
       " {'_id': ObjectId('5e787e3725d58900154f01cb'),\n",
       "  'user_id': '825390',\n",
       "  'item_id': '36018',\n",
       "  'bucket': 'test1',\n",
       "  'stat': 'click',\n",
       "  'type': 'user_feedback',\n",
       "  'timestamp': 1584954901.8299453,\n",
       "  'ttl': datetime.datetime(2020, 3, 23, 9, 15, 35, 329000)},\n",
       " {'_id': ObjectId('5e787e3725d58900154f01cc'),\n",
       "  'user_id': '595009',\n",
       "  'item_id': '10842',\n",
       "  'bucket': 'test_default',\n",
       "  'stat': 'click',\n",
       "  'type': 'user_feedback',\n",
       "  'timestamp': 1584954901.8299453,\n",
       "  'ttl': datetime.datetime(2020, 3, 23, 9, 15, 35, 329000)},\n",
       " {'_id': ObjectId('5e787e3725d58900154f01cd'),\n",
       "  'user_id': '608825',\n",
       "  'item_id': '10842',\n",
       "  'bucket': 'test1',\n",
       "  'stat': 'click',\n",
       "  'type': 'user_feedback',\n",
       "  'timestamp': 1584954916.0185072,\n",
       "  'ttl': datetime.datetime(2020, 3, 23, 9, 15, 35, 329000)},\n",
       " {'_id': ObjectId('5e787e3725d58900154f01ce'),\n",
       "  'user_id': '698664',\n",
       "  'item_id': '4909',\n",
       "  'bucket': 'test1',\n",
       "  'stat': 'click',\n",
       "  'type': 'user_feedback',\n",
       "  'timestamp': 1584954916.0185072,\n",
       "  'ttl': datetime.datetime(2020, 3, 23, 9, 15, 35, 329000)},\n",
       " {'_id': ObjectId('5e787e3725d58900154f01cf'),\n",
       "  'user_id': '342988',\n",
       "  'item_id': '36018',\n",
       "  'bucket': 'test1',\n",
       "  'stat': 'click',\n",
       "  'type': 'user_feedback',\n",
       "  'timestamp': 1584954916.0185072,\n",
       "  'ttl': datetime.datetime(2020, 3, 23, 9, 15, 35, 329000)}]"
      ]
     },
     "execution_count": 190,
     "metadata": {},
     "output_type": "execute_result"
    }
   ],
   "source": [
    "list(db.click.find().sort('timestamp',1))"
   ]
  },
  {
   "cell_type": "code",
   "execution_count": 185,
   "metadata": {},
   "outputs": [
    {
     "data": {
      "text/plain": [
       "(1584953201, 1584953234143, 1584954102)"
      ]
     },
     "execution_count": 185,
     "metadata": {},
     "output_type": "execute_result"
    }
   ],
   "source": [
    "now_t,1584953234143,1584954102"
   ]
  },
  {
   "cell_type": "code",
   "execution_count": 160,
   "metadata": {},
   "outputs": [
    {
     "data": {
      "text/plain": [
       "0"
      ]
     },
     "execution_count": 160,
     "metadata": {},
     "output_type": "execute_result"
    }
   ],
   "source": [
    "db.click.count_documents({'$and':[\n",
    "    {'datatime':{'$gte':int((now_t-timedelta(hours=1)).timestamp())}},\n",
    "    {'datatime':{'$lt':int(now_t.timestamp())}}\n",
    "     ]})"
   ]
  },
  {
   "cell_type": "code",
   "execution_count": 192,
   "metadata": {},
   "outputs": [
    {
     "data": {
      "text/plain": [
       "68"
      ]
     },
     "execution_count": 192,
     "metadata": {},
     "output_type": "execute_result"
    }
   ],
   "source": [
    "db.click.count_documents(\n",
    "    {'timestamp': {'$lte':now_t}}\n",
    "    )"
   ]
  },
  {
   "cell_type": "code",
   "execution_count": 144,
   "metadata": {},
   "outputs": [
    {
     "data": {
      "text/plain": [
       "4"
      ]
     },
     "execution_count": 144,
     "metadata": {},
     "output_type": "execute_result"
    }
   ],
   "source": [
    "db.click.count_documents(\n",
    "    {'datatime':1584946663277}\n",
    "    )"
   ]
  },
  {
   "cell_type": "code",
   "execution_count": 90,
   "metadata": {},
   "outputs": [
    {
     "data": {
      "text/plain": [
       "1584950223.688311"
      ]
     },
     "execution_count": 90,
     "metadata": {},
     "output_type": "execute_result"
    }
   ],
   "source": [
    "now_t.timestamp()"
   ]
  },
  {
   "cell_type": "code",
   "execution_count": null,
   "metadata": {},
   "outputs": [],
   "source": []
  },
  {
   "cell_type": "code",
   "execution_count": 39,
   "metadata": {},
   "outputs": [
    {
     "data": {
      "text/plain": [
       "['test1', 'test_default']"
      ]
     },
     "execution_count": 39,
     "metadata": {},
     "output_type": "execute_result"
    }
   ],
   "source": [
    "db.click.distinct('bucket')"
   ]
  },
  {
   "cell_type": "code",
   "execution_count": 177,
   "metadata": {},
   "outputs": [
    {
     "name": "stdout",
     "output_type": "stream",
     "text": [
      "19\n",
      "20\n"
     ]
    }
   ],
   "source": [
    "for bucket in db.click.distinct('bucket'):\n",
    "    print(db.click.count_documents({'bucket': bucket}))"
   ]
  },
  {
   "cell_type": "code",
   "execution_count": 46,
   "metadata": {},
   "outputs": [],
   "source": [
    "import time\n",
    "from datetime import datetime, timedelta"
   ]
  },
  {
   "cell_type": "code",
   "execution_count": 186,
   "metadata": {},
   "outputs": [],
   "source": [
    "now_t = int(time.time())"
   ]
  },
  {
   "cell_type": "code",
   "execution_count": 187,
   "metadata": {},
   "outputs": [
    {
     "data": {
      "text/plain": [
       "1584954899"
      ]
     },
     "execution_count": 187,
     "metadata": {},
     "output_type": "execute_result"
    }
   ],
   "source": [
    "now_t"
   ]
  },
  {
   "cell_type": "code",
   "execution_count": 188,
   "metadata": {},
   "outputs": [
    {
     "ename": "SyntaxError",
     "evalue": "invalid syntax (<ipython-input-188-046536f42caa>, line 1)",
     "output_type": "error",
     "traceback": [
      "\u001b[0;36m  File \u001b[0;32m\"<ipython-input-188-046536f42caa>\"\u001b[0;36m, line \u001b[0;32m1\u001b[0m\n\u001b[0;31m    {'$and':{{'$gte':(now_t-timedelta(hours=1)).timestamp()}},{'$lt':now_t.timestamp()}}\u001b[0m\n\u001b[0m                                                                                       ^\u001b[0m\n\u001b[0;31mSyntaxError\u001b[0m\u001b[0;31m:\u001b[0m invalid syntax\n"
     ]
    }
   ],
   "source": [
    "{'$and':{{'$gte':(now_t-timedelta(hours=1)).timestamp()}},{'$lt':now_t.timestamp()}}"
   ]
  },
  {
   "cell_type": "code",
   "execution_count": 157,
   "metadata": {},
   "outputs": [
    {
     "data": {
      "text/plain": [
       "1584949033"
      ]
     },
     "execution_count": 157,
     "metadata": {},
     "output_type": "execute_result"
    }
   ],
   "source": [
    "int((now_t-timedelta(hours=1)).timestamp())"
   ]
  },
  {
   "cell_type": "code",
   "execution_count": 53,
   "metadata": {},
   "outputs": [
    {
     "data": {
      "text/plain": [
       "datetime.datetime(2020, 3, 23, 16, 36, 44, 846950)"
      ]
     },
     "execution_count": 53,
     "metadata": {},
     "output_type": "execute_result"
    }
   ],
   "source": [
    "t"
   ]
  },
  {
   "cell_type": "code",
   "execution_count": 59,
   "metadata": {},
   "outputs": [
    {
     "data": {
      "text/plain": [
       "True"
      ]
     },
     "execution_count": 59,
     "metadata": {},
     "output_type": "execute_result"
    }
   ],
   "source": [
    "t < datetime.now()"
   ]
  },
  {
   "cell_type": "code",
   "execution_count": 60,
   "metadata": {},
   "outputs": [
    {
     "ename": "TypeError",
     "evalue": "Tuple or struct_time argument required",
     "output_type": "error",
     "traceback": [
      "\u001b[0;31m---------------------------------------------------------------------------\u001b[0m",
      "\u001b[0;31mTypeError\u001b[0m                                 Traceback (most recent call last)",
      "\u001b[0;32m<ipython-input-60-fb887755aa64>\u001b[0m in \u001b[0;36m<module>\u001b[0;34m\u001b[0m\n\u001b[0;32m----> 1\u001b[0;31m \u001b[0mtime\u001b[0m\u001b[0;34m.\u001b[0m\u001b[0mmktime\u001b[0m\u001b[0;34m(\u001b[0m\u001b[0mt\u001b[0m\u001b[0;34m)\u001b[0m\u001b[0;34m\u001b[0m\u001b[0m\n\u001b[0m",
      "\u001b[0;31mTypeError\u001b[0m: Tuple or struct_time argument required"
     ]
    }
   ],
   "source": [
    "time.mktime(t)"
   ]
  },
  {
   "cell_type": "code",
   "execution_count": 61,
   "metadata": {},
   "outputs": [
    {
     "data": {
      "text/plain": [
       "1584949004.84695"
      ]
     },
     "execution_count": 61,
     "metadata": {},
     "output_type": "execute_result"
    }
   ],
   "source": [
    "t.timestamp()"
   ]
  },
  {
   "cell_type": "code",
   "execution_count": 193,
   "metadata": {},
   "outputs": [],
   "source": [
    "a = dict()"
   ]
  },
  {
   "cell_type": "code",
   "execution_count": 194,
   "metadata": {},
   "outputs": [
    {
     "data": {
      "text/plain": [
       "{}"
      ]
     },
     "execution_count": 194,
     "metadata": {},
     "output_type": "execute_result"
    }
   ],
   "source": []
  },
  {
   "cell_type": "code",
   "execution_count": null,
   "metadata": {},
   "outputs": [],
   "source": []
  }
 ],
 "metadata": {
  "kernelspec": {
   "display_name": "Python 3",
   "language": "python",
   "name": "python3"
  },
  "language_info": {
   "codemirror_mode": {
    "name": "ipython",
    "version": 3
   },
   "file_extension": ".py",
   "mimetype": "text/x-python",
   "name": "python",
   "nbconvert_exporter": "python",
   "pygments_lexer": "ipython3",
   "version": "3.7.0"
  },
  "toc": {
   "base_numbering": 1,
   "nav_menu": {},
   "number_sections": true,
   "sideBar": true,
   "skip_h1_title": false,
   "title_cell": "Table of Contents",
   "title_sidebar": "Contents",
   "toc_cell": false,
   "toc_position": {},
   "toc_section_display": true,
   "toc_window_display": false
  },
  "varInspector": {
   "cols": {
    "lenName": 16,
    "lenType": 16,
    "lenVar": 40
   },
   "kernels_config": {
    "python": {
     "delete_cmd_postfix": "",
     "delete_cmd_prefix": "del ",
     "library": "var_list.py",
     "varRefreshCmd": "print(var_dic_list())"
    },
    "r": {
     "delete_cmd_postfix": ") ",
     "delete_cmd_prefix": "rm(",
     "library": "var_list.r",
     "varRefreshCmd": "cat(var_dic_list()) "
    }
   },
   "types_to_exclude": [
    "module",
    "function",
    "builtin_function_or_method",
    "instance",
    "_Feature"
   ],
   "window_display": false
  }
 },
 "nbformat": 4,
 "nbformat_minor": 4
}
