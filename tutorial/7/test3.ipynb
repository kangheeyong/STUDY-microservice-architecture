{
 "cells": [
  {
   "cell_type": "code",
   "execution_count": 68,
   "metadata": {},
   "outputs": [],
   "source": [
    "from googleapiclient.discovery import build\n",
    "\n",
    "from Feynman.serialize import Pickle_serializer\n",
    "\n",
    "\n",
    "_ps = Pickle_serializer()"
   ]
  },
  {
   "cell_type": "code",
   "execution_count": 69,
   "metadata": {},
   "outputs": [
    {
     "name": "stderr",
     "output_type": "stream",
     "text": [
      "[INFO    ] 2020-03-15 00:27:38 [pickle_serializer.py] [load:15] Pickle load : token.pickle\n"
     ]
    }
   ],
   "source": [
    "creds = _ps.load('token.pickle')\n",
    "service = build('drive', 'v3', credentials=creds)"
   ]
  },
  {
   "cell_type": "code",
   "execution_count": 40,
   "metadata": {},
   "outputs": [
    {
     "name": "stdout",
     "output_type": "stream",
     "text": [
      "Files:\n",
      "token.pickle (1kXJaX0UVl3e_T5gMDvwNSN8dbzJ1AZef)\n",
      "test2.ps (15kTAWGgGW-U2WgGKGeHQaJh-yNODBInO)\n",
      "token.pickle (173Vib36v2xJRo_zOepyiZb9nU1bUJXQ8)\n",
      "test2.ps (1vXvb-JVcIfvd8cIp8lWZVzGSps0XYz0q)\n",
      "token.pickle (1UdGMO27nsy2zZplE9So5qetuy4zIAoBF)\n",
      "test2.ps (1fSou1RYMpAGmju4nni0B_YBtR5CE74b2)\n",
      "token.pickle (1eBOIEBLpDWs-NF2GlZwTIcEGdnnyH79F)\n",
      "test2.ps (1sFEmD6VbT2hmD694lcLk40JZGhVwk2uS)\n",
      "token.pickle (1h5mhyIkDEsNK6NJ3v0x3zxupzUUdi3yE)\n",
      "test2.ps (11TNbB612zBtekDiZ9od_iCd2QH1ywpyj)\n"
     ]
    }
   ],
   "source": [
    "# Call the Drive v3 API\n",
    "results = service.files().list(\n",
    "        pageSize=10, fields=\"nextPageToken, files(id, name)\").execute()\n",
    "items = results.get('files', [])\n",
    "\n",
    "if not items:\n",
    "    print('No files found.')\n",
    "else:\n",
    "    print('Files:')\n",
    "    for item in items:\n",
    "        print(u'{0} ({1})'.format(item['name'], item['id']))"
   ]
  },
  {
   "cell_type": "code",
   "execution_count": 41,
   "metadata": {},
   "outputs": [
    {
     "data": {
      "text/plain": [
       "{'nextPageToken': '~!!~AI9FV7TA6itX0iXNlj8xAmdTtQlQj11rCiNhFrFQV6KQcvd6L-zDJzQPBDk9TRM_1mgZOqjX12R7Zxs_v0EbF-y_cyopn7cyN-GnLe_n3xCMKxPH47S9dbx8AOWC8kZCmFDQGN60dnWctTecGIxCae53uzgpqeI0vQOS0L5ggiqp_RXg-jd_515CbO0UOFaW5sAphLcedl3c0MOebLipFZIlYGEDddAQML_3XK9O3OxQxxXmYFdzjJiatpftJhmu7IFT-x5tIjGMcGVQZIePkNbvx8ENey68LLdEwoQ7L3R6CAFjUYDUV11Y3d2RzbfUTWDB4Fg2FJYYmxi2Vg08coKXqz6yp9YIJCVnh2O78sOIsmGnVvm1J5JuoJTbp69aMloM1hNbIG0N',\n",
       " 'files': [{'id': '1kXJaX0UVl3e_T5gMDvwNSN8dbzJ1AZef', 'name': 'token.pickle'},\n",
       "  {'id': '15kTAWGgGW-U2WgGKGeHQaJh-yNODBInO', 'name': 'test2.ps'},\n",
       "  {'id': '173Vib36v2xJRo_zOepyiZb9nU1bUJXQ8', 'name': 'token.pickle'},\n",
       "  {'id': '1vXvb-JVcIfvd8cIp8lWZVzGSps0XYz0q', 'name': 'test2.ps'},\n",
       "  {'id': '1UdGMO27nsy2zZplE9So5qetuy4zIAoBF', 'name': 'token.pickle'},\n",
       "  {'id': '1fSou1RYMpAGmju4nni0B_YBtR5CE74b2', 'name': 'test2.ps'},\n",
       "  {'id': '1eBOIEBLpDWs-NF2GlZwTIcEGdnnyH79F', 'name': 'token.pickle'},\n",
       "  {'id': '1sFEmD6VbT2hmD694lcLk40JZGhVwk2uS', 'name': 'test2.ps'},\n",
       "  {'id': '1h5mhyIkDEsNK6NJ3v0x3zxupzUUdi3yE', 'name': 'token.pickle'},\n",
       "  {'id': '11TNbB612zBtekDiZ9od_iCd2QH1ywpyj', 'name': 'test2.ps'}]}"
      ]
     },
     "execution_count": 41,
     "metadata": {},
     "output_type": "execute_result"
    }
   ],
   "source": [
    "results"
   ]
  },
  {
   "cell_type": "code",
   "execution_count": 42,
   "metadata": {},
   "outputs": [
    {
     "data": {
      "text/plain": [
       "['__class__',\n",
       " '__delattr__',\n",
       " '__dict__',\n",
       " '__dir__',\n",
       " '__doc__',\n",
       " '__eq__',\n",
       " '__format__',\n",
       " '__ge__',\n",
       " '__getattribute__',\n",
       " '__getstate__',\n",
       " '__gt__',\n",
       " '__hash__',\n",
       " '__init__',\n",
       " '__init_subclass__',\n",
       " '__le__',\n",
       " '__lt__',\n",
       " '__module__',\n",
       " '__ne__',\n",
       " '__new__',\n",
       " '__reduce__',\n",
       " '__reduce_ex__',\n",
       " '__repr__',\n",
       " '__setattr__',\n",
       " '__setstate__',\n",
       " '__sizeof__',\n",
       " '__str__',\n",
       " '__subclasshook__',\n",
       " '__weakref__',\n",
       " '_add_basic_methods',\n",
       " '_add_nested_resources',\n",
       " '_add_next_methods',\n",
       " '_baseUrl',\n",
       " '_developerKey',\n",
       " '_dynamic_attrs',\n",
       " '_http',\n",
       " '_model',\n",
       " '_requestBuilder',\n",
       " '_resourceDesc',\n",
       " '_rootDesc',\n",
       " '_schema',\n",
       " '_set_dynamic_attr',\n",
       " '_set_service_methods',\n",
       " 'copy',\n",
       " 'create',\n",
       " 'delete',\n",
       " 'emptyTrash',\n",
       " 'export',\n",
       " 'export_media',\n",
       " 'generateIds',\n",
       " 'get',\n",
       " 'get_media',\n",
       " 'list',\n",
       " 'list_next',\n",
       " 'update',\n",
       " 'watch',\n",
       " 'watch_media']"
      ]
     },
     "execution_count": 42,
     "metadata": {},
     "output_type": "execute_result"
    }
   ],
   "source": [
    "dir(service.files())"
   ]
  },
  {
   "cell_type": "code",
   "execution_count": 65,
   "metadata": {},
   "outputs": [],
   "source": [
    "folder_id = '1quTKA43JyrULAZ2kZxS9sQsjfnRNiG-z'\n",
    "file_metadata = {\n",
    "    'name': 'test',\n",
    "    'mimeType': 'application/vnd.google-apps.folder',\n",
    "    #'parents': [folder_id]\n",
    "}\n"
   ]
  },
  {
   "cell_type": "code",
   "execution_count": 66,
   "metadata": {},
   "outputs": [],
   "source": [
    "file = service.files().create(body=file_metadata,\n",
    "                                    fields='').execute()\n"
   ]
  },
  {
   "cell_type": "code",
   "execution_count": 46,
   "metadata": {},
   "outputs": [
    {
     "data": {
      "text/plain": [
       "{'id': '1ERaS_YTarwjDLEDZ0b3YzvNb3Og6RbS1'}"
      ]
     },
     "execution_count": 46,
     "metadata": {},
     "output_type": "execute_result"
    }
   ],
   "source": [
    "file"
   ]
  },
  {
   "cell_type": "code",
   "execution_count": null,
   "metadata": {},
   "outputs": [],
   "source": [
    "file"
   ]
  },
  {
   "cell_type": "code",
   "execution_count": 63,
   "metadata": {},
   "outputs": [],
   "source": [
    "file_name = 'test.ps'\n",
    "folder_id = '1quTKA43JyrULAZ2kZxS9sQsjfnRNiG-z'\n",
    "file_metadata = {\n",
    "    'name': file_name\n",
    "    'parents': [folder_id]\n",
    "}"
   ]
  },
  {
   "cell_type": "code",
   "execution_count": 64,
   "metadata": {},
   "outputs": [
    {
     "ename": "TypeError",
     "evalue": "Missing required parameter \"fileId\"",
     "output_type": "error",
     "traceback": [
      "\u001b[0;31m---------------------------------------------------------------------------\u001b[0m",
      "\u001b[0;31mTypeError\u001b[0m                                 Traceback (most recent call last)",
      "\u001b[0;32m<ipython-input-64-b632bee0ca37>\u001b[0m in \u001b[0;36m<module>\u001b[0;34m\u001b[0m\n\u001b[0;32m----> 1\u001b[0;31m \u001b[0mfile\u001b[0m \u001b[0;34m=\u001b[0m \u001b[0mservice\u001b[0m\u001b[0;34m.\u001b[0m\u001b[0mfiles\u001b[0m\u001b[0;34m(\u001b[0m\u001b[0;34m)\u001b[0m\u001b[0;34m.\u001b[0m\u001b[0mupdate\u001b[0m\u001b[0;34m(\u001b[0m\u001b[0mbody\u001b[0m\u001b[0;34m=\u001b[0m\u001b[0mfile_metadata\u001b[0m\u001b[0;34m,\u001b[0m \u001b[0mmedia_body\u001b[0m\u001b[0;34m=\u001b[0m\u001b[0mfile_name\u001b[0m\u001b[0;34m)\u001b[0m\u001b[0;34m.\u001b[0m\u001b[0mexecute\u001b[0m\u001b[0;34m(\u001b[0m\u001b[0;34m)\u001b[0m\u001b[0;34m\u001b[0m\u001b[0m\n\u001b[0m",
      "\u001b[0;32m~/.local/lib/python3.7/site-packages/googleapiclient/discovery.py\u001b[0m in \u001b[0;36mmethod\u001b[0;34m(self, **kwargs)\u001b[0m\n\u001b[1;32m    751\u001b[0m                     \u001b[0m_methodProperties\u001b[0m\u001b[0;34m(\u001b[0m\u001b[0mmethodDesc\u001b[0m\u001b[0;34m,\u001b[0m \u001b[0mschema\u001b[0m\u001b[0;34m,\u001b[0m \u001b[0;34m\"response\"\u001b[0m\u001b[0;34m)\u001b[0m\u001b[0;34m\u001b[0m\u001b[0m\n\u001b[1;32m    752\u001b[0m                 ):\n\u001b[0;32m--> 753\u001b[0;31m                     \u001b[0;32mraise\u001b[0m \u001b[0mTypeError\u001b[0m\u001b[0;34m(\u001b[0m\u001b[0;34m'Missing required parameter \"%s\"'\u001b[0m \u001b[0;34m%\u001b[0m \u001b[0mname\u001b[0m\u001b[0;34m)\u001b[0m\u001b[0;34m\u001b[0m\u001b[0m\n\u001b[0m\u001b[1;32m    754\u001b[0m \u001b[0;34m\u001b[0m\u001b[0m\n\u001b[1;32m    755\u001b[0m         \u001b[0;32mfor\u001b[0m \u001b[0mname\u001b[0m\u001b[0;34m,\u001b[0m \u001b[0mregex\u001b[0m \u001b[0;32min\u001b[0m \u001b[0msix\u001b[0m\u001b[0;34m.\u001b[0m\u001b[0miteritems\u001b[0m\u001b[0;34m(\u001b[0m\u001b[0mparameters\u001b[0m\u001b[0;34m.\u001b[0m\u001b[0mpattern_params\u001b[0m\u001b[0;34m)\u001b[0m\u001b[0;34m:\u001b[0m\u001b[0;34m\u001b[0m\u001b[0m\n",
      "\u001b[0;31mTypeError\u001b[0m: Missing required parameter \"fileId\""
     ]
    }
   ],
   "source": [
    "file = service.files().update(body=file_metadata, media_body=file_name).execute()"
   ]
  },
  {
   "cell_type": "code",
   "execution_count": null,
   "metadata": {},
   "outputs": [],
   "source": [
    "file"
   ]
  },
  {
   "cell_type": "code",
   "execution_count": null,
   "metadata": {},
   "outputs": [],
   "source": []
  },
  {
   "cell_type": "code",
   "execution_count": 79,
   "metadata": {},
   "outputs": [],
   "source": [
    "results = service.files().list().execute()"
   ]
  },
  {
   "cell_type": "code",
   "execution_count": 80,
   "metadata": {},
   "outputs": [
    {
     "data": {
      "text/plain": [
       "[{'kind': 'drive#file',\n",
       "  'id': '1ccwhtpVa1PBvfjeLqj3ixfgm4n_9pG8G',\n",
       "  'name': 'token.pickle',\n",
       "  'mimeType': 'application/octet-stream'},\n",
       " {'kind': 'drive#file',\n",
       "  'id': '1YanpqMdtht4QMK3dxNjwyfL1GrGUCNT8',\n",
       "  'name': 'test2.ps',\n",
       "  'mimeType': 'application/postscript'},\n",
       " {'kind': 'drive#file',\n",
       "  'id': '1fqZYYaQV3bkaEe1NViARwCc_pYE5Fszq',\n",
       "  'name': 'token.pickle',\n",
       "  'mimeType': 'application/octet-stream'},\n",
       " {'kind': 'drive#file',\n",
       "  'id': '1N29ev8I3hMNAPEiStsvVVi6hAHKwwOTH',\n",
       "  'name': 'test2.ps',\n",
       "  'mimeType': 'application/postscript'},\n",
       " {'kind': 'drive#file',\n",
       "  'id': '154ktii2qIdmqYzH7uW6YPVs-Vp_6zYDv',\n",
       "  'name': 'token.pickle',\n",
       "  'mimeType': 'application/octet-stream'},\n",
       " {'kind': 'drive#file',\n",
       "  'id': '1CVWDLonxhDLcUDBQLlYRmg9gqR1mjM9h',\n",
       "  'name': 'test2.ps',\n",
       "  'mimeType': 'application/postscript'},\n",
       " {'kind': 'drive#file',\n",
       "  'id': '1S8sc7o_2mbHoel8eBkJf4gegKh5GNIJv',\n",
       "  'name': 'test',\n",
       "  'mimeType': 'application/vnd.google-apps.folder'},\n",
       " {'kind': 'drive#file',\n",
       "  'id': '1quTKA43JyrULAZ2kZxS9sQsjfnRNiG-z',\n",
       "  'name': 'demo-reco-system',\n",
       "  'mimeType': 'application/vnd.google-apps.folder'}]"
      ]
     },
     "execution_count": 80,
     "metadata": {},
     "output_type": "execute_result"
    }
   ],
   "source": [
    "results['files']"
   ]
  },
  {
   "cell_type": "code",
   "execution_count": 49,
   "metadata": {},
   "outputs": [
    {
     "data": {
      "text/plain": [
       "{'kind': 'drive#file',\n",
       " 'name': 'test',\n",
       " 'parents': ['1quTKA43JyrULAZ2kZxS9sQsjfnRNiG-z'],\n",
       " 'createdTime': '2020-03-14T12:42:15.549Z',\n",
       " 'modifiedTime': '2020-03-14T12:42:15.549Z'}"
      ]
     },
     "execution_count": 49,
     "metadata": {},
     "output_type": "execute_result"
    }
   ],
   "source": [
    "service.files().get(fileId='1ERaS_YTarwjDLEDZ0b3YzvNb3Og6RbS1',\n",
    "                    fields='parents, kind, name, createdTime, modifiedTime'\n",
    "                   ).execute()"
   ]
  },
  {
   "cell_type": "code",
   "execution_count": null,
   "metadata": {},
   "outputs": [],
   "source": [
    "service.files().get(fileId='15da-SdKPIRz8xk4wMDF6D7GIk_MXzDNZ',\n",
    "                    fields='parents, kind, name, createdTime, modifiedTime'\n",
    "                   ).execute()"
   ]
  },
  {
   "cell_type": "code",
   "execution_count": null,
   "metadata": {},
   "outputs": [],
   "source": [
    "service.files().get(fileId='1quTKA43JyrULAZ2kZxS9sQsjfnRNiG-z',\n",
    "                    fields='parents, kind, name, createdTime, modifiedTime'\n",
    "                   ).execute()"
   ]
  },
  {
   "cell_type": "code",
   "execution_count": null,
   "metadata": {},
   "outputs": [],
   "source": [
    "# service.files().get(fileId='1gEns57S16vFfyv2Od6Q7pF6Iv9cehCqO').execute()"
   ]
  },
  {
   "cell_type": "code",
   "execution_count": null,
   "metadata": {},
   "outputs": [],
   "source": [
    "d1 = service.files().get(fileId='1rFEq_vQErsXez_b385Y0zrLWxM_Md5aH',\n",
    "                    fields='parents, kind, name, createdTime, modifiedTime'\n",
    "                   ).execute()"
   ]
  },
  {
   "cell_type": "code",
   "execution_count": null,
   "metadata": {},
   "outputs": [],
   "source": [
    "d2 = service.files().get(fileId='11Yhe-vkf8xxM5xNDy5s1WtrsNgaNnlFP',\n",
    "                    fields='parents, kind, name, createdTime, modifiedTime'\n",
    "                   ).execute()"
   ]
  },
  {
   "cell_type": "code",
   "execution_count": 78,
   "metadata": {},
   "outputs": [
    {
     "data": {
      "text/plain": [
       "''"
      ]
     },
     "execution_count": 78,
     "metadata": {},
     "output_type": "execute_result"
    }
   ],
   "source": [
    "service.files().delete(fileId='1OdbiIcxnFATXxjF54c7FCcdiDnlnV0Ra').execute()"
   ]
  },
  {
   "cell_type": "code",
   "execution_count": null,
   "metadata": {},
   "outputs": [],
   "source": [
    "service.files().get(fileId='1EmC5TXooqlxxfd6YeI4DjvzLDDrZ7BEg',\n",
    "                    fields='parents, kind, name, createdTime, modifiedTime'\n",
    "                   ).execute()"
   ]
  },
  {
   "cell_type": "code",
   "execution_count": null,
   "metadata": {},
   "outputs": [],
   "source": [
    "service.files().get(fileId='1cPDIw4tFJCwx09IiBIG4od_OItOgp2u1',\n",
    "                    fields='parents, name, createdTime'\n",
    "                   ).execute()"
   ]
  },
  {
   "cell_type": "code",
   "execution_count": null,
   "metadata": {},
   "outputs": [],
   "source": [
    "d1['createdTime'], d2['createdTime']"
   ]
  },
  {
   "cell_type": "code",
   "execution_count": null,
   "metadata": {},
   "outputs": [],
   "source": [
    "max(d1['createdTime'], d2['createdTime'])"
   ]
  },
  {
   "cell_type": "code",
   "execution_count": null,
   "metadata": {},
   "outputs": [],
   "source": [
    "file.iteritems()"
   ]
  },
  {
   "cell_type": "code",
   "execution_count": 95,
   "metadata": {},
   "outputs": [],
   "source": [
    "r = results['files']"
   ]
  },
  {
   "cell_type": "code",
   "execution_count": 96,
   "metadata": {},
   "outputs": [],
   "source": [
    "tmp = [dic for dic in r if 'test2.ps' in dic['name']]"
   ]
  },
  {
   "cell_type": "code",
   "execution_count": 98,
   "metadata": {},
   "outputs": [
    {
     "data": {
      "text/plain": [
       "[{'kind': 'drive#file',\n",
       "  'id': '102cgWQtVchnUkN-MpRfzS5xJhRDXDiOA',\n",
       "  'name': 'test2.ps',\n",
       "  'mimeType': 'application/postscript'},\n",
       " {'kind': 'drive#file',\n",
       "  'id': '1RwG9LoPcyNhIfXbhwH1xPNUf29Hk6tDz',\n",
       "  'name': 'test2.ps',\n",
       "  'mimeType': 'application/postscript'},\n",
       " {'kind': 'drive#file',\n",
       "  'id': '1ox2ymPPrL6UPDPj-dM1H3nlZOwwnhY9u',\n",
       "  'name': 'test2.ps',\n",
       "  'mimeType': 'application/postscript'},\n",
       " {'kind': 'drive#file',\n",
       "  'id': '1UC9ayx7UExRNZNsFXQ76slTB3q5-9f5Z',\n",
       "  'name': 'test2.ps',\n",
       "  'mimeType': 'application/postscript'}]"
      ]
     },
     "execution_count": 98,
     "metadata": {},
     "output_type": "execute_result"
    }
   ],
   "source": [
    "tmp"
   ]
  },
  {
   "cell_type": "code",
   "execution_count": null,
   "metadata": {},
   "outputs": [],
   "source": []
  },
  {
   "cell_type": "code",
   "execution_count": 87,
   "metadata": {},
   "outputs": [],
   "source": [
    "rlist = [dic for dic in r if 'test2.ps' in dic['name']]"
   ]
  },
  {
   "cell_type": "code",
   "execution_count": 90,
   "metadata": {},
   "outputs": [
    {
     "data": {
      "text/plain": [
       "'1UC9ayx7UExRNZNsFXQ76slTB3q5-9f5Z'"
      ]
     },
     "execution_count": 90,
     "metadata": {},
     "output_type": "execute_result"
    }
   ],
   "source": [
    "min(rlist, key = lambda x : x['createdTime'])['id']"
   ]
  },
  {
   "cell_type": "code",
   "execution_count": 111,
   "metadata": {},
   "outputs": [
    {
     "data": {
      "text/plain": [
       "True"
      ]
     },
     "execution_count": 111,
     "metadata": {},
     "output_type": "execute_result"
    }
   ],
   "source": [
    "3 > 3-1"
   ]
  },
  {
   "cell_type": "code",
   "execution_count": null,
   "metadata": {},
   "outputs": [],
   "source": []
  },
  {
   "cell_type": "code",
   "execution_count": 21,
   "metadata": {},
   "outputs": [],
   "source": [
    "import io\n",
    "from six import BytesIO\n",
    "\n",
    "from googleapiclient.http import MediaIoBaseDownload"
   ]
  },
  {
   "cell_type": "code",
   "execution_count": 54,
   "metadata": {},
   "outputs": [],
   "source": [
    "#file_id = '1h5mhyIkDEsNK6NJ3v0x3zxupzUUdi3yE'\n",
    "file_id = '1gyuc_Gmyvp4ApacVbRXn51MEzR-XGKyX'\n",
    "request = service.files().get_media(fileId=file_id)\n",
    "fh = io.FileIO('tmp', 'wb')\n",
    "downloader = MediaIoBaseDownload(fh, request)\n",
    "done = False\n"
   ]
  },
  {
   "cell_type": "code",
   "execution_count": 55,
   "metadata": {},
   "outputs": [
    {
     "name": "stdout",
     "output_type": "stream",
     "text": [
      "Download 100%.\n"
     ]
    }
   ],
   "source": [
    "while done is False:\n",
    "    status, done = downloader.next_chunk()\n",
    "    print('Download {}%.'.format(int(status.progress() * 100)))"
   ]
  },
  {
   "cell_type": "code",
   "execution_count": 38,
   "metadata": {},
   "outputs": [],
   "source": [
    "from apiclient import errors"
   ]
  },
  {
   "cell_type": "code",
   "execution_count": 39,
   "metadata": {},
   "outputs": [
    {
     "data": {
      "text/plain": [
       "<googleapiclient.http.HttpRequest at 0x7ff900ab9a20>"
      ]
     },
     "execution_count": 39,
     "metadata": {},
     "output_type": "execute_result"
    }
   ],
   "source": [
    "request"
   ]
  },
  {
   "cell_type": "code",
   "execution_count": 48,
   "metadata": {},
   "outputs": [
    {
     "data": {
      "text/plain": [
       "['__class__',\n",
       " '__delattr__',\n",
       " '__dict__',\n",
       " '__dir__',\n",
       " '__doc__',\n",
       " '__eq__',\n",
       " '__format__',\n",
       " '__ge__',\n",
       " '__getattribute__',\n",
       " '__gt__',\n",
       " '__hash__',\n",
       " '__init__',\n",
       " '__init_subclass__',\n",
       " '__le__',\n",
       " '__lt__',\n",
       " '__module__',\n",
       " '__ne__',\n",
       " '__new__',\n",
       " '__reduce__',\n",
       " '__reduce_ex__',\n",
       " '__repr__',\n",
       " '__setattr__',\n",
       " '__sizeof__',\n",
       " '__str__',\n",
       " '__subclasshook__',\n",
       " '__weakref__',\n",
       " '_in_error_state',\n",
       " '_process_response',\n",
       " '_rand',\n",
       " '_sleep',\n",
       " 'add_response_callback',\n",
       " 'body',\n",
       " 'body_size',\n",
       " 'execute',\n",
       " 'from_json',\n",
       " 'headers',\n",
       " 'http',\n",
       " 'method',\n",
       " 'methodId',\n",
       " 'next_chunk',\n",
       " 'postproc',\n",
       " 'response_callbacks',\n",
       " 'resumable',\n",
       " 'resumable_progress',\n",
       " 'resumable_uri',\n",
       " 'to_json',\n",
       " 'uri']"
      ]
     },
     "execution_count": 48,
     "metadata": {},
     "output_type": "execute_result"
    }
   ],
   "source": [
    "dir(request)"
   ]
  },
  {
   "cell_type": "code",
   "execution_count": 65,
   "metadata": {},
   "outputs": [],
   "source": [
    "a = [1,2,3,4,5,6,7,8]"
   ]
  },
  {
   "cell_type": "code",
   "execution_count": 67,
   "metadata": {},
   "outputs": [
    {
     "data": {
      "text/plain": [
       "[1, 2, 3, 4, 5, 6]"
      ]
     },
     "execution_count": 67,
     "metadata": {},
     "output_type": "execute_result"
    }
   ],
   "source": [
    "a[:-3+1]"
   ]
  },
  {
   "cell_type": "code",
   "execution_count": 63,
   "metadata": {},
   "outputs": [],
   "source": [
    "a.sort()"
   ]
  },
  {
   "cell_type": "code",
   "execution_count": 64,
   "metadata": {},
   "outputs": [
    {
     "data": {
      "text/plain": [
       "[1, 2, 3, 4, 5, 6, 7, 8]"
      ]
     },
     "execution_count": 64,
     "metadata": {},
     "output_type": "execute_result"
    }
   ],
   "source": [
    "a"
   ]
  },
  {
   "cell_type": "code",
   "execution_count": null,
   "metadata": {},
   "outputs": [],
   "source": []
  }
 ],
 "metadata": {
  "kernelspec": {
   "display_name": "Python 3",
   "language": "python",
   "name": "python3"
  },
  "language_info": {
   "codemirror_mode": {
    "name": "ipython",
    "version": 3
   },
   "file_extension": ".py",
   "mimetype": "text/x-python",
   "name": "python",
   "nbconvert_exporter": "python",
   "pygments_lexer": "ipython3",
   "version": "3.7.0"
  },
  "toc": {
   "base_numbering": 1,
   "nav_menu": {},
   "number_sections": true,
   "sideBar": true,
   "skip_h1_title": false,
   "title_cell": "Table of Contents",
   "title_sidebar": "Contents",
   "toc_cell": false,
   "toc_position": {},
   "toc_section_display": true,
   "toc_window_display": false
  },
  "varInspector": {
   "cols": {
    "lenName": 16,
    "lenType": 16,
    "lenVar": 40
   },
   "kernels_config": {
    "python": {
     "delete_cmd_postfix": "",
     "delete_cmd_prefix": "del ",
     "library": "var_list.py",
     "varRefreshCmd": "print(var_dic_list())"
    },
    "r": {
     "delete_cmd_postfix": ") ",
     "delete_cmd_prefix": "rm(",
     "library": "var_list.r",
     "varRefreshCmd": "cat(var_dic_list()) "
    }
   },
   "types_to_exclude": [
    "module",
    "function",
    "builtin_function_or_method",
    "instance",
    "_Feature"
   ],
   "window_display": false
  }
 },
 "nbformat": 4,
 "nbformat_minor": 4
}
