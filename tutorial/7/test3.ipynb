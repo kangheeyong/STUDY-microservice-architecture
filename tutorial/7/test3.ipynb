{
 "cells": [
  {
   "cell_type": "code",
   "execution_count": 1,
   "metadata": {},
   "outputs": [],
   "source": [
    "from googleapiclient.discovery import build\n",
    "\n",
    "from Feynman.serialize import Pickle_serializer\n",
    "\n",
    "\n",
    "_ps = Pickle_serializer()"
   ]
  },
  {
   "cell_type": "code",
   "execution_count": 2,
   "metadata": {},
   "outputs": [
    {
     "name": "stderr",
     "output_type": "stream",
     "text": [
      "[INFO    ] 2020-03-17 16:11:44 [pickle_serializer.py] [load:15] Pickle load : token.pickle\n"
     ]
    }
   ],
   "source": [
    "creds = _ps.load('token.pickle')\n",
    "service = build('drive', 'v3', credentials=creds)"
   ]
  },
  {
   "cell_type": "code",
   "execution_count": 40,
   "metadata": {},
   "outputs": [
    {
     "name": "stdout",
     "output_type": "stream",
     "text": [
      "Files:\n",
      "token.pickle (1kXJaX0UVl3e_T5gMDvwNSN8dbzJ1AZef)\n",
      "test2.ps (15kTAWGgGW-U2WgGKGeHQaJh-yNODBInO)\n",
      "token.pickle (173Vib36v2xJRo_zOepyiZb9nU1bUJXQ8)\n",
      "test2.ps (1vXvb-JVcIfvd8cIp8lWZVzGSps0XYz0q)\n",
      "token.pickle (1UdGMO27nsy2zZplE9So5qetuy4zIAoBF)\n",
      "test2.ps (1fSou1RYMpAGmju4nni0B_YBtR5CE74b2)\n",
      "token.pickle (1eBOIEBLpDWs-NF2GlZwTIcEGdnnyH79F)\n",
      "test2.ps (1sFEmD6VbT2hmD694lcLk40JZGhVwk2uS)\n",
      "token.pickle (1h5mhyIkDEsNK6NJ3v0x3zxupzUUdi3yE)\n",
      "test2.ps (11TNbB612zBtekDiZ9od_iCd2QH1ywpyj)\n"
     ]
    }
   ],
   "source": [
    "# Call the Drive v3 API\n",
    "results = service.files().list(\n",
    "        pageSize=10, fields=\"nextPageToken, files(id, name)\").execute()\n",
    "items = results.get('files', [])\n",
    "\n",
    "if not items:\n",
    "    print('No files found.')\n",
    "else:\n",
    "    print('Files:')\n",
    "    for item in items:\n",
    "        print(u'{0} ({1})'.format(item['name'], item['id']))"
   ]
  },
  {
   "cell_type": "code",
   "execution_count": 41,
   "metadata": {},
   "outputs": [
    {
     "data": {
      "text/plain": [
       "{'nextPageToken': '~!!~AI9FV7TA6itX0iXNlj8xAmdTtQlQj11rCiNhFrFQV6KQcvd6L-zDJzQPBDk9TRM_1mgZOqjX12R7Zxs_v0EbF-y_cyopn7cyN-GnLe_n3xCMKxPH47S9dbx8AOWC8kZCmFDQGN60dnWctTecGIxCae53uzgpqeI0vQOS0L5ggiqp_RXg-jd_515CbO0UOFaW5sAphLcedl3c0MOebLipFZIlYGEDddAQML_3XK9O3OxQxxXmYFdzjJiatpftJhmu7IFT-x5tIjGMcGVQZIePkNbvx8ENey68LLdEwoQ7L3R6CAFjUYDUV11Y3d2RzbfUTWDB4Fg2FJYYmxi2Vg08coKXqz6yp9YIJCVnh2O78sOIsmGnVvm1J5JuoJTbp69aMloM1hNbIG0N',\n",
       " 'files': [{'id': '1kXJaX0UVl3e_T5gMDvwNSN8dbzJ1AZef', 'name': 'token.pickle'},\n",
       "  {'id': '15kTAWGgGW-U2WgGKGeHQaJh-yNODBInO', 'name': 'test2.ps'},\n",
       "  {'id': '173Vib36v2xJRo_zOepyiZb9nU1bUJXQ8', 'name': 'token.pickle'},\n",
       "  {'id': '1vXvb-JVcIfvd8cIp8lWZVzGSps0XYz0q', 'name': 'test2.ps'},\n",
       "  {'id': '1UdGMO27nsy2zZplE9So5qetuy4zIAoBF', 'name': 'token.pickle'},\n",
       "  {'id': '1fSou1RYMpAGmju4nni0B_YBtR5CE74b2', 'name': 'test2.ps'},\n",
       "  {'id': '1eBOIEBLpDWs-NF2GlZwTIcEGdnnyH79F', 'name': 'token.pickle'},\n",
       "  {'id': '1sFEmD6VbT2hmD694lcLk40JZGhVwk2uS', 'name': 'test2.ps'},\n",
       "  {'id': '1h5mhyIkDEsNK6NJ3v0x3zxupzUUdi3yE', 'name': 'token.pickle'},\n",
       "  {'id': '11TNbB612zBtekDiZ9od_iCd2QH1ywpyj', 'name': 'test2.ps'}]}"
      ]
     },
     "execution_count": 41,
     "metadata": {},
     "output_type": "execute_result"
    }
   ],
   "source": [
    "results"
   ]
  },
  {
   "cell_type": "code",
   "execution_count": 42,
   "metadata": {},
   "outputs": [
    {
     "data": {
      "text/plain": [
       "['__class__',\n",
       " '__delattr__',\n",
       " '__dict__',\n",
       " '__dir__',\n",
       " '__doc__',\n",
       " '__eq__',\n",
       " '__format__',\n",
       " '__ge__',\n",
       " '__getattribute__',\n",
       " '__getstate__',\n",
       " '__gt__',\n",
       " '__hash__',\n",
       " '__init__',\n",
       " '__init_subclass__',\n",
       " '__le__',\n",
       " '__lt__',\n",
       " '__module__',\n",
       " '__ne__',\n",
       " '__new__',\n",
       " '__reduce__',\n",
       " '__reduce_ex__',\n",
       " '__repr__',\n",
       " '__setattr__',\n",
       " '__setstate__',\n",
       " '__sizeof__',\n",
       " '__str__',\n",
       " '__subclasshook__',\n",
       " '__weakref__',\n",
       " '_add_basic_methods',\n",
       " '_add_nested_resources',\n",
       " '_add_next_methods',\n",
       " '_baseUrl',\n",
       " '_developerKey',\n",
       " '_dynamic_attrs',\n",
       " '_http',\n",
       " '_model',\n",
       " '_requestBuilder',\n",
       " '_resourceDesc',\n",
       " '_rootDesc',\n",
       " '_schema',\n",
       " '_set_dynamic_attr',\n",
       " '_set_service_methods',\n",
       " 'copy',\n",
       " 'create',\n",
       " 'delete',\n",
       " 'emptyTrash',\n",
       " 'export',\n",
       " 'export_media',\n",
       " 'generateIds',\n",
       " 'get',\n",
       " 'get_media',\n",
       " 'list',\n",
       " 'list_next',\n",
       " 'update',\n",
       " 'watch',\n",
       " 'watch_media']"
      ]
     },
     "execution_count": 42,
     "metadata": {},
     "output_type": "execute_result"
    }
   ],
   "source": [
    "dir(service.files())"
   ]
  },
  {
   "cell_type": "code",
   "execution_count": 65,
   "metadata": {},
   "outputs": [],
   "source": [
    "folder_id = '1quTKA43JyrULAZ2kZxS9sQsjfnRNiG-z'\n",
    "file_metadata = {\n",
    "    'name': 'test',\n",
    "    'mimeType': 'application/vnd.google-apps.folder',\n",
    "    #'parents': [folder_id]\n",
    "}\n"
   ]
  },
  {
   "cell_type": "code",
   "execution_count": 66,
   "metadata": {},
   "outputs": [],
   "source": [
    "file = service.files().create(body=file_metadata,\n",
    "                                    fields='').execute()\n"
   ]
  },
  {
   "cell_type": "code",
   "execution_count": 46,
   "metadata": {},
   "outputs": [
    {
     "data": {
      "text/plain": [
       "{'id': '1ERaS_YTarwjDLEDZ0b3YzvNb3Og6RbS1'}"
      ]
     },
     "execution_count": 46,
     "metadata": {},
     "output_type": "execute_result"
    }
   ],
   "source": [
    "file"
   ]
  },
  {
   "cell_type": "code",
   "execution_count": null,
   "metadata": {},
   "outputs": [],
   "source": [
    "file"
   ]
  },
  {
   "cell_type": "code",
   "execution_count": 63,
   "metadata": {},
   "outputs": [],
   "source": [
    "file_name = 'test.ps'\n",
    "folder_id = '1quTKA43JyrULAZ2kZxS9sQsjfnRNiG-z'\n",
    "file_metadata = {\n",
    "    'name': file_name\n",
    "    'parents': [folder_id]\n",
    "}"
   ]
  },
  {
   "cell_type": "code",
   "execution_count": 64,
   "metadata": {},
   "outputs": [
    {
     "ename": "TypeError",
     "evalue": "Missing required parameter \"fileId\"",
     "output_type": "error",
     "traceback": [
      "\u001b[0;31m---------------------------------------------------------------------------\u001b[0m",
      "\u001b[0;31mTypeError\u001b[0m                                 Traceback (most recent call last)",
      "\u001b[0;32m<ipython-input-64-b632bee0ca37>\u001b[0m in \u001b[0;36m<module>\u001b[0;34m\u001b[0m\n\u001b[0;32m----> 1\u001b[0;31m \u001b[0mfile\u001b[0m \u001b[0;34m=\u001b[0m \u001b[0mservice\u001b[0m\u001b[0;34m.\u001b[0m\u001b[0mfiles\u001b[0m\u001b[0;34m(\u001b[0m\u001b[0;34m)\u001b[0m\u001b[0;34m.\u001b[0m\u001b[0mupdate\u001b[0m\u001b[0;34m(\u001b[0m\u001b[0mbody\u001b[0m\u001b[0;34m=\u001b[0m\u001b[0mfile_metadata\u001b[0m\u001b[0;34m,\u001b[0m \u001b[0mmedia_body\u001b[0m\u001b[0;34m=\u001b[0m\u001b[0mfile_name\u001b[0m\u001b[0;34m)\u001b[0m\u001b[0;34m.\u001b[0m\u001b[0mexecute\u001b[0m\u001b[0;34m(\u001b[0m\u001b[0;34m)\u001b[0m\u001b[0;34m\u001b[0m\u001b[0m\n\u001b[0m",
      "\u001b[0;32m~/.local/lib/python3.7/site-packages/googleapiclient/discovery.py\u001b[0m in \u001b[0;36mmethod\u001b[0;34m(self, **kwargs)\u001b[0m\n\u001b[1;32m    751\u001b[0m                     \u001b[0m_methodProperties\u001b[0m\u001b[0;34m(\u001b[0m\u001b[0mmethodDesc\u001b[0m\u001b[0;34m,\u001b[0m \u001b[0mschema\u001b[0m\u001b[0;34m,\u001b[0m \u001b[0;34m\"response\"\u001b[0m\u001b[0;34m)\u001b[0m\u001b[0;34m\u001b[0m\u001b[0m\n\u001b[1;32m    752\u001b[0m                 ):\n\u001b[0;32m--> 753\u001b[0;31m                     \u001b[0;32mraise\u001b[0m \u001b[0mTypeError\u001b[0m\u001b[0;34m(\u001b[0m\u001b[0;34m'Missing required parameter \"%s\"'\u001b[0m \u001b[0;34m%\u001b[0m \u001b[0mname\u001b[0m\u001b[0;34m)\u001b[0m\u001b[0;34m\u001b[0m\u001b[0m\n\u001b[0m\u001b[1;32m    754\u001b[0m \u001b[0;34m\u001b[0m\u001b[0m\n\u001b[1;32m    755\u001b[0m         \u001b[0;32mfor\u001b[0m \u001b[0mname\u001b[0m\u001b[0;34m,\u001b[0m \u001b[0mregex\u001b[0m \u001b[0;32min\u001b[0m \u001b[0msix\u001b[0m\u001b[0;34m.\u001b[0m\u001b[0miteritems\u001b[0m\u001b[0;34m(\u001b[0m\u001b[0mparameters\u001b[0m\u001b[0;34m.\u001b[0m\u001b[0mpattern_params\u001b[0m\u001b[0;34m)\u001b[0m\u001b[0;34m:\u001b[0m\u001b[0;34m\u001b[0m\u001b[0m\n",
      "\u001b[0;31mTypeError\u001b[0m: Missing required parameter \"fileId\""
     ]
    }
   ],
   "source": [
    "file = service.files().update(body=file_metadata, media_body=file_name).execute()"
   ]
  },
  {
   "cell_type": "code",
   "execution_count": null,
   "metadata": {},
   "outputs": [],
   "source": [
    "file"
   ]
  },
  {
   "cell_type": "code",
   "execution_count": null,
   "metadata": {},
   "outputs": [],
   "source": []
  },
  {
   "cell_type": "code",
   "execution_count": 6,
   "metadata": {},
   "outputs": [],
   "source": [
    "results = service.files().list().execute()"
   ]
  },
  {
   "cell_type": "code",
   "execution_count": 7,
   "metadata": {},
   "outputs": [
    {
     "data": {
      "text/plain": [
       "[{'kind': 'drive#file',\n",
       "  'id': '1lg3OR0JSM29a0N6jid8etKM1sd77QNGA',\n",
       "  'name': 'reco_item_cluster.ps',\n",
       "  'mimeType': 'application/postscript'},\n",
       " {'kind': 'drive#file',\n",
       "  'id': '1O1gVU9Ui1vSIfVK9FCO0LfngvKf2qKIg',\n",
       "  'name': 'reco_cluster_user.ps',\n",
       "  'mimeType': 'application/postscript'},\n",
       " {'kind': 'drive#file',\n",
       "  'id': '1KMK45YUTo7vFITN8fH3naQfEQClDkEih',\n",
       "  'name': 'demo_reco',\n",
       "  'mimeType': 'application/vnd.google-apps.folder'},\n",
       " {'kind': 'drive#file',\n",
       "  'id': '1ht0fDDb0cDUxDHfiJVh_eVD3Hzwz0XVD',\n",
       "  'name': 'demo_user.ps',\n",
       "  'mimeType': 'application/postscript'},\n",
       " {'kind': 'drive#file',\n",
       "  'id': '1Z_3JL8yXlD0q2zDHijA18U84FntTOwed',\n",
       "  'name': 'demo_user_data',\n",
       "  'mimeType': 'application/vnd.google-apps.folder'},\n",
       " {'kind': 'drive#file',\n",
       "  'id': '1quTKA43JyrULAZ2kZxS9sQsjfnRNiG-z',\n",
       "  'name': 'demo-reco-system',\n",
       "  'mimeType': 'application/vnd.google-apps.folder'}]"
      ]
     },
     "execution_count": 7,
     "metadata": {},
     "output_type": "execute_result"
    }
   ],
   "source": [
    "results['files']"
   ]
  },
  {
   "cell_type": "code",
   "execution_count": 49,
   "metadata": {},
   "outputs": [
    {
     "data": {
      "text/plain": [
       "{'kind': 'drive#file',\n",
       " 'name': 'test',\n",
       " 'parents': ['1quTKA43JyrULAZ2kZxS9sQsjfnRNiG-z'],\n",
       " 'createdTime': '2020-03-14T12:42:15.549Z',\n",
       " 'modifiedTime': '2020-03-14T12:42:15.549Z'}"
      ]
     },
     "execution_count": 49,
     "metadata": {},
     "output_type": "execute_result"
    }
   ],
   "source": [
    "service.files().get(fileId='1ERaS_YTarwjDLEDZ0b3YzvNb3Og6RbS1',\n",
    "                    fields='parents, kind, name, createdTime, modifiedTime'\n",
    "                   ).execute()"
   ]
  },
  {
   "cell_type": "code",
   "execution_count": null,
   "metadata": {},
   "outputs": [],
   "source": [
    "service.files().get(fileId='15da-SdKPIRz8xk4wMDF6D7GIk_MXzDNZ',\n",
    "                    fields='parents, kind, name, createdTime, modifiedTime'\n",
    "                   ).execute()"
   ]
  },
  {
   "cell_type": "code",
   "execution_count": null,
   "metadata": {},
   "outputs": [],
   "source": [
    "service.files().get(fileId='1quTKA43JyrULAZ2kZxS9sQsjfnRNiG-z',\n",
    "                    fields='parents, kind, name, createdTime, modifiedTime'\n",
    "                   ).execute()"
   ]
  },
  {
   "cell_type": "code",
   "execution_count": null,
   "metadata": {},
   "outputs": [],
   "source": [
    "# service.files().get(fileId='1gEns57S16vFfyv2Od6Q7pF6Iv9cehCqO').execute()"
   ]
  },
  {
   "cell_type": "code",
   "execution_count": null,
   "metadata": {},
   "outputs": [],
   "source": [
    "d1 = service.files().get(fileId='1rFEq_vQErsXez_b385Y0zrLWxM_Md5aH',\n",
    "                    fields='parents, kind, name, createdTime, modifiedTime'\n",
    "                   ).execute()"
   ]
  },
  {
   "cell_type": "code",
   "execution_count": null,
   "metadata": {},
   "outputs": [],
   "source": [
    "d2 = service.files().get(fileId='11Yhe-vkf8xxM5xNDy5s1WtrsNgaNnlFP',\n",
    "                    fields='parents, kind, name, createdTime, modifiedTime'\n",
    "                   ).execute()"
   ]
  },
  {
   "cell_type": "code",
   "execution_count": 5,
   "metadata": {},
   "outputs": [
    {
     "data": {
      "text/plain": [
       "''"
      ]
     },
     "execution_count": 5,
     "metadata": {},
     "output_type": "execute_result"
    }
   ],
   "source": [
    "service.files().delete(fileId='1S8sc7o_2mbHoel8eBkJf4gegKh5GNIJv').execute()"
   ]
  },
  {
   "cell_type": "code",
   "execution_count": null,
   "metadata": {},
   "outputs": [],
   "source": [
    "service.files().get(fileId='1EmC5TXooqlxxfd6YeI4DjvzLDDrZ7BEg',\n",
    "                    fields='parents, kind, name, createdTime, modifiedTime'\n",
    "                   ).execute()"
   ]
  },
  {
   "cell_type": "code",
   "execution_count": null,
   "metadata": {},
   "outputs": [],
   "source": [
    "service.files().get(fileId='1cPDIw4tFJCwx09IiBIG4od_OItOgp2u1',\n",
    "                    fields='parents, name, createdTime'\n",
    "                   ).execute()"
   ]
  },
  {
   "cell_type": "code",
   "execution_count": null,
   "metadata": {},
   "outputs": [],
   "source": [
    "d1['createdTime'], d2['createdTime']"
   ]
  },
  {
   "cell_type": "code",
   "execution_count": null,
   "metadata": {},
   "outputs": [],
   "source": [
    "max(d1['createdTime'], d2['createdTime'])"
   ]
  },
  {
   "cell_type": "code",
   "execution_count": null,
   "metadata": {},
   "outputs": [],
   "source": [
    "file.iteritems()"
   ]
  },
  {
   "cell_type": "code",
   "execution_count": 95,
   "metadata": {},
   "outputs": [],
   "source": [
    "r = results['files']"
   ]
  },
  {
   "cell_type": "code",
   "execution_count": 96,
   "metadata": {},
   "outputs": [],
   "source": [
    "tmp = [dic for dic in r if 'test2.ps' in dic['name']]"
   ]
  },
  {
   "cell_type": "code",
   "execution_count": 98,
   "metadata": {},
   "outputs": [
    {
     "data": {
      "text/plain": [
       "[{'kind': 'drive#file',\n",
       "  'id': '102cgWQtVchnUkN-MpRfzS5xJhRDXDiOA',\n",
       "  'name': 'test2.ps',\n",
       "  'mimeType': 'application/postscript'},\n",
       " {'kind': 'drive#file',\n",
       "  'id': '1RwG9LoPcyNhIfXbhwH1xPNUf29Hk6tDz',\n",
       "  'name': 'test2.ps',\n",
       "  'mimeType': 'application/postscript'},\n",
       " {'kind': 'drive#file',\n",
       "  'id': '1ox2ymPPrL6UPDPj-dM1H3nlZOwwnhY9u',\n",
       "  'name': 'test2.ps',\n",
       "  'mimeType': 'application/postscript'},\n",
       " {'kind': 'drive#file',\n",
       "  'id': '1UC9ayx7UExRNZNsFXQ76slTB3q5-9f5Z',\n",
       "  'name': 'test2.ps',\n",
       "  'mimeType': 'application/postscript'}]"
      ]
     },
     "execution_count": 98,
     "metadata": {},
     "output_type": "execute_result"
    }
   ],
   "source": [
    "tmp"
   ]
  },
  {
   "cell_type": "code",
   "execution_count": null,
   "metadata": {},
   "outputs": [],
   "source": []
  },
  {
   "cell_type": "code",
   "execution_count": 87,
   "metadata": {},
   "outputs": [],
   "source": [
    "rlist = [dic for dic in r if 'test2.ps' in dic['name']]"
   ]
  },
  {
   "cell_type": "code",
   "execution_count": 90,
   "metadata": {},
   "outputs": [
    {
     "data": {
      "text/plain": [
       "'1UC9ayx7UExRNZNsFXQ76slTB3q5-9f5Z'"
      ]
     },
     "execution_count": 90,
     "metadata": {},
     "output_type": "execute_result"
    }
   ],
   "source": [
    "min(rlist, key = lambda x : x['createdTime'])['id']"
   ]
  },
  {
   "cell_type": "code",
   "execution_count": 111,
   "metadata": {},
   "outputs": [
    {
     "data": {
      "text/plain": [
       "True"
      ]
     },
     "execution_count": 111,
     "metadata": {},
     "output_type": "execute_result"
    }
   ],
   "source": [
    "3 > 3-1"
   ]
  },
  {
   "cell_type": "code",
   "execution_count": null,
   "metadata": {},
   "outputs": [],
   "source": []
  },
  {
   "cell_type": "code",
   "execution_count": 21,
   "metadata": {},
   "outputs": [],
   "source": [
    "import io\n",
    "from six import BytesIO\n",
    "\n",
    "from googleapiclient.http import MediaIoBaseDownload"
   ]
  },
  {
   "cell_type": "code",
   "execution_count": 54,
   "metadata": {},
   "outputs": [],
   "source": [
    "#file_id = '1h5mhyIkDEsNK6NJ3v0x3zxupzUUdi3yE'\n",
    "file_id = '1gyuc_Gmyvp4ApacVbRXn51MEzR-XGKyX'\n",
    "request = service.files().get_media(fileId=file_id)\n",
    "fh = io.FileIO('tmp', 'wb')\n",
    "downloader = MediaIoBaseDownload(fh, request)\n",
    "done = False\n"
   ]
  },
  {
   "cell_type": "code",
   "execution_count": 55,
   "metadata": {},
   "outputs": [
    {
     "name": "stdout",
     "output_type": "stream",
     "text": [
      "Download 100%.\n"
     ]
    }
   ],
   "source": [
    "while done is False:\n",
    "    status, done = downloader.next_chunk()\n",
    "    print('Download {}%.'.format(int(status.progress() * 100)))"
   ]
  },
  {
   "cell_type": "code",
   "execution_count": 38,
   "metadata": {},
   "outputs": [],
   "source": [
    "from apiclient import errors"
   ]
  },
  {
   "cell_type": "code",
   "execution_count": 39,
   "metadata": {},
   "outputs": [
    {
     "data": {
      "text/plain": [
       "<googleapiclient.http.HttpRequest at 0x7ff900ab9a20>"
      ]
     },
     "execution_count": 39,
     "metadata": {},
     "output_type": "execute_result"
    }
   ],
   "source": [
    "request"
   ]
  },
  {
   "cell_type": "code",
   "execution_count": 48,
   "metadata": {},
   "outputs": [
    {
     "data": {
      "text/plain": [
       "['__class__',\n",
       " '__delattr__',\n",
       " '__dict__',\n",
       " '__dir__',\n",
       " '__doc__',\n",
       " '__eq__',\n",
       " '__format__',\n",
       " '__ge__',\n",
       " '__getattribute__',\n",
       " '__gt__',\n",
       " '__hash__',\n",
       " '__init__',\n",
       " '__init_subclass__',\n",
       " '__le__',\n",
       " '__lt__',\n",
       " '__module__',\n",
       " '__ne__',\n",
       " '__new__',\n",
       " '__reduce__',\n",
       " '__reduce_ex__',\n",
       " '__repr__',\n",
       " '__setattr__',\n",
       " '__sizeof__',\n",
       " '__str__',\n",
       " '__subclasshook__',\n",
       " '__weakref__',\n",
       " '_in_error_state',\n",
       " '_process_response',\n",
       " '_rand',\n",
       " '_sleep',\n",
       " 'add_response_callback',\n",
       " 'body',\n",
       " 'body_size',\n",
       " 'execute',\n",
       " 'from_json',\n",
       " 'headers',\n",
       " 'http',\n",
       " 'method',\n",
       " 'methodId',\n",
       " 'next_chunk',\n",
       " 'postproc',\n",
       " 'response_callbacks',\n",
       " 'resumable',\n",
       " 'resumable_progress',\n",
       " 'resumable_uri',\n",
       " 'to_json',\n",
       " 'uri']"
      ]
     },
     "execution_count": 48,
     "metadata": {},
     "output_type": "execute_result"
    }
   ],
   "source": [
    "dir(request)"
   ]
  },
  {
   "cell_type": "code",
   "execution_count": 82,
   "metadata": {},
   "outputs": [],
   "source": [
    "a = [1,2,3,4,5,6,7,7]"
   ]
  },
  {
   "cell_type": "code",
   "execution_count": 67,
   "metadata": {},
   "outputs": [
    {
     "data": {
      "text/plain": [
       "[1, 2, 3, 4, 5, 6]"
      ]
     },
     "execution_count": 67,
     "metadata": {},
     "output_type": "execute_result"
    }
   ],
   "source": [
    "a[:-3+1]"
   ]
  },
  {
   "cell_type": "code",
   "execution_count": 63,
   "metadata": {},
   "outputs": [],
   "source": [
    "a.sort()"
   ]
  },
  {
   "cell_type": "code",
   "execution_count": 64,
   "metadata": {},
   "outputs": [
    {
     "data": {
      "text/plain": [
       "[1, 2, 3, 4, 5, 6, 7, 8]"
      ]
     },
     "execution_count": 64,
     "metadata": {},
     "output_type": "execute_result"
    }
   ],
   "source": [
    "a"
   ]
  },
  {
   "cell_type": "code",
   "execution_count": 83,
   "metadata": {},
   "outputs": [
    {
     "data": {
      "text/plain": [
       "{1, 2, 3, 4, 5, 6, 7}"
      ]
     },
     "execution_count": 83,
     "metadata": {},
     "output_type": "execute_result"
    }
   ],
   "source": [
    "{i for i in a}"
   ]
  },
  {
   "cell_type": "code",
   "execution_count": 84,
   "metadata": {},
   "outputs": [],
   "source": [
    "import socket"
   ]
  },
  {
   "cell_type": "code",
   "execution_count": 85,
   "metadata": {},
   "outputs": [
    {
     "data": {
      "text/plain": [
       "['AF_ALG',\n",
       " 'AF_APPLETALK',\n",
       " 'AF_ASH',\n",
       " 'AF_ATMPVC',\n",
       " 'AF_ATMSVC',\n",
       " 'AF_AX25',\n",
       " 'AF_BRIDGE',\n",
       " 'AF_CAN',\n",
       " 'AF_DECnet',\n",
       " 'AF_ECONET',\n",
       " 'AF_INET',\n",
       " 'AF_INET6',\n",
       " 'AF_IPX',\n",
       " 'AF_IRDA',\n",
       " 'AF_KEY',\n",
       " 'AF_LLC',\n",
       " 'AF_NETBEUI',\n",
       " 'AF_NETLINK',\n",
       " 'AF_NETROM',\n",
       " 'AF_PACKET',\n",
       " 'AF_PPPOX',\n",
       " 'AF_RDS',\n",
       " 'AF_ROSE',\n",
       " 'AF_ROUTE',\n",
       " 'AF_SECURITY',\n",
       " 'AF_SNA',\n",
       " 'AF_TIPC',\n",
       " 'AF_UNIX',\n",
       " 'AF_UNSPEC',\n",
       " 'AF_VSOCK',\n",
       " 'AF_WANPIPE',\n",
       " 'AF_X25',\n",
       " 'AI_ADDRCONFIG',\n",
       " 'AI_ALL',\n",
       " 'AI_CANONNAME',\n",
       " 'AI_NUMERICHOST',\n",
       " 'AI_NUMERICSERV',\n",
       " 'AI_PASSIVE',\n",
       " 'AI_V4MAPPED',\n",
       " 'ALG_OP_DECRYPT',\n",
       " 'ALG_OP_ENCRYPT',\n",
       " 'ALG_OP_SIGN',\n",
       " 'ALG_OP_VERIFY',\n",
       " 'ALG_SET_AEAD_ASSOCLEN',\n",
       " 'ALG_SET_AEAD_AUTHSIZE',\n",
       " 'ALG_SET_IV',\n",
       " 'ALG_SET_KEY',\n",
       " 'ALG_SET_OP',\n",
       " 'ALG_SET_PUBKEY',\n",
       " 'AddressFamily',\n",
       " 'AddressInfo',\n",
       " 'CAN_BCM',\n",
       " 'CAN_BCM_RX_CHANGED',\n",
       " 'CAN_BCM_RX_DELETE',\n",
       " 'CAN_BCM_RX_READ',\n",
       " 'CAN_BCM_RX_SETUP',\n",
       " 'CAN_BCM_RX_STATUS',\n",
       " 'CAN_BCM_RX_TIMEOUT',\n",
       " 'CAN_BCM_TX_DELETE',\n",
       " 'CAN_BCM_TX_EXPIRED',\n",
       " 'CAN_BCM_TX_READ',\n",
       " 'CAN_BCM_TX_SEND',\n",
       " 'CAN_BCM_TX_SETUP',\n",
       " 'CAN_BCM_TX_STATUS',\n",
       " 'CAN_EFF_FLAG',\n",
       " 'CAN_EFF_MASK',\n",
       " 'CAN_ERR_FLAG',\n",
       " 'CAN_ERR_MASK',\n",
       " 'CAN_ISOTP',\n",
       " 'CAN_RAW',\n",
       " 'CAN_RAW_ERR_FILTER',\n",
       " 'CAN_RAW_FD_FRAMES',\n",
       " 'CAN_RAW_FILTER',\n",
       " 'CAN_RAW_LOOPBACK',\n",
       " 'CAN_RAW_RECV_OWN_MSGS',\n",
       " 'CAN_RTR_FLAG',\n",
       " 'CAN_SFF_MASK',\n",
       " 'CAPI',\n",
       " 'CMSG_LEN',\n",
       " 'CMSG_SPACE',\n",
       " 'EAGAIN',\n",
       " 'EAI_ADDRFAMILY',\n",
       " 'EAI_AGAIN',\n",
       " 'EAI_BADFLAGS',\n",
       " 'EAI_FAIL',\n",
       " 'EAI_FAMILY',\n",
       " 'EAI_MEMORY',\n",
       " 'EAI_NODATA',\n",
       " 'EAI_NONAME',\n",
       " 'EAI_OVERFLOW',\n",
       " 'EAI_SERVICE',\n",
       " 'EAI_SOCKTYPE',\n",
       " 'EAI_SYSTEM',\n",
       " 'EBADF',\n",
       " 'EWOULDBLOCK',\n",
       " 'INADDR_ALLHOSTS_GROUP',\n",
       " 'INADDR_ANY',\n",
       " 'INADDR_BROADCAST',\n",
       " 'INADDR_LOOPBACK',\n",
       " 'INADDR_MAX_LOCAL_GROUP',\n",
       " 'INADDR_NONE',\n",
       " 'INADDR_UNSPEC_GROUP',\n",
       " 'IOCTL_VM_SOCKETS_GET_LOCAL_CID',\n",
       " 'IPPORT_RESERVED',\n",
       " 'IPPORT_USERRESERVED',\n",
       " 'IPPROTO_AH',\n",
       " 'IPPROTO_DSTOPTS',\n",
       " 'IPPROTO_EGP',\n",
       " 'IPPROTO_ESP',\n",
       " 'IPPROTO_FRAGMENT',\n",
       " 'IPPROTO_GRE',\n",
       " 'IPPROTO_HOPOPTS',\n",
       " 'IPPROTO_ICMP',\n",
       " 'IPPROTO_ICMPV6',\n",
       " 'IPPROTO_IDP',\n",
       " 'IPPROTO_IGMP',\n",
       " 'IPPROTO_IP',\n",
       " 'IPPROTO_IPIP',\n",
       " 'IPPROTO_IPV6',\n",
       " 'IPPROTO_NONE',\n",
       " 'IPPROTO_PIM',\n",
       " 'IPPROTO_PUP',\n",
       " 'IPPROTO_RAW',\n",
       " 'IPPROTO_ROUTING',\n",
       " 'IPPROTO_RSVP',\n",
       " 'IPPROTO_SCTP',\n",
       " 'IPPROTO_TCP',\n",
       " 'IPPROTO_TP',\n",
       " 'IPPROTO_UDP',\n",
       " 'IPV6_CHECKSUM',\n",
       " 'IPV6_DONTFRAG',\n",
       " 'IPV6_DSTOPTS',\n",
       " 'IPV6_HOPLIMIT',\n",
       " 'IPV6_HOPOPTS',\n",
       " 'IPV6_JOIN_GROUP',\n",
       " 'IPV6_LEAVE_GROUP',\n",
       " 'IPV6_MULTICAST_HOPS',\n",
       " 'IPV6_MULTICAST_IF',\n",
       " 'IPV6_MULTICAST_LOOP',\n",
       " 'IPV6_NEXTHOP',\n",
       " 'IPV6_PATHMTU',\n",
       " 'IPV6_PKTINFO',\n",
       " 'IPV6_RECVDSTOPTS',\n",
       " 'IPV6_RECVHOPLIMIT',\n",
       " 'IPV6_RECVHOPOPTS',\n",
       " 'IPV6_RECVPATHMTU',\n",
       " 'IPV6_RECVPKTINFO',\n",
       " 'IPV6_RECVRTHDR',\n",
       " 'IPV6_RECVTCLASS',\n",
       " 'IPV6_RTHDR',\n",
       " 'IPV6_RTHDRDSTOPTS',\n",
       " 'IPV6_RTHDR_TYPE_0',\n",
       " 'IPV6_TCLASS',\n",
       " 'IPV6_UNICAST_HOPS',\n",
       " 'IPV6_V6ONLY',\n",
       " 'IP_ADD_MEMBERSHIP',\n",
       " 'IP_DEFAULT_MULTICAST_LOOP',\n",
       " 'IP_DEFAULT_MULTICAST_TTL',\n",
       " 'IP_DROP_MEMBERSHIP',\n",
       " 'IP_HDRINCL',\n",
       " 'IP_MAX_MEMBERSHIPS',\n",
       " 'IP_MULTICAST_IF',\n",
       " 'IP_MULTICAST_LOOP',\n",
       " 'IP_MULTICAST_TTL',\n",
       " 'IP_OPTIONS',\n",
       " 'IP_RECVOPTS',\n",
       " 'IP_RECVRETOPTS',\n",
       " 'IP_RETOPTS',\n",
       " 'IP_TOS',\n",
       " 'IP_TRANSPARENT',\n",
       " 'IP_TTL',\n",
       " 'IntEnum',\n",
       " 'IntFlag',\n",
       " 'MSG_CMSG_CLOEXEC',\n",
       " 'MSG_CONFIRM',\n",
       " 'MSG_CTRUNC',\n",
       " 'MSG_DONTROUTE',\n",
       " 'MSG_DONTWAIT',\n",
       " 'MSG_EOR',\n",
       " 'MSG_ERRQUEUE',\n",
       " 'MSG_FASTOPEN',\n",
       " 'MSG_MORE',\n",
       " 'MSG_NOSIGNAL',\n",
       " 'MSG_OOB',\n",
       " 'MSG_PEEK',\n",
       " 'MSG_TRUNC',\n",
       " 'MSG_WAITALL',\n",
       " 'MsgFlag',\n",
       " 'NETLINK_CRYPTO',\n",
       " 'NETLINK_DNRTMSG',\n",
       " 'NETLINK_FIREWALL',\n",
       " 'NETLINK_IP6_FW',\n",
       " 'NETLINK_NFLOG',\n",
       " 'NETLINK_ROUTE',\n",
       " 'NETLINK_USERSOCK',\n",
       " 'NETLINK_XFRM',\n",
       " 'NI_DGRAM',\n",
       " 'NI_MAXHOST',\n",
       " 'NI_MAXSERV',\n",
       " 'NI_NAMEREQD',\n",
       " 'NI_NOFQDN',\n",
       " 'NI_NUMERICHOST',\n",
       " 'NI_NUMERICSERV',\n",
       " 'PACKET_BROADCAST',\n",
       " 'PACKET_FASTROUTE',\n",
       " 'PACKET_HOST',\n",
       " 'PACKET_LOOPBACK',\n",
       " 'PACKET_MULTICAST',\n",
       " 'PACKET_OTHERHOST',\n",
       " 'PACKET_OUTGOING',\n",
       " 'PF_CAN',\n",
       " 'PF_PACKET',\n",
       " 'PF_RDS',\n",
       " 'SCM_CREDENTIALS',\n",
       " 'SCM_RIGHTS',\n",
       " 'SHUT_RD',\n",
       " 'SHUT_RDWR',\n",
       " 'SHUT_WR',\n",
       " 'SOCK_CLOEXEC',\n",
       " 'SOCK_DGRAM',\n",
       " 'SOCK_NONBLOCK',\n",
       " 'SOCK_RAW',\n",
       " 'SOCK_RDM',\n",
       " 'SOCK_SEQPACKET',\n",
       " 'SOCK_STREAM',\n",
       " 'SOL_ALG',\n",
       " 'SOL_CAN_BASE',\n",
       " 'SOL_CAN_RAW',\n",
       " 'SOL_IP',\n",
       " 'SOL_SOCKET',\n",
       " 'SOL_TCP',\n",
       " 'SOL_TIPC',\n",
       " 'SOL_UDP',\n",
       " 'SOMAXCONN',\n",
       " 'SO_ACCEPTCONN',\n",
       " 'SO_BINDTODEVICE',\n",
       " 'SO_BROADCAST',\n",
       " 'SO_DEBUG',\n",
       " 'SO_DOMAIN',\n",
       " 'SO_DONTROUTE',\n",
       " 'SO_ERROR',\n",
       " 'SO_KEEPALIVE',\n",
       " 'SO_LINGER',\n",
       " 'SO_MARK',\n",
       " 'SO_OOBINLINE',\n",
       " 'SO_PASSCRED',\n",
       " 'SO_PASSSEC',\n",
       " 'SO_PEERCRED',\n",
       " 'SO_PEERSEC',\n",
       " 'SO_PRIORITY',\n",
       " 'SO_PROTOCOL',\n",
       " 'SO_RCVBUF',\n",
       " 'SO_RCVLOWAT',\n",
       " 'SO_RCVTIMEO',\n",
       " 'SO_REUSEADDR',\n",
       " 'SO_REUSEPORT',\n",
       " 'SO_SNDBUF',\n",
       " 'SO_SNDLOWAT',\n",
       " 'SO_SNDTIMEO',\n",
       " 'SO_TYPE',\n",
       " 'SO_VM_SOCKETS_BUFFER_MAX_SIZE',\n",
       " 'SO_VM_SOCKETS_BUFFER_MIN_SIZE',\n",
       " 'SO_VM_SOCKETS_BUFFER_SIZE',\n",
       " 'SocketIO',\n",
       " 'SocketKind',\n",
       " 'SocketType',\n",
       " 'TCP_CONGESTION',\n",
       " 'TCP_CORK',\n",
       " 'TCP_DEFER_ACCEPT',\n",
       " 'TCP_FASTOPEN',\n",
       " 'TCP_INFO',\n",
       " 'TCP_KEEPCNT',\n",
       " 'TCP_KEEPIDLE',\n",
       " 'TCP_KEEPINTVL',\n",
       " 'TCP_LINGER2',\n",
       " 'TCP_MAXSEG',\n",
       " 'TCP_NODELAY',\n",
       " 'TCP_NOTSENT_LOWAT',\n",
       " 'TCP_QUICKACK',\n",
       " 'TCP_SYNCNT',\n",
       " 'TCP_USER_TIMEOUT',\n",
       " 'TCP_WINDOW_CLAMP',\n",
       " 'TIPC_ADDR_ID',\n",
       " 'TIPC_ADDR_NAME',\n",
       " 'TIPC_ADDR_NAMESEQ',\n",
       " 'TIPC_CFG_SRV',\n",
       " 'TIPC_CLUSTER_SCOPE',\n",
       " 'TIPC_CONN_TIMEOUT',\n",
       " 'TIPC_CRITICAL_IMPORTANCE',\n",
       " 'TIPC_DEST_DROPPABLE',\n",
       " 'TIPC_HIGH_IMPORTANCE',\n",
       " 'TIPC_IMPORTANCE',\n",
       " 'TIPC_LOW_IMPORTANCE',\n",
       " 'TIPC_MEDIUM_IMPORTANCE',\n",
       " 'TIPC_NODE_SCOPE',\n",
       " 'TIPC_PUBLISHED',\n",
       " 'TIPC_SRC_DROPPABLE',\n",
       " 'TIPC_SUBSCR_TIMEOUT',\n",
       " 'TIPC_SUB_CANCEL',\n",
       " 'TIPC_SUB_PORTS',\n",
       " 'TIPC_SUB_SERVICE',\n",
       " 'TIPC_TOP_SRV',\n",
       " 'TIPC_WAIT_FOREVER',\n",
       " 'TIPC_WITHDRAWN',\n",
       " 'TIPC_ZONE_SCOPE',\n",
       " 'VMADDR_CID_ANY',\n",
       " 'VMADDR_CID_HOST',\n",
       " 'VMADDR_PORT_ANY',\n",
       " 'VM_SOCKETS_INVALID_VERSION',\n",
       " '_GLOBAL_DEFAULT_TIMEOUT',\n",
       " '_GiveupOnSendfile',\n",
       " '_LOCALHOST',\n",
       " '_LOCALHOST_V6',\n",
       " '__all__',\n",
       " '__builtins__',\n",
       " '__cached__',\n",
       " '__doc__',\n",
       " '__file__',\n",
       " '__loader__',\n",
       " '__name__',\n",
       " '__package__',\n",
       " '__spec__',\n",
       " '_blocking_errnos',\n",
       " '_intenum_converter',\n",
       " '_realsocket',\n",
       " '_socket',\n",
       " 'close',\n",
       " 'create_connection',\n",
       " 'dup',\n",
       " 'errno',\n",
       " 'error',\n",
       " 'fromfd',\n",
       " 'gaierror',\n",
       " 'getaddrinfo',\n",
       " 'getdefaulttimeout',\n",
       " 'getfqdn',\n",
       " 'gethostbyaddr',\n",
       " 'gethostbyname',\n",
       " 'gethostbyname_ex',\n",
       " 'gethostname',\n",
       " 'getnameinfo',\n",
       " 'getprotobyname',\n",
       " 'getservbyname',\n",
       " 'getservbyport',\n",
       " 'has_ipv6',\n",
       " 'herror',\n",
       " 'htonl',\n",
       " 'htons',\n",
       " 'if_indextoname',\n",
       " 'if_nameindex',\n",
       " 'if_nametoindex',\n",
       " 'inet_aton',\n",
       " 'inet_ntoa',\n",
       " 'inet_ntop',\n",
       " 'inet_pton',\n",
       " 'io',\n",
       " 'ntohl',\n",
       " 'ntohs',\n",
       " 'os',\n",
       " 'selectors',\n",
       " 'setdefaulttimeout',\n",
       " 'sethostname',\n",
       " 'socket',\n",
       " 'socketpair',\n",
       " 'sys',\n",
       " 'timeout']"
      ]
     },
     "execution_count": 85,
     "metadata": {},
     "output_type": "execute_result"
    }
   ],
   "source": [
    "dir(socket)"
   ]
  },
  {
   "cell_type": "code",
   "execution_count": 91,
   "metadata": {},
   "outputs": [
    {
     "data": {
      "text/plain": [
       "2.0"
      ]
     },
     "execution_count": 91,
     "metadata": {},
     "output_type": "execute_result"
    }
   ],
   "source": [
    "socket.getdefaulttimeout()"
   ]
  },
  {
   "cell_type": "code",
   "execution_count": 90,
   "metadata": {},
   "outputs": [],
   "source": [
    "socket.setdefaulttimeout()"
   ]
  },
  {
   "cell_type": "code",
   "execution_count": 94,
   "metadata": {},
   "outputs": [
    {
     "data": {
      "text/plain": [
       "OSError"
      ]
     },
     "execution_count": 94,
     "metadata": {},
     "output_type": "execute_result"
    }
   ],
   "source": [
    "socket.error"
   ]
  },
  {
   "cell_type": "code",
   "execution_count": 4,
   "metadata": {},
   "outputs": [],
   "source": [
    "from collections import defaultdict"
   ]
  },
  {
   "cell_type": "code",
   "execution_count": 5,
   "metadata": {},
   "outputs": [],
   "source": [
    "dic = {1:2}"
   ]
  },
  {
   "cell_type": "code",
   "execution_count": 6,
   "metadata": {},
   "outputs": [
    {
     "data": {
      "text/plain": [
       "dict"
      ]
     },
     "execution_count": 6,
     "metadata": {},
     "output_type": "execute_result"
    }
   ],
   "source": [
    "type(dic)"
   ]
  },
  {
   "cell_type": "code",
   "execution_count": 8,
   "metadata": {},
   "outputs": [
    {
     "data": {
      "text/plain": [
       "defaultdict(None, {1: 2})"
      ]
     },
     "execution_count": 8,
     "metadata": {},
     "output_type": "execute_result"
    }
   ],
   "source": [
    "defaultdict(None, dic)"
   ]
  },
  {
   "cell_type": "code",
   "execution_count": 9,
   "metadata": {},
   "outputs": [
    {
     "data": {
      "text/plain": [
       "defaultdict(None, {})"
      ]
     },
     "execution_count": 9,
     "metadata": {},
     "output_type": "execute_result"
    }
   ],
   "source": [
    "defaultdict()"
   ]
  },
  {
   "cell_type": "code",
   "execution_count": null,
   "metadata": {},
   "outputs": [],
   "source": []
  }
 ],
 "metadata": {
  "kernelspec": {
   "display_name": "Python 3",
   "language": "python",
   "name": "python3"
  },
  "language_info": {
   "codemirror_mode": {
    "name": "ipython",
    "version": 3
   },
   "file_extension": ".py",
   "mimetype": "text/x-python",
   "name": "python",
   "nbconvert_exporter": "python",
   "pygments_lexer": "ipython3",
   "version": "3.7.0"
  },
  "toc": {
   "base_numbering": 1,
   "nav_menu": {},
   "number_sections": true,
   "sideBar": true,
   "skip_h1_title": false,
   "title_cell": "Table of Contents",
   "title_sidebar": "Contents",
   "toc_cell": false,
   "toc_position": {},
   "toc_section_display": true,
   "toc_window_display": false
  },
  "varInspector": {
   "cols": {
    "lenName": 16,
    "lenType": 16,
    "lenVar": 40
   },
   "kernels_config": {
    "python": {
     "delete_cmd_postfix": "",
     "delete_cmd_prefix": "del ",
     "library": "var_list.py",
     "varRefreshCmd": "print(var_dic_list())"
    },
    "r": {
     "delete_cmd_postfix": ") ",
     "delete_cmd_prefix": "rm(",
     "library": "var_list.r",
     "varRefreshCmd": "cat(var_dic_list()) "
    }
   },
   "types_to_exclude": [
    "module",
    "function",
    "builtin_function_or_method",
    "instance",
    "_Feature"
   ],
   "window_display": false
  }
 },
 "nbformat": 4,
 "nbformat_minor": 4
}
