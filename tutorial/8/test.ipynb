{
 "cells": [
  {
   "cell_type": "code",
   "execution_count": 113,
   "metadata": {},
   "outputs": [],
   "source": [
    "import kafka"
   ]
  },
  {
   "cell_type": "code",
   "execution_count": 114,
   "metadata": {},
   "outputs": [],
   "source": [
    "zookeeper_servers = [\"0.0.0.0:2181\"]\n",
    "bootstrap_servers = [\"0.0.0.0:9092\"]"
   ]
  },
  {
   "cell_type": "code",
   "execution_count": 115,
   "metadata": {},
   "outputs": [],
   "source": [
    "from kafka import KafkaProducer\n",
    "from kafka import KafkaConsumer\n",
    "import json"
   ]
  },
  {
   "cell_type": "code",
   "execution_count": 143,
   "metadata": {},
   "outputs": [],
   "source": [
    "\n",
    "\n",
    "a = KafkaConsumer('test',\n",
    "                  bootstrap_servers=bootstrap_servers, \n",
    "                  group_id = 't12',\n",
    "                  auto_offset_reset='earliest',\n",
    "                  enable_auto_commit=True,\n",
    "                  consumer_timeout_ms = 5000)"
   ]
  },
  {
   "cell_type": "code",
   "execution_count": 144,
   "metadata": {},
   "outputs": [
    {
     "data": {
      "text/plain": [
       "[ConsumerRecord(topic='test', partition=0, offset=0, timestamp=1584338778992, timestamp_type=0, key=None, value=b'quit', headers=[], checksum=None, serialized_key_size=-1, serialized_value_size=4, serialized_header_size=-1),\n",
       " ConsumerRecord(topic='test', partition=0, offset=1, timestamp=1584338799293, timestamp_type=0, key=None, value=b'd', headers=[], checksum=None, serialized_key_size=-1, serialized_value_size=1, serialized_header_size=-1),\n",
       " ConsumerRecord(topic='test', partition=0, offset=2, timestamp=1584338801388, timestamp_type=0, key=None, value=b'f', headers=[], checksum=None, serialized_key_size=-1, serialized_value_size=1, serialized_header_size=-1),\n",
       " ConsumerRecord(topic='test', partition=0, offset=3, timestamp=1584338804328, timestamp_type=0, key=None, value=b'a', headers=[], checksum=None, serialized_key_size=-1, serialized_value_size=1, serialized_header_size=-1),\n",
       " ConsumerRecord(topic='test', partition=0, offset=4, timestamp=1584338905368, timestamp_type=0, key=None, value=b'd', headers=[], checksum=None, serialized_key_size=-1, serialized_value_size=1, serialized_header_size=-1),\n",
       " ConsumerRecord(topic='test', partition=0, offset=5, timestamp=1584338913150, timestamp_type=0, key=None, value=b'\\xe3\\x85\\x8b\\xec\\xb9\\xb4\\xec\\xb9\\xb4\\xe3\\x85\\x8f', headers=[], checksum=None, serialized_key_size=-1, serialized_value_size=12, serialized_header_size=-1),\n",
       " ConsumerRecord(topic='test', partition=0, offset=6, timestamp=1584338921424, timestamp_type=0, key=None, value=b'rkskesdfsdf', headers=[], checksum=None, serialized_key_size=-1, serialized_value_size=11, serialized_header_size=-1),\n",
       " ConsumerRecord(topic='test', partition=0, offset=7, timestamp=1584342099176, timestamp_type=0, key=None, value=b'1111', headers=[], checksum=None, serialized_key_size=-1, serialized_value_size=4, serialized_header_size=-1),\n",
       " ConsumerRecord(topic='test', partition=0, offset=8, timestamp=1584342298067, timestamp_type=0, key=None, value=b'aa', headers=[], checksum=None, serialized_key_size=-1, serialized_value_size=2, serialized_header_size=-1),\n",
       " ConsumerRecord(topic='test', partition=0, offset=9, timestamp=1584342303195, timestamp_type=0, key=None, value=b'sddsd', headers=[], checksum=None, serialized_key_size=-1, serialized_value_size=5, serialized_header_size=-1),\n",
       " ConsumerRecord(topic='test', partition=0, offset=10, timestamp=1584342306495, timestamp_type=0, key=None, value=b'd', headers=[], checksum=None, serialized_key_size=-1, serialized_value_size=1, serialized_header_size=-1),\n",
       " ConsumerRecord(topic='test', partition=0, offset=11, timestamp=1584342307276, timestamp_type=0, key=None, value=b'f', headers=[], checksum=None, serialized_key_size=-1, serialized_value_size=1, serialized_header_size=-1),\n",
       " ConsumerRecord(topic='test', partition=0, offset=12, timestamp=1584342307744, timestamp_type=0, key=None, value=b'g', headers=[], checksum=None, serialized_key_size=-1, serialized_value_size=1, serialized_header_size=-1),\n",
       " ConsumerRecord(topic='test', partition=0, offset=13, timestamp=1584342933995, timestamp_type=0, key=None, value=b'df', headers=[], checksum=None, serialized_key_size=-1, serialized_value_size=2, serialized_header_size=-1),\n",
       " ConsumerRecord(topic='test', partition=0, offset=14, timestamp=1584342978298, timestamp_type=0, key=None, value=b'dfsdf', headers=[], checksum=None, serialized_key_size=-1, serialized_value_size=5, serialized_header_size=-1),\n",
       " ConsumerRecord(topic='test', partition=0, offset=15, timestamp=1584342981023, timestamp_type=0, key=None, value=b'11', headers=[], checksum=None, serialized_key_size=-1, serialized_value_size=2, serialized_header_size=-1),\n",
       " ConsumerRecord(topic='test', partition=0, offset=16, timestamp=1584342986108, timestamp_type=0, key=None, value=b'dfdf', headers=[], checksum=None, serialized_key_size=-1, serialized_value_size=4, serialized_header_size=-1),\n",
       " ConsumerRecord(topic='test', partition=0, offset=17, timestamp=1584342987192, timestamp_type=0, key=None, value=b'sdfsdf', headers=[], checksum=None, serialized_key_size=-1, serialized_value_size=6, serialized_header_size=-1),\n",
       " ConsumerRecord(topic='test', partition=0, offset=18, timestamp=1584342997175, timestamp_type=0, key=None, value=b'111', headers=[], checksum=None, serialized_key_size=-1, serialized_value_size=3, serialized_header_size=-1),\n",
       " ConsumerRecord(topic='test', partition=0, offset=19, timestamp=1584346807975, timestamp_type=0, key=None, value=b'dfsdf', headers=[], checksum=None, serialized_key_size=-1, serialized_value_size=5, serialized_header_size=-1),\n",
       " ConsumerRecord(topic='test', partition=0, offset=20, timestamp=1584347208737, timestamp_type=0, key=None, value=b'\\xef\\xbf\\xbd\\xef\\xbf\\xbd', headers=[], checksum=None, serialized_key_size=-1, serialized_value_size=6, serialized_header_size=-1),\n",
       " ConsumerRecord(topic='test', partition=0, offset=21, timestamp=1584349067745, timestamp_type=0, key=None, value=b'111', headers=[], checksum=None, serialized_key_size=-1, serialized_value_size=3, serialized_header_size=-1),\n",
       " ConsumerRecord(topic='test', partition=0, offset=22, timestamp=1584349840780, timestamp_type=0, key=None, value=b'231', headers=[], checksum=None, serialized_key_size=-1, serialized_value_size=3, serialized_header_size=-1),\n",
       " ConsumerRecord(topic='test', partition=0, offset=23, timestamp=1584349842314, timestamp_type=0, key=None, value=b'asd', headers=[], checksum=None, serialized_key_size=-1, serialized_value_size=3, serialized_header_size=-1),\n",
       " ConsumerRecord(topic='test', partition=0, offset=24, timestamp=1584349883812, timestamp_type=0, key=None, value=b'1', headers=[], checksum=None, serialized_key_size=-1, serialized_value_size=1, serialized_header_size=-1),\n",
       " ConsumerRecord(topic='test', partition=0, offset=25, timestamp=1584350559411, timestamp_type=0, key=None, value=b'{\"b22\": 1}', headers=[], checksum=None, serialized_key_size=-1, serialized_value_size=10, serialized_header_size=-1),\n",
       " ConsumerRecord(topic='test', partition=0, offset=26, timestamp=1584350620118, timestamp_type=0, key=None, value=b'{\"b22\": 1}', headers=[], checksum=None, serialized_key_size=-1, serialized_value_size=10, serialized_header_size=-1),\n",
       " ConsumerRecord(topic='test', partition=0, offset=27, timestamp=1584350768523, timestamp_type=0, key=None, value=b'dsf', headers=[], checksum=None, serialized_key_size=-1, serialized_value_size=3, serialized_header_size=-1),\n",
       " ConsumerRecord(topic='test', partition=0, offset=28, timestamp=1584350804133, timestamp_type=0, key=None, value=b'{\"b22\": 1}', headers=[], checksum=None, serialized_key_size=-1, serialized_value_size=10, serialized_header_size=-1),\n",
       " ConsumerRecord(topic='test', partition=0, offset=29, timestamp=1584351134978, timestamp_type=0, key=None, value=b'{\"b22\": 1}', headers=[], checksum=None, serialized_key_size=-1, serialized_value_size=10, serialized_header_size=-1),\n",
       " ConsumerRecord(topic='test', partition=0, offset=30, timestamp=1584351138295, timestamp_type=0, key=None, value=b'{\"b22\": 2}', headers=[], checksum=None, serialized_key_size=-1, serialized_value_size=10, serialized_header_size=-1),\n",
       " ConsumerRecord(topic='test', partition=0, offset=31, timestamp=1584351228767, timestamp_type=0, key=None, value=b'{\"b22\": 2}', headers=[], checksum=None, serialized_key_size=-1, serialized_value_size=10, serialized_header_size=-1),\n",
       " ConsumerRecord(topic='test', partition=0, offset=32, timestamp=1584351231183, timestamp_type=0, key=None, value=b'{\"b22\": 2}', headers=[], checksum=None, serialized_key_size=-1, serialized_value_size=10, serialized_header_size=-1),\n",
       " ConsumerRecord(topic='test', partition=0, offset=33, timestamp=1584352160643, timestamp_type=0, key=None, value=b'{\"b22\": 2}', headers=[], checksum=None, serialized_key_size=-1, serialized_value_size=10, serialized_header_size=-1),\n",
       " ConsumerRecord(topic='test', partition=0, offset=34, timestamp=1584353943558, timestamp_type=0, key=None, value=b'sdf', headers=[], checksum=None, serialized_key_size=-1, serialized_value_size=3, serialized_header_size=-1),\n",
       " ConsumerRecord(topic='test', partition=0, offset=35, timestamp=1584353967022, timestamp_type=0, key=None, value=b'{\"b22\": 2}', headers=[], checksum=None, serialized_key_size=-1, serialized_value_size=10, serialized_header_size=-1),\n",
       " ConsumerRecord(topic='test', partition=0, offset=36, timestamp=1584354003001, timestamp_type=0, key=None, value=b'{\"b22\": 2}', headers=[], checksum=None, serialized_key_size=-1, serialized_value_size=10, serialized_header_size=-1),\n",
       " ConsumerRecord(topic='test', partition=0, offset=37, timestamp=1584354514092, timestamp_type=0, key=None, value=b'\"b22\"', headers=[], checksum=None, serialized_key_size=-1, serialized_value_size=5, serialized_header_size=-1),\n",
       " ConsumerRecord(topic='test', partition=0, offset=38, timestamp=1584354554055, timestamp_type=0, key=None, value=b'\"b22\"', headers=[], checksum=None, serialized_key_size=-1, serialized_value_size=5, serialized_header_size=-1),\n",
       " ConsumerRecord(topic='test', partition=0, offset=39, timestamp=1584364654674, timestamp_type=0, key=None, value=b'{\"test\": \"test\"}', headers=[], checksum=None, serialized_key_size=-1, serialized_value_size=16, serialized_header_size=-1),\n",
       " ConsumerRecord(topic='test', partition=0, offset=40, timestamp=1584364654674, timestamp_type=0, key=None, value=b'{\"test\": \"test\"}', headers=[], checksum=None, serialized_key_size=-1, serialized_value_size=16, serialized_header_size=-1),\n",
       " ConsumerRecord(topic='test', partition=0, offset=41, timestamp=1584364654674, timestamp_type=0, key=None, value=b'{\"test\": \"test\"}', headers=[], checksum=None, serialized_key_size=-1, serialized_value_size=16, serialized_header_size=-1),\n",
       " ConsumerRecord(topic='test', partition=0, offset=42, timestamp=1584364684680, timestamp_type=0, key=None, value=b'{\"test\": \"test\"}', headers=[], checksum=None, serialized_key_size=-1, serialized_value_size=16, serialized_header_size=-1),\n",
       " ConsumerRecord(topic='test', partition=0, offset=43, timestamp=1584364684680, timestamp_type=0, key=None, value=b'{\"test\": \"test\"}', headers=[], checksum=None, serialized_key_size=-1, serialized_value_size=16, serialized_header_size=-1),\n",
       " ConsumerRecord(topic='test', partition=0, offset=44, timestamp=1584364684680, timestamp_type=0, key=None, value=b'{\"test\": \"test\"}', headers=[], checksum=None, serialized_key_size=-1, serialized_value_size=16, serialized_header_size=-1),\n",
       " ConsumerRecord(topic='test', partition=0, offset=45, timestamp=1584364686683, timestamp_type=0, key=None, value=b'{\"test\": \"test\"}', headers=[], checksum=None, serialized_key_size=-1, serialized_value_size=16, serialized_header_size=-1),\n",
       " ConsumerRecord(topic='test', partition=0, offset=46, timestamp=1584364686683, timestamp_type=0, key=None, value=b'{\"test\": \"test\"}', headers=[], checksum=None, serialized_key_size=-1, serialized_value_size=16, serialized_header_size=-1),\n",
       " ConsumerRecord(topic='test', partition=0, offset=47, timestamp=1584364686683, timestamp_type=0, key=None, value=b'{\"test\": \"test\"}', headers=[], checksum=None, serialized_key_size=-1, serialized_value_size=16, serialized_header_size=-1),\n",
       " ConsumerRecord(topic='test', partition=0, offset=48, timestamp=1584364688282, timestamp_type=0, key=None, value=b'{\"test\": \"test\"}', headers=[], checksum=None, serialized_key_size=-1, serialized_value_size=16, serialized_header_size=-1),\n",
       " ConsumerRecord(topic='test', partition=0, offset=49, timestamp=1584364688282, timestamp_type=0, key=None, value=b'{\"test\": \"test\"}', headers=[], checksum=None, serialized_key_size=-1, serialized_value_size=16, serialized_header_size=-1),\n",
       " ConsumerRecord(topic='test', partition=0, offset=50, timestamp=1584364688282, timestamp_type=0, key=None, value=b'{\"test\": \"test\"}', headers=[], checksum=None, serialized_key_size=-1, serialized_value_size=16, serialized_header_size=-1),\n",
       " ConsumerRecord(topic='test', partition=0, offset=51, timestamp=1584364689069, timestamp_type=0, key=None, value=b'{\"test\": \"test\"}', headers=[], checksum=None, serialized_key_size=-1, serialized_value_size=16, serialized_header_size=-1),\n",
       " ConsumerRecord(topic='test', partition=0, offset=52, timestamp=1584364689069, timestamp_type=0, key=None, value=b'{\"test\": \"test\"}', headers=[], checksum=None, serialized_key_size=-1, serialized_value_size=16, serialized_header_size=-1),\n",
       " ConsumerRecord(topic='test', partition=0, offset=53, timestamp=1584364689069, timestamp_type=0, key=None, value=b'{\"test\": \"test\"}', headers=[], checksum=None, serialized_key_size=-1, serialized_value_size=16, serialized_header_size=-1),\n",
       " ConsumerRecord(topic='test', partition=0, offset=54, timestamp=1584364702735, timestamp_type=0, key=None, value=b'{\"test\": \"test\"}', headers=[], checksum=None, serialized_key_size=-1, serialized_value_size=16, serialized_header_size=-1),\n",
       " ConsumerRecord(topic='test', partition=0, offset=55, timestamp=1584364702735, timestamp_type=0, key=None, value=b'{\"test\": \"test\"}', headers=[], checksum=None, serialized_key_size=-1, serialized_value_size=16, serialized_header_size=-1),\n",
       " ConsumerRecord(topic='test', partition=0, offset=56, timestamp=1584364702735, timestamp_type=0, key=None, value=b'{\"test\": \"test\"}', headers=[], checksum=None, serialized_key_size=-1, serialized_value_size=16, serialized_header_size=-1),\n",
       " ConsumerRecord(topic='test', partition=0, offset=57, timestamp=1584364703108, timestamp_type=0, key=None, value=b'{\"test\": \"test\"}', headers=[], checksum=None, serialized_key_size=-1, serialized_value_size=16, serialized_header_size=-1),\n",
       " ConsumerRecord(topic='test', partition=0, offset=58, timestamp=1584364703109, timestamp_type=0, key=None, value=b'{\"test\": \"test\"}', headers=[], checksum=None, serialized_key_size=-1, serialized_value_size=16, serialized_header_size=-1),\n",
       " ConsumerRecord(topic='test', partition=0, offset=59, timestamp=1584364703109, timestamp_type=0, key=None, value=b'{\"test\": \"test\"}', headers=[], checksum=None, serialized_key_size=-1, serialized_value_size=16, serialized_header_size=-1),\n",
       " ConsumerRecord(topic='test', partition=0, offset=60, timestamp=1584364703315, timestamp_type=0, key=None, value=b'{\"test\": \"test\"}', headers=[], checksum=None, serialized_key_size=-1, serialized_value_size=16, serialized_header_size=-1),\n",
       " ConsumerRecord(topic='test', partition=0, offset=61, timestamp=1584364703315, timestamp_type=0, key=None, value=b'{\"test\": \"test\"}', headers=[], checksum=None, serialized_key_size=-1, serialized_value_size=16, serialized_header_size=-1),\n",
       " ConsumerRecord(topic='test', partition=0, offset=62, timestamp=1584364703315, timestamp_type=0, key=None, value=b'{\"test\": \"test\"}', headers=[], checksum=None, serialized_key_size=-1, serialized_value_size=16, serialized_header_size=-1),\n",
       " ConsumerRecord(topic='test', partition=0, offset=63, timestamp=1584364703501, timestamp_type=0, key=None, value=b'{\"test\": \"test\"}', headers=[], checksum=None, serialized_key_size=-1, serialized_value_size=16, serialized_header_size=-1),\n",
       " ConsumerRecord(topic='test', partition=0, offset=64, timestamp=1584364703501, timestamp_type=0, key=None, value=b'{\"test\": \"test\"}', headers=[], checksum=None, serialized_key_size=-1, serialized_value_size=16, serialized_header_size=-1),\n",
       " ConsumerRecord(topic='test', partition=0, offset=65, timestamp=1584364703501, timestamp_type=0, key=None, value=b'{\"test\": \"test\"}', headers=[], checksum=None, serialized_key_size=-1, serialized_value_size=16, serialized_header_size=-1),\n",
       " ConsumerRecord(topic='test', partition=0, offset=66, timestamp=1584364705948, timestamp_type=0, key=None, value=b'{\"test\": \"test\"}', headers=[], checksum=None, serialized_key_size=-1, serialized_value_size=16, serialized_header_size=-1),\n",
       " ConsumerRecord(topic='test', partition=0, offset=67, timestamp=1584364705948, timestamp_type=0, key=None, value=b'{\"test\": \"test\"}', headers=[], checksum=None, serialized_key_size=-1, serialized_value_size=16, serialized_header_size=-1),\n",
       " ConsumerRecord(topic='test', partition=0, offset=68, timestamp=1584364705948, timestamp_type=0, key=None, value=b'{\"test\": \"test\"}', headers=[], checksum=None, serialized_key_size=-1, serialized_value_size=16, serialized_header_size=-1),\n",
       " ConsumerRecord(topic='test', partition=0, offset=69, timestamp=1584364706231, timestamp_type=0, key=None, value=b'{\"test\": \"test\"}', headers=[], checksum=None, serialized_key_size=-1, serialized_value_size=16, serialized_header_size=-1),\n",
       " ConsumerRecord(topic='test', partition=0, offset=70, timestamp=1584364706231, timestamp_type=0, key=None, value=b'{\"test\": \"test\"}', headers=[], checksum=None, serialized_key_size=-1, serialized_value_size=16, serialized_header_size=-1),\n",
       " ConsumerRecord(topic='test', partition=0, offset=71, timestamp=1584364706231, timestamp_type=0, key=None, value=b'{\"test\": \"test\"}', headers=[], checksum=None, serialized_key_size=-1, serialized_value_size=16, serialized_header_size=-1),\n",
       " ConsumerRecord(topic='test', partition=0, offset=72, timestamp=1584364706423, timestamp_type=0, key=None, value=b'{\"test\": \"test\"}', headers=[], checksum=None, serialized_key_size=-1, serialized_value_size=16, serialized_header_size=-1),\n",
       " ConsumerRecord(topic='test', partition=0, offset=73, timestamp=1584364706423, timestamp_type=0, key=None, value=b'{\"test\": \"test\"}', headers=[], checksum=None, serialized_key_size=-1, serialized_value_size=16, serialized_header_size=-1),\n",
       " ConsumerRecord(topic='test', partition=0, offset=74, timestamp=1584364706423, timestamp_type=0, key=None, value=b'{\"test\": \"test\"}', headers=[], checksum=None, serialized_key_size=-1, serialized_value_size=16, serialized_header_size=-1),\n",
       " ConsumerRecord(topic='test', partition=0, offset=75, timestamp=1584364733678, timestamp_type=0, key=None, value=b'{\"test\": \"test\"}', headers=[], checksum=None, serialized_key_size=-1, serialized_value_size=16, serialized_header_size=-1),\n",
       " ConsumerRecord(topic='test', partition=0, offset=76, timestamp=1584364733678, timestamp_type=0, key=None, value=b'{\"test\": \"test\"}', headers=[], checksum=None, serialized_key_size=-1, serialized_value_size=16, serialized_header_size=-1),\n",
       " ConsumerRecord(topic='test', partition=0, offset=77, timestamp=1584364733678, timestamp_type=0, key=None, value=b'{\"test\": \"test\"}', headers=[], checksum=None, serialized_key_size=-1, serialized_value_size=16, serialized_header_size=-1),\n",
       " ConsumerRecord(topic='test', partition=0, offset=78, timestamp=1584364735082, timestamp_type=0, key=None, value=b'{\"test\": \"test\"}', headers=[], checksum=None, serialized_key_size=-1, serialized_value_size=16, serialized_header_size=-1),\n",
       " ConsumerRecord(topic='test', partition=0, offset=79, timestamp=1584364735082, timestamp_type=0, key=None, value=b'{\"test\": \"test\"}', headers=[], checksum=None, serialized_key_size=-1, serialized_value_size=16, serialized_header_size=-1),\n",
       " ConsumerRecord(topic='test', partition=0, offset=80, timestamp=1584364735083, timestamp_type=0, key=None, value=b'{\"test\": \"test\"}', headers=[], checksum=None, serialized_key_size=-1, serialized_value_size=16, serialized_header_size=-1),\n",
       " ConsumerRecord(topic='test', partition=0, offset=81, timestamp=1584364735245, timestamp_type=0, key=None, value=b'{\"test\": \"test\"}', headers=[], checksum=None, serialized_key_size=-1, serialized_value_size=16, serialized_header_size=-1),\n",
       " ConsumerRecord(topic='test', partition=0, offset=82, timestamp=1584364735245, timestamp_type=0, key=None, value=b'{\"test\": \"test\"}', headers=[], checksum=None, serialized_key_size=-1, serialized_value_size=16, serialized_header_size=-1),\n",
       " ConsumerRecord(topic='test', partition=0, offset=83, timestamp=1584364735246, timestamp_type=0, key=None, value=b'{\"test\": \"test\"}', headers=[], checksum=None, serialized_key_size=-1, serialized_value_size=16, serialized_header_size=-1),\n",
       " ConsumerRecord(topic='test', partition=0, offset=84, timestamp=1584364735436, timestamp_type=0, key=None, value=b'{\"test\": \"test\"}', headers=[], checksum=None, serialized_key_size=-1, serialized_value_size=16, serialized_header_size=-1),\n",
       " ConsumerRecord(topic='test', partition=0, offset=85, timestamp=1584364735436, timestamp_type=0, key=None, value=b'{\"test\": \"test\"}', headers=[], checksum=None, serialized_key_size=-1, serialized_value_size=16, serialized_header_size=-1),\n",
       " ConsumerRecord(topic='test', partition=0, offset=86, timestamp=1584364735436, timestamp_type=0, key=None, value=b'{\"test\": \"test\"}', headers=[], checksum=None, serialized_key_size=-1, serialized_value_size=16, serialized_header_size=-1),\n",
       " ConsumerRecord(topic='test', partition=0, offset=87, timestamp=1584364735613, timestamp_type=0, key=None, value=b'{\"test\": \"test\"}', headers=[], checksum=None, serialized_key_size=-1, serialized_value_size=16, serialized_header_size=-1),\n",
       " ConsumerRecord(topic='test', partition=0, offset=88, timestamp=1584364735613, timestamp_type=0, key=None, value=b'{\"test\": \"test\"}', headers=[], checksum=None, serialized_key_size=-1, serialized_value_size=16, serialized_header_size=-1),\n",
       " ConsumerRecord(topic='test', partition=0, offset=89, timestamp=1584364735613, timestamp_type=0, key=None, value=b'{\"test\": \"test\"}', headers=[], checksum=None, serialized_key_size=-1, serialized_value_size=16, serialized_header_size=-1),\n",
       " ConsumerRecord(topic='test', partition=0, offset=90, timestamp=1584364735805, timestamp_type=0, key=None, value=b'{\"test\": \"test\"}', headers=[], checksum=None, serialized_key_size=-1, serialized_value_size=16, serialized_header_size=-1),\n",
       " ConsumerRecord(topic='test', partition=0, offset=91, timestamp=1584364735806, timestamp_type=0, key=None, value=b'{\"test\": \"test\"}', headers=[], checksum=None, serialized_key_size=-1, serialized_value_size=16, serialized_header_size=-1),\n",
       " ConsumerRecord(topic='test', partition=0, offset=92, timestamp=1584364735806, timestamp_type=0, key=None, value=b'{\"test\": \"test\"}', headers=[], checksum=None, serialized_key_size=-1, serialized_value_size=16, serialized_header_size=-1),\n",
       " ConsumerRecord(topic='test', partition=0, offset=93, timestamp=1584364735989, timestamp_type=0, key=None, value=b'{\"test\": \"test\"}', headers=[], checksum=None, serialized_key_size=-1, serialized_value_size=16, serialized_header_size=-1),\n",
       " ConsumerRecord(topic='test', partition=0, offset=94, timestamp=1584364735989, timestamp_type=0, key=None, value=b'{\"test\": \"test\"}', headers=[], checksum=None, serialized_key_size=-1, serialized_value_size=16, serialized_header_size=-1),\n",
       " ConsumerRecord(topic='test', partition=0, offset=95, timestamp=1584364735989, timestamp_type=0, key=None, value=b'{\"test\": \"test\"}', headers=[], checksum=None, serialized_key_size=-1, serialized_value_size=16, serialized_header_size=-1),\n",
       " ConsumerRecord(topic='test', partition=0, offset=96, timestamp=1584364736170, timestamp_type=0, key=None, value=b'{\"test\": \"test\"}', headers=[], checksum=None, serialized_key_size=-1, serialized_value_size=16, serialized_header_size=-1),\n",
       " ConsumerRecord(topic='test', partition=0, offset=97, timestamp=1584364736170, timestamp_type=0, key=None, value=b'{\"test\": \"test\"}', headers=[], checksum=None, serialized_key_size=-1, serialized_value_size=16, serialized_header_size=-1),\n",
       " ConsumerRecord(topic='test', partition=0, offset=98, timestamp=1584364736170, timestamp_type=0, key=None, value=b'{\"test\": \"test\"}', headers=[], checksum=None, serialized_key_size=-1, serialized_value_size=16, serialized_header_size=-1),\n",
       " ConsumerRecord(topic='test', partition=0, offset=99, timestamp=1584364736340, timestamp_type=0, key=None, value=b'{\"test\": \"test\"}', headers=[], checksum=None, serialized_key_size=-1, serialized_value_size=16, serialized_header_size=-1),\n",
       " ConsumerRecord(topic='test', partition=0, offset=100, timestamp=1584364736340, timestamp_type=0, key=None, value=b'{\"test\": \"test\"}', headers=[], checksum=None, serialized_key_size=-1, serialized_value_size=16, serialized_header_size=-1),\n",
       " ConsumerRecord(topic='test', partition=0, offset=101, timestamp=1584364736340, timestamp_type=0, key=None, value=b'{\"test\": \"test\"}', headers=[], checksum=None, serialized_key_size=-1, serialized_value_size=16, serialized_header_size=-1),\n",
       " ConsumerRecord(topic='test', partition=0, offset=102, timestamp=1584364744271, timestamp_type=0, key=None, value=b'{\"test\": \"test\"}', headers=[], checksum=None, serialized_key_size=-1, serialized_value_size=16, serialized_header_size=-1),\n",
       " ConsumerRecord(topic='test', partition=0, offset=103, timestamp=1584364744271, timestamp_type=0, key=None, value=b'{\"test\": \"test\"}', headers=[], checksum=None, serialized_key_size=-1, serialized_value_size=16, serialized_header_size=-1),\n",
       " ConsumerRecord(topic='test', partition=0, offset=104, timestamp=1584364744271, timestamp_type=0, key=None, value=b'{\"test\": \"test\"}', headers=[], checksum=None, serialized_key_size=-1, serialized_value_size=16, serialized_header_size=-1),\n",
       " ConsumerRecord(topic='test', partition=0, offset=105, timestamp=1584364744502, timestamp_type=0, key=None, value=b'{\"test\": \"test\"}', headers=[], checksum=None, serialized_key_size=-1, serialized_value_size=16, serialized_header_size=-1),\n",
       " ConsumerRecord(topic='test', partition=0, offset=106, timestamp=1584364744502, timestamp_type=0, key=None, value=b'{\"test\": \"test\"}', headers=[], checksum=None, serialized_key_size=-1, serialized_value_size=16, serialized_header_size=-1),\n",
       " ConsumerRecord(topic='test', partition=0, offset=107, timestamp=1584364744502, timestamp_type=0, key=None, value=b'{\"test\": \"test\"}', headers=[], checksum=None, serialized_key_size=-1, serialized_value_size=16, serialized_header_size=-1),\n",
       " ConsumerRecord(topic='test', partition=0, offset=108, timestamp=1584364744724, timestamp_type=0, key=None, value=b'{\"test\": \"test\"}', headers=[], checksum=None, serialized_key_size=-1, serialized_value_size=16, serialized_header_size=-1),\n",
       " ConsumerRecord(topic='test', partition=0, offset=109, timestamp=1584364744725, timestamp_type=0, key=None, value=b'{\"test\": \"test\"}', headers=[], checksum=None, serialized_key_size=-1, serialized_value_size=16, serialized_header_size=-1),\n",
       " ConsumerRecord(topic='test', partition=0, offset=110, timestamp=1584364744725, timestamp_type=0, key=None, value=b'{\"test\": \"test\"}', headers=[], checksum=None, serialized_key_size=-1, serialized_value_size=16, serialized_header_size=-1),\n",
       " ConsumerRecord(topic='test', partition=0, offset=111, timestamp=1584364744915, timestamp_type=0, key=None, value=b'{\"test\": \"test\"}', headers=[], checksum=None, serialized_key_size=-1, serialized_value_size=16, serialized_header_size=-1),\n",
       " ConsumerRecord(topic='test', partition=0, offset=112, timestamp=1584364744916, timestamp_type=0, key=None, value=b'{\"test\": \"test\"}', headers=[], checksum=None, serialized_key_size=-1, serialized_value_size=16, serialized_header_size=-1),\n",
       " ConsumerRecord(topic='test', partition=0, offset=113, timestamp=1584364744916, timestamp_type=0, key=None, value=b'{\"test\": \"test\"}', headers=[], checksum=None, serialized_key_size=-1, serialized_value_size=16, serialized_header_size=-1),\n",
       " ConsumerRecord(topic='test', partition=0, offset=114, timestamp=1584364745108, timestamp_type=0, key=None, value=b'{\"test\": \"test\"}', headers=[], checksum=None, serialized_key_size=-1, serialized_value_size=16, serialized_header_size=-1),\n",
       " ConsumerRecord(topic='test', partition=0, offset=115, timestamp=1584364745108, timestamp_type=0, key=None, value=b'{\"test\": \"test\"}', headers=[], checksum=None, serialized_key_size=-1, serialized_value_size=16, serialized_header_size=-1),\n",
       " ConsumerRecord(topic='test', partition=0, offset=116, timestamp=1584364745108, timestamp_type=0, key=None, value=b'{\"test\": \"test\"}', headers=[], checksum=None, serialized_key_size=-1, serialized_value_size=16, serialized_header_size=-1),\n",
       " ConsumerRecord(topic='test', partition=0, offset=117, timestamp=1584364745309, timestamp_type=0, key=None, value=b'{\"test\": \"test\"}', headers=[], checksum=None, serialized_key_size=-1, serialized_value_size=16, serialized_header_size=-1),\n",
       " ConsumerRecord(topic='test', partition=0, offset=118, timestamp=1584364745309, timestamp_type=0, key=None, value=b'{\"test\": \"test\"}', headers=[], checksum=None, serialized_key_size=-1, serialized_value_size=16, serialized_header_size=-1),\n",
       " ConsumerRecord(topic='test', partition=0, offset=119, timestamp=1584364745309, timestamp_type=0, key=None, value=b'{\"test\": \"test\"}', headers=[], checksum=None, serialized_key_size=-1, serialized_value_size=16, serialized_header_size=-1),\n",
       " ConsumerRecord(topic='test', partition=0, offset=120, timestamp=1584364745809, timestamp_type=0, key=None, value=b'{\"test\": \"test\"}', headers=[], checksum=None, serialized_key_size=-1, serialized_value_size=16, serialized_header_size=-1),\n",
       " ConsumerRecord(topic='test', partition=0, offset=121, timestamp=1584364745809, timestamp_type=0, key=None, value=b'{\"test\": \"test\"}', headers=[], checksum=None, serialized_key_size=-1, serialized_value_size=16, serialized_header_size=-1),\n",
       " ConsumerRecord(topic='test', partition=0, offset=122, timestamp=1584364745809, timestamp_type=0, key=None, value=b'{\"test\": \"test\"}', headers=[], checksum=None, serialized_key_size=-1, serialized_value_size=16, serialized_header_size=-1),\n",
       " ConsumerRecord(topic='test', partition=0, offset=123, timestamp=1584364745894, timestamp_type=0, key=None, value=b'{\"test\": \"test\"}', headers=[], checksum=None, serialized_key_size=-1, serialized_value_size=16, serialized_header_size=-1),\n",
       " ConsumerRecord(topic='test', partition=0, offset=124, timestamp=1584364745894, timestamp_type=0, key=None, value=b'{\"test\": \"test\"}', headers=[], checksum=None, serialized_key_size=-1, serialized_value_size=16, serialized_header_size=-1),\n",
       " ConsumerRecord(topic='test', partition=0, offset=125, timestamp=1584364745894, timestamp_type=0, key=None, value=b'{\"test\": \"test\"}', headers=[], checksum=None, serialized_key_size=-1, serialized_value_size=16, serialized_header_size=-1),\n",
       " ConsumerRecord(topic='test', partition=0, offset=126, timestamp=1584364745976, timestamp_type=0, key=None, value=b'{\"test\": \"test\"}', headers=[], checksum=None, serialized_key_size=-1, serialized_value_size=16, serialized_header_size=-1),\n",
       " ConsumerRecord(topic='test', partition=0, offset=127, timestamp=1584364745976, timestamp_type=0, key=None, value=b'{\"test\": \"test\"}', headers=[], checksum=None, serialized_key_size=-1, serialized_value_size=16, serialized_header_size=-1),\n",
       " ConsumerRecord(topic='test', partition=0, offset=128, timestamp=1584364745976, timestamp_type=0, key=None, value=b'{\"test\": \"test\"}', headers=[], checksum=None, serialized_key_size=-1, serialized_value_size=16, serialized_header_size=-1),\n",
       " ConsumerRecord(topic='test', partition=0, offset=129, timestamp=1584364746062, timestamp_type=0, key=None, value=b'{\"test\": \"test\"}', headers=[], checksum=None, serialized_key_size=-1, serialized_value_size=16, serialized_header_size=-1),\n",
       " ConsumerRecord(topic='test', partition=0, offset=130, timestamp=1584364746062, timestamp_type=0, key=None, value=b'{\"test\": \"test\"}', headers=[], checksum=None, serialized_key_size=-1, serialized_value_size=16, serialized_header_size=-1),\n",
       " ConsumerRecord(topic='test', partition=0, offset=131, timestamp=1584364746062, timestamp_type=0, key=None, value=b'{\"test\": \"test\"}', headers=[], checksum=None, serialized_key_size=-1, serialized_value_size=16, serialized_header_size=-1),\n",
       " ConsumerRecord(topic='test', partition=0, offset=132, timestamp=1584364746147, timestamp_type=0, key=None, value=b'{\"test\": \"test\"}', headers=[], checksum=None, serialized_key_size=-1, serialized_value_size=16, serialized_header_size=-1),\n",
       " ConsumerRecord(topic='test', partition=0, offset=133, timestamp=1584364746147, timestamp_type=0, key=None, value=b'{\"test\": \"test\"}', headers=[], checksum=None, serialized_key_size=-1, serialized_value_size=16, serialized_header_size=-1),\n",
       " ConsumerRecord(topic='test', partition=0, offset=134, timestamp=1584364746147, timestamp_type=0, key=None, value=b'{\"test\": \"test\"}', headers=[], checksum=None, serialized_key_size=-1, serialized_value_size=16, serialized_header_size=-1),\n",
       " ConsumerRecord(topic='test', partition=0, offset=135, timestamp=1584364746228, timestamp_type=0, key=None, value=b'{\"test\": \"test\"}', headers=[], checksum=None, serialized_key_size=-1, serialized_value_size=16, serialized_header_size=-1),\n",
       " ConsumerRecord(topic='test', partition=0, offset=136, timestamp=1584364746228, timestamp_type=0, key=None, value=b'{\"test\": \"test\"}', headers=[], checksum=None, serialized_key_size=-1, serialized_value_size=16, serialized_header_size=-1),\n",
       " ConsumerRecord(topic='test', partition=0, offset=137, timestamp=1584364746228, timestamp_type=0, key=None, value=b'{\"test\": \"test\"}', headers=[], checksum=None, serialized_key_size=-1, serialized_value_size=16, serialized_header_size=-1),\n",
       " ConsumerRecord(topic='test', partition=0, offset=138, timestamp=1584364746313, timestamp_type=0, key=None, value=b'{\"test\": \"test\"}', headers=[], checksum=None, serialized_key_size=-1, serialized_value_size=16, serialized_header_size=-1),\n",
       " ConsumerRecord(topic='test', partition=0, offset=139, timestamp=1584364746313, timestamp_type=0, key=None, value=b'{\"test\": \"test\"}', headers=[], checksum=None, serialized_key_size=-1, serialized_value_size=16, serialized_header_size=-1),\n",
       " ConsumerRecord(topic='test', partition=0, offset=140, timestamp=1584364746313, timestamp_type=0, key=None, value=b'{\"test\": \"test\"}', headers=[], checksum=None, serialized_key_size=-1, serialized_value_size=16, serialized_header_size=-1),\n",
       " ConsumerRecord(topic='test', partition=0, offset=141, timestamp=1584364746399, timestamp_type=0, key=None, value=b'{\"test\": \"test\"}', headers=[], checksum=None, serialized_key_size=-1, serialized_value_size=16, serialized_header_size=-1),\n",
       " ConsumerRecord(topic='test', partition=0, offset=142, timestamp=1584364746399, timestamp_type=0, key=None, value=b'{\"test\": \"test\"}', headers=[], checksum=None, serialized_key_size=-1, serialized_value_size=16, serialized_header_size=-1),\n",
       " ConsumerRecord(topic='test', partition=0, offset=143, timestamp=1584364746399, timestamp_type=0, key=None, value=b'{\"test\": \"test\"}', headers=[], checksum=None, serialized_key_size=-1, serialized_value_size=16, serialized_header_size=-1),\n",
       " ConsumerRecord(topic='test', partition=0, offset=144, timestamp=1584364746482, timestamp_type=0, key=None, value=b'{\"test\": \"test\"}', headers=[], checksum=None, serialized_key_size=-1, serialized_value_size=16, serialized_header_size=-1),\n",
       " ConsumerRecord(topic='test', partition=0, offset=145, timestamp=1584364746482, timestamp_type=0, key=None, value=b'{\"test\": \"test\"}', headers=[], checksum=None, serialized_key_size=-1, serialized_value_size=16, serialized_header_size=-1),\n",
       " ConsumerRecord(topic='test', partition=0, offset=146, timestamp=1584364746482, timestamp_type=0, key=None, value=b'{\"test\": \"test\"}', headers=[], checksum=None, serialized_key_size=-1, serialized_value_size=16, serialized_header_size=-1),\n",
       " ConsumerRecord(topic='test', partition=0, offset=147, timestamp=1584364746566, timestamp_type=0, key=None, value=b'{\"test\": \"test\"}', headers=[], checksum=None, serialized_key_size=-1, serialized_value_size=16, serialized_header_size=-1),\n",
       " ConsumerRecord(topic='test', partition=0, offset=148, timestamp=1584364746566, timestamp_type=0, key=None, value=b'{\"test\": \"test\"}', headers=[], checksum=None, serialized_key_size=-1, serialized_value_size=16, serialized_header_size=-1),\n",
       " ConsumerRecord(topic='test', partition=0, offset=149, timestamp=1584364746566, timestamp_type=0, key=None, value=b'{\"test\": \"test\"}', headers=[], checksum=None, serialized_key_size=-1, serialized_value_size=16, serialized_header_size=-1),\n",
       " ConsumerRecord(topic='test', partition=0, offset=150, timestamp=1584364746650, timestamp_type=0, key=None, value=b'{\"test\": \"test\"}', headers=[], checksum=None, serialized_key_size=-1, serialized_value_size=16, serialized_header_size=-1),\n",
       " ConsumerRecord(topic='test', partition=0, offset=151, timestamp=1584364746650, timestamp_type=0, key=None, value=b'{\"test\": \"test\"}', headers=[], checksum=None, serialized_key_size=-1, serialized_value_size=16, serialized_header_size=-1),\n",
       " ConsumerRecord(topic='test', partition=0, offset=152, timestamp=1584364746650, timestamp_type=0, key=None, value=b'{\"test\": \"test\"}', headers=[], checksum=None, serialized_key_size=-1, serialized_value_size=16, serialized_header_size=-1),\n",
       " ConsumerRecord(topic='test', partition=0, offset=153, timestamp=1584364746733, timestamp_type=0, key=None, value=b'{\"test\": \"test\"}', headers=[], checksum=None, serialized_key_size=-1, serialized_value_size=16, serialized_header_size=-1),\n",
       " ConsumerRecord(topic='test', partition=0, offset=154, timestamp=1584364746733, timestamp_type=0, key=None, value=b'{\"test\": \"test\"}', headers=[], checksum=None, serialized_key_size=-1, serialized_value_size=16, serialized_header_size=-1),\n",
       " ConsumerRecord(topic='test', partition=0, offset=155, timestamp=1584364746733, timestamp_type=0, key=None, value=b'{\"test\": \"test\"}', headers=[], checksum=None, serialized_key_size=-1, serialized_value_size=16, serialized_header_size=-1),\n",
       " ConsumerRecord(topic='test', partition=0, offset=156, timestamp=1584364746815, timestamp_type=0, key=None, value=b'{\"test\": \"test\"}', headers=[], checksum=None, serialized_key_size=-1, serialized_value_size=16, serialized_header_size=-1),\n",
       " ConsumerRecord(topic='test', partition=0, offset=157, timestamp=1584364746815, timestamp_type=0, key=None, value=b'{\"test\": \"test\"}', headers=[], checksum=None, serialized_key_size=-1, serialized_value_size=16, serialized_header_size=-1),\n",
       " ConsumerRecord(topic='test', partition=0, offset=158, timestamp=1584364746815, timestamp_type=0, key=None, value=b'{\"test\": \"test\"}', headers=[], checksum=None, serialized_key_size=-1, serialized_value_size=16, serialized_header_size=-1),\n",
       " ConsumerRecord(topic='test', partition=0, offset=159, timestamp=1584364750974, timestamp_type=0, key=None, value=b'{\"test\": \"test\"}', headers=[], checksum=None, serialized_key_size=-1, serialized_value_size=16, serialized_header_size=-1),\n",
       " ConsumerRecord(topic='test', partition=0, offset=160, timestamp=1584364750974, timestamp_type=0, key=None, value=b'{\"test\": \"test\"}', headers=[], checksum=None, serialized_key_size=-1, serialized_value_size=16, serialized_header_size=-1),\n",
       " ConsumerRecord(topic='test', partition=0, offset=161, timestamp=1584364750974, timestamp_type=0, key=None, value=b'{\"test\": \"test\"}', headers=[], checksum=None, serialized_key_size=-1, serialized_value_size=16, serialized_header_size=-1),\n",
       " ConsumerRecord(topic='test', partition=0, offset=162, timestamp=1584364751316, timestamp_type=0, key=None, value=b'{\"test\": \"test\"}', headers=[], checksum=None, serialized_key_size=-1, serialized_value_size=16, serialized_header_size=-1),\n",
       " ConsumerRecord(topic='test', partition=0, offset=163, timestamp=1584364751316, timestamp_type=0, key=None, value=b'{\"test\": \"test\"}', headers=[], checksum=None, serialized_key_size=-1, serialized_value_size=16, serialized_header_size=-1),\n",
       " ConsumerRecord(topic='test', partition=0, offset=164, timestamp=1584364751316, timestamp_type=0, key=None, value=b'{\"test\": \"test\"}', headers=[], checksum=None, serialized_key_size=-1, serialized_value_size=16, serialized_header_size=-1),\n",
       " ConsumerRecord(topic='test', partition=0, offset=165, timestamp=1584364751541, timestamp_type=0, key=None, value=b'{\"test\": \"test\"}', headers=[], checksum=None, serialized_key_size=-1, serialized_value_size=16, serialized_header_size=-1),\n",
       " ConsumerRecord(topic='test', partition=0, offset=166, timestamp=1584364751541, timestamp_type=0, key=None, value=b'{\"test\": \"test\"}', headers=[], checksum=None, serialized_key_size=-1, serialized_value_size=16, serialized_header_size=-1),\n",
       " ConsumerRecord(topic='test', partition=0, offset=167, timestamp=1584364751541, timestamp_type=0, key=None, value=b'{\"test\": \"test\"}', headers=[], checksum=None, serialized_key_size=-1, serialized_value_size=16, serialized_header_size=-1),\n",
       " ConsumerRecord(topic='test', partition=0, offset=168, timestamp=1584364751733, timestamp_type=0, key=None, value=b'{\"test\": \"test\"}', headers=[], checksum=None, serialized_key_size=-1, serialized_value_size=16, serialized_header_size=-1),\n",
       " ConsumerRecord(topic='test', partition=0, offset=169, timestamp=1584364751733, timestamp_type=0, key=None, value=b'{\"test\": \"test\"}', headers=[], checksum=None, serialized_key_size=-1, serialized_value_size=16, serialized_header_size=-1),\n",
       " ConsumerRecord(topic='test', partition=0, offset=170, timestamp=1584364751733, timestamp_type=0, key=None, value=b'{\"test\": \"test\"}', headers=[], checksum=None, serialized_key_size=-1, serialized_value_size=16, serialized_header_size=-1),\n",
       " ConsumerRecord(topic='test', partition=0, offset=171, timestamp=1584364781760, timestamp_type=0, key=None, value=b'{\"test\": \"test\"}', headers=[], checksum=None, serialized_key_size=-1, serialized_value_size=16, serialized_header_size=-1),\n",
       " ConsumerRecord(topic='test', partition=0, offset=172, timestamp=1584364781760, timestamp_type=0, key=None, value=b'{\"test\": \"test\"}', headers=[], checksum=None, serialized_key_size=-1, serialized_value_size=16, serialized_header_size=-1),\n",
       " ConsumerRecord(topic='test', partition=0, offset=173, timestamp=1584364781760, timestamp_type=0, key=None, value=b'{\"test\": \"test\"}', headers=[], checksum=None, serialized_key_size=-1, serialized_value_size=16, serialized_header_size=-1),\n",
       " ConsumerRecord(topic='test', partition=0, offset=174, timestamp=1584364794599, timestamp_type=0, key=None, value=b'{\"test\": \"test\"}', headers=[], checksum=None, serialized_key_size=-1, serialized_value_size=16, serialized_header_size=-1),\n",
       " ConsumerRecord(topic='test', partition=0, offset=175, timestamp=1584364794599, timestamp_type=0, key=None, value=b'{\"test\": \"test\"}', headers=[], checksum=None, serialized_key_size=-1, serialized_value_size=16, serialized_header_size=-1),\n",
       " ConsumerRecord(topic='test', partition=0, offset=176, timestamp=1584364794599, timestamp_type=0, key=None, value=b'{\"test\": \"test\"}', headers=[], checksum=None, serialized_key_size=-1, serialized_value_size=16, serialized_header_size=-1),\n",
       " ConsumerRecord(topic='test', partition=0, offset=177, timestamp=1584364794943, timestamp_type=0, key=None, value=b'{\"test\": \"test\"}', headers=[], checksum=None, serialized_key_size=-1, serialized_value_size=16, serialized_header_size=-1),\n",
       " ConsumerRecord(topic='test', partition=0, offset=178, timestamp=1584364794943, timestamp_type=0, key=None, value=b'{\"test\": \"test\"}', headers=[], checksum=None, serialized_key_size=-1, serialized_value_size=16, serialized_header_size=-1),\n",
       " ConsumerRecord(topic='test', partition=0, offset=179, timestamp=1584364794943, timestamp_type=0, key=None, value=b'{\"test\": \"test\"}', headers=[], checksum=None, serialized_key_size=-1, serialized_value_size=16, serialized_header_size=-1),\n",
       " ConsumerRecord(topic='test', partition=0, offset=180, timestamp=1584364795135, timestamp_type=0, key=None, value=b'{\"test\": \"test\"}', headers=[], checksum=None, serialized_key_size=-1, serialized_value_size=16, serialized_header_size=-1),\n",
       " ConsumerRecord(topic='test', partition=0, offset=181, timestamp=1584364795135, timestamp_type=0, key=None, value=b'{\"test\": \"test\"}', headers=[], checksum=None, serialized_key_size=-1, serialized_value_size=16, serialized_header_size=-1),\n",
       " ConsumerRecord(topic='test', partition=0, offset=182, timestamp=1584364795135, timestamp_type=0, key=None, value=b'{\"test\": \"test\"}', headers=[], checksum=None, serialized_key_size=-1, serialized_value_size=16, serialized_header_size=-1),\n",
       " ConsumerRecord(topic='test', partition=0, offset=183, timestamp=1584364795637, timestamp_type=0, key=None, value=b'{\"test\": \"test\"}', headers=[], checksum=None, serialized_key_size=-1, serialized_value_size=16, serialized_header_size=-1),\n",
       " ConsumerRecord(topic='test', partition=0, offset=184, timestamp=1584364795637, timestamp_type=0, key=None, value=b'{\"test\": \"test\"}', headers=[], checksum=None, serialized_key_size=-1, serialized_value_size=16, serialized_header_size=-1),\n",
       " ConsumerRecord(topic='test', partition=0, offset=185, timestamp=1584364795637, timestamp_type=0, key=None, value=b'{\"test\": \"test\"}', headers=[], checksum=None, serialized_key_size=-1, serialized_value_size=16, serialized_header_size=-1),\n",
       " ConsumerRecord(topic='test', partition=0, offset=186, timestamp=1584364795720, timestamp_type=0, key=None, value=b'{\"test\": \"test\"}', headers=[], checksum=None, serialized_key_size=-1, serialized_value_size=16, serialized_header_size=-1),\n",
       " ConsumerRecord(topic='test', partition=0, offset=187, timestamp=1584364795720, timestamp_type=0, key=None, value=b'{\"test\": \"test\"}', headers=[], checksum=None, serialized_key_size=-1, serialized_value_size=16, serialized_header_size=-1),\n",
       " ConsumerRecord(topic='test', partition=0, offset=188, timestamp=1584364795720, timestamp_type=0, key=None, value=b'{\"test\": \"test\"}', headers=[], checksum=None, serialized_key_size=-1, serialized_value_size=16, serialized_header_size=-1),\n",
       " ConsumerRecord(topic='test', partition=0, offset=189, timestamp=1584364795803, timestamp_type=0, key=None, value=b'{\"test\": \"test\"}', headers=[], checksum=None, serialized_key_size=-1, serialized_value_size=16, serialized_header_size=-1),\n",
       " ConsumerRecord(topic='test', partition=0, offset=190, timestamp=1584364795803, timestamp_type=0, key=None, value=b'{\"test\": \"test\"}', headers=[], checksum=None, serialized_key_size=-1, serialized_value_size=16, serialized_header_size=-1),\n",
       " ConsumerRecord(topic='test', partition=0, offset=191, timestamp=1584364795804, timestamp_type=0, key=None, value=b'{\"test\": \"test\"}', headers=[], checksum=None, serialized_key_size=-1, serialized_value_size=16, serialized_header_size=-1),\n",
       " ConsumerRecord(topic='test', partition=0, offset=192, timestamp=1584364795887, timestamp_type=0, key=None, value=b'{\"test\": \"test\"}', headers=[], checksum=None, serialized_key_size=-1, serialized_value_size=16, serialized_header_size=-1),\n",
       " ConsumerRecord(topic='test', partition=0, offset=193, timestamp=1584364795887, timestamp_type=0, key=None, value=b'{\"test\": \"test\"}', headers=[], checksum=None, serialized_key_size=-1, serialized_value_size=16, serialized_header_size=-1),\n",
       " ConsumerRecord(topic='test', partition=0, offset=194, timestamp=1584364795887, timestamp_type=0, key=None, value=b'{\"test\": \"test\"}', headers=[], checksum=None, serialized_key_size=-1, serialized_value_size=16, serialized_header_size=-1),\n",
       " ConsumerRecord(topic='test', partition=0, offset=195, timestamp=1584364803592, timestamp_type=0, key=None, value=b'{\"test\": \"test\"}', headers=[], checksum=None, serialized_key_size=-1, serialized_value_size=16, serialized_header_size=-1),\n",
       " ConsumerRecord(topic='test', partition=0, offset=196, timestamp=1584364803592, timestamp_type=0, key=None, value=b'{\"test\": \"test\"}', headers=[], checksum=None, serialized_key_size=-1, serialized_value_size=16, serialized_header_size=-1),\n",
       " ConsumerRecord(topic='test', partition=0, offset=197, timestamp=1584364803592, timestamp_type=0, key=None, value=b'{\"test\": \"test\"}', headers=[], checksum=None, serialized_key_size=-1, serialized_value_size=16, serialized_header_size=-1),\n",
       " ConsumerRecord(topic='test', partition=0, offset=198, timestamp=1584364803807, timestamp_type=0, key=None, value=b'{\"test\": \"test\"}', headers=[], checksum=None, serialized_key_size=-1, serialized_value_size=16, serialized_header_size=-1),\n",
       " ConsumerRecord(topic='test', partition=0, offset=199, timestamp=1584364803807, timestamp_type=0, key=None, value=b'{\"test\": \"test\"}', headers=[], checksum=None, serialized_key_size=-1, serialized_value_size=16, serialized_header_size=-1),\n",
       " ConsumerRecord(topic='test', partition=0, offset=200, timestamp=1584364803807, timestamp_type=0, key=None, value=b'{\"test\": \"test\"}', headers=[], checksum=None, serialized_key_size=-1, serialized_value_size=16, serialized_header_size=-1),\n",
       " ConsumerRecord(topic='test', partition=0, offset=201, timestamp=1584364804006, timestamp_type=0, key=None, value=b'{\"test\": \"test\"}', headers=[], checksum=None, serialized_key_size=-1, serialized_value_size=16, serialized_header_size=-1),\n",
       " ConsumerRecord(topic='test', partition=0, offset=202, timestamp=1584364804006, timestamp_type=0, key=None, value=b'{\"test\": \"test\"}', headers=[], checksum=None, serialized_key_size=-1, serialized_value_size=16, serialized_header_size=-1),\n",
       " ConsumerRecord(topic='test', partition=0, offset=203, timestamp=1584364804006, timestamp_type=0, key=None, value=b'{\"test\": \"test\"}', headers=[], checksum=None, serialized_key_size=-1, serialized_value_size=16, serialized_header_size=-1),\n",
       " ConsumerRecord(topic='test', partition=0, offset=204, timestamp=1584364804198, timestamp_type=0, key=None, value=b'{\"test\": \"test\"}', headers=[], checksum=None, serialized_key_size=-1, serialized_value_size=16, serialized_header_size=-1),\n",
       " ConsumerRecord(topic='test', partition=0, offset=205, timestamp=1584364804199, timestamp_type=0, key=None, value=b'{\"test\": \"test\"}', headers=[], checksum=None, serialized_key_size=-1, serialized_value_size=16, serialized_header_size=-1),\n",
       " ConsumerRecord(topic='test', partition=0, offset=206, timestamp=1584364804199, timestamp_type=0, key=None, value=b'{\"test\": \"test\"}', headers=[], checksum=None, serialized_key_size=-1, serialized_value_size=16, serialized_header_size=-1),\n",
       " ConsumerRecord(topic='test', partition=0, offset=207, timestamp=1584364804383, timestamp_type=0, key=None, value=b'{\"test\": \"test\"}', headers=[], checksum=None, serialized_key_size=-1, serialized_value_size=16, serialized_header_size=-1),\n",
       " ConsumerRecord(topic='test', partition=0, offset=208, timestamp=1584364804383, timestamp_type=0, key=None, value=b'{\"test\": \"test\"}', headers=[], checksum=None, serialized_key_size=-1, serialized_value_size=16, serialized_header_size=-1),\n",
       " ConsumerRecord(topic='test', partition=0, offset=209, timestamp=1584364804383, timestamp_type=0, key=None, value=b'{\"test\": \"test\"}', headers=[], checksum=None, serialized_key_size=-1, serialized_value_size=16, serialized_header_size=-1),\n",
       " ConsumerRecord(topic='test', partition=0, offset=210, timestamp=1584364804584, timestamp_type=0, key=None, value=b'{\"test\": \"test\"}', headers=[], checksum=None, serialized_key_size=-1, serialized_value_size=16, serialized_header_size=-1),\n",
       " ConsumerRecord(topic='test', partition=0, offset=211, timestamp=1584364804584, timestamp_type=0, key=None, value=b'{\"test\": \"test\"}', headers=[], checksum=None, serialized_key_size=-1, serialized_value_size=16, serialized_header_size=-1),\n",
       " ConsumerRecord(topic='test', partition=0, offset=212, timestamp=1584364804585, timestamp_type=0, key=None, value=b'{\"test\": \"test\"}', headers=[], checksum=None, serialized_key_size=-1, serialized_value_size=16, serialized_header_size=-1),\n",
       " ConsumerRecord(topic='test', partition=0, offset=213, timestamp=1584364804767, timestamp_type=0, key=None, value=b'{\"test\": \"test\"}', headers=[], checksum=None, serialized_key_size=-1, serialized_value_size=16, serialized_header_size=-1),\n",
       " ConsumerRecord(topic='test', partition=0, offset=214, timestamp=1584364804767, timestamp_type=0, key=None, value=b'{\"test\": \"test\"}', headers=[], checksum=None, serialized_key_size=-1, serialized_value_size=16, serialized_header_size=-1),\n",
       " ConsumerRecord(topic='test', partition=0, offset=215, timestamp=1584364804767, timestamp_type=0, key=None, value=b'{\"test\": \"test\"}', headers=[], checksum=None, serialized_key_size=-1, serialized_value_size=16, serialized_header_size=-1),\n",
       " ConsumerRecord(topic='test', partition=0, offset=216, timestamp=1584364804935, timestamp_type=0, key=None, value=b'{\"test\": \"test\"}', headers=[], checksum=None, serialized_key_size=-1, serialized_value_size=16, serialized_header_size=-1),\n",
       " ConsumerRecord(topic='test', partition=0, offset=217, timestamp=1584364804935, timestamp_type=0, key=None, value=b'{\"test\": \"test\"}', headers=[], checksum=None, serialized_key_size=-1, serialized_value_size=16, serialized_header_size=-1),\n",
       " ConsumerRecord(topic='test', partition=0, offset=218, timestamp=1584364804935, timestamp_type=0, key=None, value=b'{\"test\": \"test\"}', headers=[], checksum=None, serialized_key_size=-1, serialized_value_size=16, serialized_header_size=-1),\n",
       " ConsumerRecord(topic='test', partition=0, offset=219, timestamp=1584364805112, timestamp_type=0, key=None, value=b'{\"test\": \"test\"}', headers=[], checksum=None, serialized_key_size=-1, serialized_value_size=16, serialized_header_size=-1),\n",
       " ConsumerRecord(topic='test', partition=0, offset=220, timestamp=1584364805112, timestamp_type=0, key=None, value=b'{\"test\": \"test\"}', headers=[], checksum=None, serialized_key_size=-1, serialized_value_size=16, serialized_header_size=-1),\n",
       " ConsumerRecord(topic='test', partition=0, offset=221, timestamp=1584364805112, timestamp_type=0, key=None, value=b'{\"test\": \"test\"}', headers=[], checksum=None, serialized_key_size=-1, serialized_value_size=16, serialized_header_size=-1),\n",
       " ConsumerRecord(topic='test', partition=0, offset=222, timestamp=1584364805279, timestamp_type=0, key=None, value=b'{\"test\": \"test\"}', headers=[], checksum=None, serialized_key_size=-1, serialized_value_size=16, serialized_header_size=-1),\n",
       " ConsumerRecord(topic='test', partition=0, offset=223, timestamp=1584364805280, timestamp_type=0, key=None, value=b'{\"test\": \"test\"}', headers=[], checksum=None, serialized_key_size=-1, serialized_value_size=16, serialized_header_size=-1),\n",
       " ConsumerRecord(topic='test', partition=0, offset=224, timestamp=1584364805280, timestamp_type=0, key=None, value=b'{\"test\": \"test\"}', headers=[], checksum=None, serialized_key_size=-1, serialized_value_size=16, serialized_header_size=-1),\n",
       " ConsumerRecord(topic='test', partition=0, offset=225, timestamp=1584364805471, timestamp_type=0, key=None, value=b'{\"test\": \"test\"}', headers=[], checksum=None, serialized_key_size=-1, serialized_value_size=16, serialized_header_size=-1),\n",
       " ConsumerRecord(topic='test', partition=0, offset=226, timestamp=1584364805471, timestamp_type=0, key=None, value=b'{\"test\": \"test\"}', headers=[], checksum=None, serialized_key_size=-1, serialized_value_size=16, serialized_header_size=-1),\n",
       " ConsumerRecord(topic='test', partition=0, offset=227, timestamp=1584364805471, timestamp_type=0, key=None, value=b'{\"test\": \"test\"}', headers=[], checksum=None, serialized_key_size=-1, serialized_value_size=16, serialized_header_size=-1),\n",
       " ConsumerRecord(topic='test', partition=0, offset=228, timestamp=1584364805663, timestamp_type=0, key=None, value=b'{\"test\": \"test\"}', headers=[], checksum=None, serialized_key_size=-1, serialized_value_size=16, serialized_header_size=-1),\n",
       " ConsumerRecord(topic='test', partition=0, offset=229, timestamp=1584364805663, timestamp_type=0, key=None, value=b'{\"test\": \"test\"}', headers=[], checksum=None, serialized_key_size=-1, serialized_value_size=16, serialized_header_size=-1),\n",
       " ConsumerRecord(topic='test', partition=0, offset=230, timestamp=1584364805663, timestamp_type=0, key=None, value=b'{\"test\": \"test\"}', headers=[], checksum=None, serialized_key_size=-1, serialized_value_size=16, serialized_header_size=-1),\n",
       " ConsumerRecord(topic='test', partition=0, offset=231, timestamp=1584364805968, timestamp_type=0, key=None, value=b'{\"test\": \"test\"}', headers=[], checksum=None, serialized_key_size=-1, serialized_value_size=16, serialized_header_size=-1),\n",
       " ConsumerRecord(topic='test', partition=0, offset=232, timestamp=1584364805968, timestamp_type=0, key=None, value=b'{\"test\": \"test\"}', headers=[], checksum=None, serialized_key_size=-1, serialized_value_size=16, serialized_header_size=-1),\n",
       " ConsumerRecord(topic='test', partition=0, offset=233, timestamp=1584364805968, timestamp_type=0, key=None, value=b'{\"test\": \"test\"}', headers=[], checksum=None, serialized_key_size=-1, serialized_value_size=16, serialized_header_size=-1),\n",
       " ConsumerRecord(topic='test', partition=0, offset=234, timestamp=1584364835992, timestamp_type=0, key=None, value=b'{\"test\": \"test\"}', headers=[], checksum=None, serialized_key_size=-1, serialized_value_size=16, serialized_header_size=-1),\n",
       " ConsumerRecord(topic='test', partition=0, offset=235, timestamp=1584364835992, timestamp_type=0, key=None, value=b'{\"test\": \"test\"}', headers=[], checksum=None, serialized_key_size=-1, serialized_value_size=16, serialized_header_size=-1),\n",
       " ConsumerRecord(topic='test', partition=0, offset=236, timestamp=1584364835992, timestamp_type=0, key=None, value=b'{\"test\": \"test\"}', headers=[], checksum=None, serialized_key_size=-1, serialized_value_size=16, serialized_header_size=-1),\n",
       " ConsumerRecord(topic='test', partition=0, offset=237, timestamp=1584364843814, timestamp_type=0, key=None, value=b'{\"test\": \"test\"}', headers=[], checksum=None, serialized_key_size=-1, serialized_value_size=16, serialized_header_size=-1),\n",
       " ConsumerRecord(topic='test', partition=0, offset=238, timestamp=1584364843814, timestamp_type=0, key=None, value=b'{\"test\": \"test\"}', headers=[], checksum=None, serialized_key_size=-1, serialized_value_size=16, serialized_header_size=-1),\n",
       " ConsumerRecord(topic='test', partition=0, offset=239, timestamp=1584364843814, timestamp_type=0, key=None, value=b'{\"test\": \"test\"}', headers=[], checksum=None, serialized_key_size=-1, serialized_value_size=16, serialized_header_size=-1),\n",
       " ConsumerRecord(topic='test', partition=0, offset=240, timestamp=1584364898837, timestamp_type=0, key=None, value=b'{\"test\": \"test\"}', headers=[], checksum=None, serialized_key_size=-1, serialized_value_size=16, serialized_header_size=-1),\n",
       " ConsumerRecord(topic='test', partition=0, offset=241, timestamp=1584364898838, timestamp_type=0, key=None, value=b'{\"test\": \"test\"}', headers=[], checksum=None, serialized_key_size=-1, serialized_value_size=16, serialized_header_size=-1),\n",
       " ConsumerRecord(topic='test', partition=0, offset=242, timestamp=1584364898838, timestamp_type=0, key=None, value=b'{\"test\": \"test\"}', headers=[], checksum=None, serialized_key_size=-1, serialized_value_size=16, serialized_header_size=-1),\n",
       " ConsumerRecord(topic='test', partition=0, offset=243, timestamp=1584364928868, timestamp_type=0, key=None, value=b'{\"test\": \"test\"}', headers=[], checksum=None, serialized_key_size=-1, serialized_value_size=16, serialized_header_size=-1),\n",
       " ConsumerRecord(topic='test', partition=0, offset=244, timestamp=1584364928869, timestamp_type=0, key=None, value=b'{\"test\": \"test\"}', headers=[], checksum=None, serialized_key_size=-1, serialized_value_size=16, serialized_header_size=-1),\n",
       " ConsumerRecord(topic='test', partition=0, offset=245, timestamp=1584364928869, timestamp_type=0, key=None, value=b'{\"test\": \"test\"}', headers=[], checksum=None, serialized_key_size=-1, serialized_value_size=16, serialized_header_size=-1),\n",
       " ConsumerRecord(topic='test', partition=0, offset=246, timestamp=1584364955930, timestamp_type=0, key=None, value=b'{\"test\": \"test\"}', headers=[], checksum=None, serialized_key_size=-1, serialized_value_size=16, serialized_header_size=-1),\n",
       " ConsumerRecord(topic='test', partition=0, offset=247, timestamp=1584364955930, timestamp_type=0, key=None, value=b'{\"test\": \"test\"}', headers=[], checksum=None, serialized_key_size=-1, serialized_value_size=16, serialized_header_size=-1),\n",
       " ConsumerRecord(topic='test', partition=0, offset=248, timestamp=1584364955930, timestamp_type=0, key=None, value=b'{\"test\": \"test\"}', headers=[], checksum=None, serialized_key_size=-1, serialized_value_size=16, serialized_header_size=-1),\n",
       " ConsumerRecord(topic='test', partition=0, offset=249, timestamp=1584364956490, timestamp_type=0, key=None, value=b'{\"test\": \"test\"}', headers=[], checksum=None, serialized_key_size=-1, serialized_value_size=16, serialized_header_size=-1),\n",
       " ConsumerRecord(topic='test', partition=0, offset=250, timestamp=1584364956490, timestamp_type=0, key=None, value=b'{\"test\": \"test\"}', headers=[], checksum=None, serialized_key_size=-1, serialized_value_size=16, serialized_header_size=-1),\n",
       " ConsumerRecord(topic='test', partition=0, offset=251, timestamp=1584364956490, timestamp_type=0, key=None, value=b'{\"test\": \"test\"}', headers=[], checksum=None, serialized_key_size=-1, serialized_value_size=16, serialized_header_size=-1),\n",
       " ConsumerRecord(topic='test', partition=0, offset=252, timestamp=1584364985361, timestamp_type=0, key=None, value=b'{\"test\": \"test\"}', headers=[], checksum=None, serialized_key_size=-1, serialized_value_size=16, serialized_header_size=-1),\n",
       " ConsumerRecord(topic='test', partition=0, offset=253, timestamp=1584364985361, timestamp_type=0, key=None, value=b'{\"test\": \"test\"}', headers=[], checksum=None, serialized_key_size=-1, serialized_value_size=16, serialized_header_size=-1),\n",
       " ConsumerRecord(topic='test', partition=0, offset=254, timestamp=1584364985362, timestamp_type=0, key=None, value=b'{\"test\": \"test\"}', headers=[], checksum=None, serialized_key_size=-1, serialized_value_size=16, serialized_header_size=-1),\n",
       " ConsumerRecord(topic='test', partition=0, offset=255, timestamp=1584364987809, timestamp_type=0, key=None, value=b'{\"test\": \"test\"}', headers=[], checksum=None, serialized_key_size=-1, serialized_value_size=16, serialized_header_size=-1),\n",
       " ConsumerRecord(topic='test', partition=0, offset=256, timestamp=1584364987809, timestamp_type=0, key=None, value=b'{\"test\": \"test\"}', headers=[], checksum=None, serialized_key_size=-1, serialized_value_size=16, serialized_header_size=-1),\n",
       " ConsumerRecord(topic='test', partition=0, offset=257, timestamp=1584364987809, timestamp_type=0, key=None, value=b'{\"test\": \"test\"}', headers=[], checksum=None, serialized_key_size=-1, serialized_value_size=16, serialized_header_size=-1),\n",
       " ConsumerRecord(topic='test', partition=0, offset=258, timestamp=1584365017836, timestamp_type=0, key=None, value=b'{\"test\": \"test\"}', headers=[], checksum=None, serialized_key_size=-1, serialized_value_size=16, serialized_header_size=-1),\n",
       " ConsumerRecord(topic='test', partition=0, offset=259, timestamp=1584365017836, timestamp_type=0, key=None, value=b'{\"test\": \"test\"}', headers=[], checksum=None, serialized_key_size=-1, serialized_value_size=16, serialized_header_size=-1),\n",
       " ConsumerRecord(topic='test', partition=0, offset=260, timestamp=1584365017836, timestamp_type=0, key=None, value=b'{\"test\": \"test\"}', headers=[], checksum=None, serialized_key_size=-1, serialized_value_size=16, serialized_header_size=-1),\n",
       " ConsumerRecord(topic='test', partition=0, offset=261, timestamp=1584365047851, timestamp_type=0, key=None, value=b'{\"test\": \"test\"}', headers=[], checksum=None, serialized_key_size=-1, serialized_value_size=16, serialized_header_size=-1),\n",
       " ConsumerRecord(topic='test', partition=0, offset=262, timestamp=1584365047851, timestamp_type=0, key=None, value=b'{\"test\": \"test\"}', headers=[], checksum=None, serialized_key_size=-1, serialized_value_size=16, serialized_header_size=-1),\n",
       " ConsumerRecord(topic='test', partition=0, offset=263, timestamp=1584365047851, timestamp_type=0, key=None, value=b'{\"test\": \"test\"}', headers=[], checksum=None, serialized_key_size=-1, serialized_value_size=16, serialized_header_size=-1),\n",
       " ConsumerRecord(topic='test', partition=0, offset=264, timestamp=1584365077883, timestamp_type=0, key=None, value=b'{\"test\": \"test\"}', headers=[], checksum=None, serialized_key_size=-1, serialized_value_size=16, serialized_header_size=-1),\n",
       " ConsumerRecord(topic='test', partition=0, offset=265, timestamp=1584365077883, timestamp_type=0, key=None, value=b'{\"test\": \"test\"}', headers=[], checksum=None, serialized_key_size=-1, serialized_value_size=16, serialized_header_size=-1),\n",
       " ConsumerRecord(topic='test', partition=0, offset=266, timestamp=1584365077883, timestamp_type=0, key=None, value=b'{\"test\": \"test\"}', headers=[], checksum=None, serialized_key_size=-1, serialized_value_size=16, serialized_header_size=-1),\n",
       " ConsumerRecord(topic='test', partition=0, offset=267, timestamp=1584365107912, timestamp_type=0, key=None, value=b'{\"test\": \"test\"}', headers=[], checksum=None, serialized_key_size=-1, serialized_value_size=16, serialized_header_size=-1),\n",
       " ConsumerRecord(topic='test', partition=0, offset=268, timestamp=1584365107912, timestamp_type=0, key=None, value=b'{\"test\": \"test\"}', headers=[], checksum=None, serialized_key_size=-1, serialized_value_size=16, serialized_header_size=-1),\n",
       " ConsumerRecord(topic='test', partition=0, offset=269, timestamp=1584365107912, timestamp_type=0, key=None, value=b'{\"test\": \"test\"}', headers=[], checksum=None, serialized_key_size=-1, serialized_value_size=16, serialized_header_size=-1),\n",
       " ConsumerRecord(topic='test', partition=0, offset=270, timestamp=1584365137943, timestamp_type=0, key=None, value=b'{\"test\": \"test\"}', headers=[], checksum=None, serialized_key_size=-1, serialized_value_size=16, serialized_header_size=-1),\n",
       " ConsumerRecord(topic='test', partition=0, offset=271, timestamp=1584365137943, timestamp_type=0, key=None, value=b'{\"test\": \"test\"}', headers=[], checksum=None, serialized_key_size=-1, serialized_value_size=16, serialized_header_size=-1),\n",
       " ConsumerRecord(topic='test', partition=0, offset=272, timestamp=1584365137943, timestamp_type=0, key=None, value=b'{\"test\": \"test\"}', headers=[], checksum=None, serialized_key_size=-1, serialized_value_size=16, serialized_header_size=-1),\n",
       " ConsumerRecord(topic='test', partition=0, offset=273, timestamp=1584365167972, timestamp_type=0, key=None, value=b'{\"test\": \"test\"}', headers=[], checksum=None, serialized_key_size=-1, serialized_value_size=16, serialized_header_size=-1),\n",
       " ConsumerRecord(topic='test', partition=0, offset=274, timestamp=1584365167972, timestamp_type=0, key=None, value=b'{\"test\": \"test\"}', headers=[], checksum=None, serialized_key_size=-1, serialized_value_size=16, serialized_header_size=-1),\n",
       " ConsumerRecord(topic='test', partition=0, offset=275, timestamp=1584365167972, timestamp_type=0, key=None, value=b'{\"test\": \"test\"}', headers=[], checksum=None, serialized_key_size=-1, serialized_value_size=16, serialized_header_size=-1),\n",
       " ConsumerRecord(topic='test', partition=0, offset=276, timestamp=1584365198000, timestamp_type=0, key=None, value=b'{\"test\": \"test\"}', headers=[], checksum=None, serialized_key_size=-1, serialized_value_size=16, serialized_header_size=-1),\n",
       " ConsumerRecord(topic='test', partition=0, offset=277, timestamp=1584365198000, timestamp_type=0, key=None, value=b'{\"test\": \"test\"}', headers=[], checksum=None, serialized_key_size=-1, serialized_value_size=16, serialized_header_size=-1),\n",
       " ConsumerRecord(topic='test', partition=0, offset=278, timestamp=1584365198000, timestamp_type=0, key=None, value=b'{\"test\": \"test\"}', headers=[], checksum=None, serialized_key_size=-1, serialized_value_size=16, serialized_header_size=-1),\n",
       " ConsumerRecord(topic='test', partition=0, offset=279, timestamp=1584365228029, timestamp_type=0, key=None, value=b'{\"test\": \"test\"}', headers=[], checksum=None, serialized_key_size=-1, serialized_value_size=16, serialized_header_size=-1),\n",
       " ConsumerRecord(topic='test', partition=0, offset=280, timestamp=1584365228029, timestamp_type=0, key=None, value=b'{\"test\": \"test\"}', headers=[], checksum=None, serialized_key_size=-1, serialized_value_size=16, serialized_header_size=-1),\n",
       " ConsumerRecord(topic='test', partition=0, offset=281, timestamp=1584365228029, timestamp_type=0, key=None, value=b'{\"test\": \"test\"}', headers=[], checksum=None, serialized_key_size=-1, serialized_value_size=16, serialized_header_size=-1),\n",
       " ConsumerRecord(topic='test', partition=0, offset=282, timestamp=1584365258049, timestamp_type=0, key=None, value=b'{\"test\": \"test\"}', headers=[], checksum=None, serialized_key_size=-1, serialized_value_size=16, serialized_header_size=-1),\n",
       " ConsumerRecord(topic='test', partition=0, offset=283, timestamp=1584365258049, timestamp_type=0, key=None, value=b'{\"test\": \"test\"}', headers=[], checksum=None, serialized_key_size=-1, serialized_value_size=16, serialized_header_size=-1),\n",
       " ConsumerRecord(topic='test', partition=0, offset=284, timestamp=1584365258049, timestamp_type=0, key=None, value=b'{\"test\": \"test\"}', headers=[], checksum=None, serialized_key_size=-1, serialized_value_size=16, serialized_header_size=-1),\n",
       " ConsumerRecord(topic='test', partition=0, offset=285, timestamp=1584365288080, timestamp_type=0, key=None, value=b'{\"test\": \"test\"}', headers=[], checksum=None, serialized_key_size=-1, serialized_value_size=16, serialized_header_size=-1),\n",
       " ConsumerRecord(topic='test', partition=0, offset=286, timestamp=1584365288080, timestamp_type=0, key=None, value=b'{\"test\": \"test\"}', headers=[], checksum=None, serialized_key_size=-1, serialized_value_size=16, serialized_header_size=-1),\n",
       " ConsumerRecord(topic='test', partition=0, offset=287, timestamp=1584365288080, timestamp_type=0, key=None, value=b'{\"test\": \"test\"}', headers=[], checksum=None, serialized_key_size=-1, serialized_value_size=16, serialized_header_size=-1),\n",
       " ConsumerRecord(topic='test', partition=0, offset=288, timestamp=1584365318111, timestamp_type=0, key=None, value=b'{\"test\": \"test\"}', headers=[], checksum=None, serialized_key_size=-1, serialized_value_size=16, serialized_header_size=-1),\n",
       " ConsumerRecord(topic='test', partition=0, offset=289, timestamp=1584365318111, timestamp_type=0, key=None, value=b'{\"test\": \"test\"}', headers=[], checksum=None, serialized_key_size=-1, serialized_value_size=16, serialized_header_size=-1),\n",
       " ConsumerRecord(topic='test', partition=0, offset=290, timestamp=1584365318111, timestamp_type=0, key=None, value=b'{\"test\": \"test\"}', headers=[], checksum=None, serialized_key_size=-1, serialized_value_size=16, serialized_header_size=-1),\n",
       " ConsumerRecord(topic='test', partition=0, offset=291, timestamp=1584365348129, timestamp_type=0, key=None, value=b'{\"test\": \"test\"}', headers=[], checksum=None, serialized_key_size=-1, serialized_value_size=16, serialized_header_size=-1),\n",
       " ConsumerRecord(topic='test', partition=0, offset=292, timestamp=1584365348129, timestamp_type=0, key=None, value=b'{\"test\": \"test\"}', headers=[], checksum=None, serialized_key_size=-1, serialized_value_size=16, serialized_header_size=-1),\n",
       " ConsumerRecord(topic='test', partition=0, offset=293, timestamp=1584365348130, timestamp_type=0, key=None, value=b'{\"test\": \"test\"}', headers=[], checksum=None, serialized_key_size=-1, serialized_value_size=16, serialized_header_size=-1),\n",
       " ConsumerRecord(topic='test', partition=0, offset=294, timestamp=1584365378133, timestamp_type=0, key=None, value=b'{\"test\": \"test\"}', headers=[], checksum=None, serialized_key_size=-1, serialized_value_size=16, serialized_header_size=-1),\n",
       " ConsumerRecord(topic='test', partition=0, offset=295, timestamp=1584365378133, timestamp_type=0, key=None, value=b'{\"test\": \"test\"}', headers=[], checksum=None, serialized_key_size=-1, serialized_value_size=16, serialized_header_size=-1),\n",
       " ConsumerRecord(topic='test', partition=0, offset=296, timestamp=1584365378133, timestamp_type=0, key=None, value=b'{\"test\": \"test\"}', headers=[], checksum=None, serialized_key_size=-1, serialized_value_size=16, serialized_header_size=-1),\n",
       " ConsumerRecord(topic='test', partition=0, offset=297, timestamp=1584365408154, timestamp_type=0, key=None, value=b'{\"test\": \"test\"}', headers=[], checksum=None, serialized_key_size=-1, serialized_value_size=16, serialized_header_size=-1),\n",
       " ConsumerRecord(topic='test', partition=0, offset=298, timestamp=1584365408154, timestamp_type=0, key=None, value=b'{\"test\": \"test\"}', headers=[], checksum=None, serialized_key_size=-1, serialized_value_size=16, serialized_header_size=-1),\n",
       " ConsumerRecord(topic='test', partition=0, offset=299, timestamp=1584365408154, timestamp_type=0, key=None, value=b'{\"test\": \"test\"}', headers=[], checksum=None, serialized_key_size=-1, serialized_value_size=16, serialized_header_size=-1),\n",
       " ConsumerRecord(topic='test', partition=0, offset=300, timestamp=1584365438184, timestamp_type=0, key=None, value=b'{\"test\": \"test\"}', headers=[], checksum=None, serialized_key_size=-1, serialized_value_size=16, serialized_header_size=-1),\n",
       " ConsumerRecord(topic='test', partition=0, offset=301, timestamp=1584365438184, timestamp_type=0, key=None, value=b'{\"test\": \"test\"}', headers=[], checksum=None, serialized_key_size=-1, serialized_value_size=16, serialized_header_size=-1),\n",
       " ConsumerRecord(topic='test', partition=0, offset=302, timestamp=1584365438184, timestamp_type=0, key=None, value=b'{\"test\": \"test\"}', headers=[], checksum=None, serialized_key_size=-1, serialized_value_size=16, serialized_header_size=-1),\n",
       " ConsumerRecord(topic='test', partition=0, offset=303, timestamp=1584365468215, timestamp_type=0, key=None, value=b'{\"test\": \"test\"}', headers=[], checksum=None, serialized_key_size=-1, serialized_value_size=16, serialized_header_size=-1),\n",
       " ConsumerRecord(topic='test', partition=0, offset=304, timestamp=1584365468215, timestamp_type=0, key=None, value=b'{\"test\": \"test\"}', headers=[], checksum=None, serialized_key_size=-1, serialized_value_size=16, serialized_header_size=-1),\n",
       " ConsumerRecord(topic='test', partition=0, offset=305, timestamp=1584365468215, timestamp_type=0, key=None, value=b'{\"test\": \"test\"}', headers=[], checksum=None, serialized_key_size=-1, serialized_value_size=16, serialized_header_size=-1),\n",
       " ConsumerRecord(topic='test', partition=0, offset=306, timestamp=1584365498236, timestamp_type=0, key=None, value=b'{\"test\": \"test\"}', headers=[], checksum=None, serialized_key_size=-1, serialized_value_size=16, serialized_header_size=-1),\n",
       " ConsumerRecord(topic='test', partition=0, offset=307, timestamp=1584365498236, timestamp_type=0, key=None, value=b'{\"test\": \"test\"}', headers=[], checksum=None, serialized_key_size=-1, serialized_value_size=16, serialized_header_size=-1),\n",
       " ConsumerRecord(topic='test', partition=0, offset=308, timestamp=1584365498236, timestamp_type=0, key=None, value=b'{\"test\": \"test\"}', headers=[], checksum=None, serialized_key_size=-1, serialized_value_size=16, serialized_header_size=-1),\n",
       " ConsumerRecord(topic='test', partition=0, offset=309, timestamp=1584365528264, timestamp_type=0, key=None, value=b'{\"test\": \"test\"}', headers=[], checksum=None, serialized_key_size=-1, serialized_value_size=16, serialized_header_size=-1),\n",
       " ConsumerRecord(topic='test', partition=0, offset=310, timestamp=1584365528264, timestamp_type=0, key=None, value=b'{\"test\": \"test\"}', headers=[], checksum=None, serialized_key_size=-1, serialized_value_size=16, serialized_header_size=-1),\n",
       " ConsumerRecord(topic='test', partition=0, offset=311, timestamp=1584365528264, timestamp_type=0, key=None, value=b'{\"test\": \"test\"}', headers=[], checksum=None, serialized_key_size=-1, serialized_value_size=16, serialized_header_size=-1),\n",
       " ConsumerRecord(topic='test', partition=0, offset=312, timestamp=1584365558269, timestamp_type=0, key=None, value=b'{\"test\": \"test\"}', headers=[], checksum=None, serialized_key_size=-1, serialized_value_size=16, serialized_header_size=-1),\n",
       " ConsumerRecord(topic='test', partition=0, offset=313, timestamp=1584365558269, timestamp_type=0, key=None, value=b'{\"test\": \"test\"}', headers=[], checksum=None, serialized_key_size=-1, serialized_value_size=16, serialized_header_size=-1),\n",
       " ConsumerRecord(topic='test', partition=0, offset=314, timestamp=1584365558269, timestamp_type=0, key=None, value=b'{\"test\": \"test\"}', headers=[], checksum=None, serialized_key_size=-1, serialized_value_size=16, serialized_header_size=-1),\n",
       " ConsumerRecord(topic='test', partition=0, offset=315, timestamp=1584365588298, timestamp_type=0, key=None, value=b'{\"test\": \"test\"}', headers=[], checksum=None, serialized_key_size=-1, serialized_value_size=16, serialized_header_size=-1),\n",
       " ConsumerRecord(topic='test', partition=0, offset=316, timestamp=1584365588298, timestamp_type=0, key=None, value=b'{\"test\": \"test\"}', headers=[], checksum=None, serialized_key_size=-1, serialized_value_size=16, serialized_header_size=-1),\n",
       " ConsumerRecord(topic='test', partition=0, offset=317, timestamp=1584365588298, timestamp_type=0, key=None, value=b'{\"test\": \"test\"}', headers=[], checksum=None, serialized_key_size=-1, serialized_value_size=16, serialized_header_size=-1),\n",
       " ConsumerRecord(topic='test', partition=0, offset=318, timestamp=1584365618301, timestamp_type=0, key=None, value=b'{\"test\": \"test\"}', headers=[], checksum=None, serialized_key_size=-1, serialized_value_size=16, serialized_header_size=-1),\n",
       " ConsumerRecord(topic='test', partition=0, offset=319, timestamp=1584365618302, timestamp_type=0, key=None, value=b'{\"test\": \"test\"}', headers=[], checksum=None, serialized_key_size=-1, serialized_value_size=16, serialized_header_size=-1),\n",
       " ConsumerRecord(topic='test', partition=0, offset=320, timestamp=1584365618302, timestamp_type=0, key=None, value=b'{\"test\": \"test\"}', headers=[], checksum=None, serialized_key_size=-1, serialized_value_size=16, serialized_header_size=-1),\n",
       " ConsumerRecord(topic='test', partition=0, offset=321, timestamp=1584365648332, timestamp_type=0, key=None, value=b'{\"test\": \"test\"}', headers=[], checksum=None, serialized_key_size=-1, serialized_value_size=16, serialized_header_size=-1),\n",
       " ConsumerRecord(topic='test', partition=0, offset=322, timestamp=1584365648332, timestamp_type=0, key=None, value=b'{\"test\": \"test\"}', headers=[], checksum=None, serialized_key_size=-1, serialized_value_size=16, serialized_header_size=-1),\n",
       " ConsumerRecord(topic='test', partition=0, offset=323, timestamp=1584365648332, timestamp_type=0, key=None, value=b'{\"test\": \"test\"}', headers=[], checksum=None, serialized_key_size=-1, serialized_value_size=16, serialized_header_size=-1),\n",
       " ConsumerRecord(topic='test', partition=0, offset=324, timestamp=1584365678338, timestamp_type=0, key=None, value=b'{\"test\": \"test\"}', headers=[], checksum=None, serialized_key_size=-1, serialized_value_size=16, serialized_header_size=-1),\n",
       " ConsumerRecord(topic='test', partition=0, offset=325, timestamp=1584365678338, timestamp_type=0, key=None, value=b'{\"test\": \"test\"}', headers=[], checksum=None, serialized_key_size=-1, serialized_value_size=16, serialized_header_size=-1),\n",
       " ConsumerRecord(topic='test', partition=0, offset=326, timestamp=1584365678338, timestamp_type=0, key=None, value=b'{\"test\": \"test\"}', headers=[], checksum=None, serialized_key_size=-1, serialized_value_size=16, serialized_header_size=-1),\n",
       " ConsumerRecord(topic='test', partition=0, offset=327, timestamp=1584365708360, timestamp_type=0, key=None, value=b'{\"test\": \"test\"}', headers=[], checksum=None, serialized_key_size=-1, serialized_value_size=16, serialized_header_size=-1),\n",
       " ConsumerRecord(topic='test', partition=0, offset=328, timestamp=1584365708360, timestamp_type=0, key=None, value=b'{\"test\": \"test\"}', headers=[], checksum=None, serialized_key_size=-1, serialized_value_size=16, serialized_header_size=-1),\n",
       " ConsumerRecord(topic='test', partition=0, offset=329, timestamp=1584365708360, timestamp_type=0, key=None, value=b'{\"test\": \"test\"}', headers=[], checksum=None, serialized_key_size=-1, serialized_value_size=16, serialized_header_size=-1),\n",
       " ConsumerRecord(topic='test', partition=0, offset=330, timestamp=1584365738363, timestamp_type=0, key=None, value=b'{\"test\": \"test\"}', headers=[], checksum=None, serialized_key_size=-1, serialized_value_size=16, serialized_header_size=-1),\n",
       " ConsumerRecord(topic='test', partition=0, offset=331, timestamp=1584365738364, timestamp_type=0, key=None, value=b'{\"test\": \"test\"}', headers=[], checksum=None, serialized_key_size=-1, serialized_value_size=16, serialized_header_size=-1),\n",
       " ConsumerRecord(topic='test', partition=0, offset=332, timestamp=1584365738364, timestamp_type=0, key=None, value=b'{\"test\": \"test\"}', headers=[], checksum=None, serialized_key_size=-1, serialized_value_size=16, serialized_header_size=-1),\n",
       " ConsumerRecord(topic='test', partition=0, offset=333, timestamp=1584365768394, timestamp_type=0, key=None, value=b'{\"test\": \"test\"}', headers=[], checksum=None, serialized_key_size=-1, serialized_value_size=16, serialized_header_size=-1),\n",
       " ConsumerRecord(topic='test', partition=0, offset=334, timestamp=1584365768395, timestamp_type=0, key=None, value=b'{\"test\": \"test\"}', headers=[], checksum=None, serialized_key_size=-1, serialized_value_size=16, serialized_header_size=-1),\n",
       " ConsumerRecord(topic='test', partition=0, offset=335, timestamp=1584365768395, timestamp_type=0, key=None, value=b'{\"test\": \"test\"}', headers=[], checksum=None, serialized_key_size=-1, serialized_value_size=16, serialized_header_size=-1),\n",
       " ConsumerRecord(topic='test', partition=0, offset=336, timestamp=1584365798399, timestamp_type=0, key=None, value=b'{\"test\": \"test\"}', headers=[], checksum=None, serialized_key_size=-1, serialized_value_size=16, serialized_header_size=-1),\n",
       " ConsumerRecord(topic='test', partition=0, offset=337, timestamp=1584365798399, timestamp_type=0, key=None, value=b'{\"test\": \"test\"}', headers=[], checksum=None, serialized_key_size=-1, serialized_value_size=16, serialized_header_size=-1),\n",
       " ConsumerRecord(topic='test', partition=0, offset=338, timestamp=1584365798399, timestamp_type=0, key=None, value=b'{\"test\": \"test\"}', headers=[], checksum=None, serialized_key_size=-1, serialized_value_size=16, serialized_header_size=-1),\n",
       " ConsumerRecord(topic='test', partition=0, offset=339, timestamp=1584365828428, timestamp_type=0, key=None, value=b'{\"test\": \"test\"}', headers=[], checksum=None, serialized_key_size=-1, serialized_value_size=16, serialized_header_size=-1),\n",
       " ConsumerRecord(topic='test', partition=0, offset=340, timestamp=1584365828428, timestamp_type=0, key=None, value=b'{\"test\": \"test\"}', headers=[], checksum=None, serialized_key_size=-1, serialized_value_size=16, serialized_header_size=-1),\n",
       " ConsumerRecord(topic='test', partition=0, offset=341, timestamp=1584365828428, timestamp_type=0, key=None, value=b'{\"test\": \"test\"}', headers=[], checksum=None, serialized_key_size=-1, serialized_value_size=16, serialized_header_size=-1),\n",
       " ConsumerRecord(topic='test', partition=0, offset=342, timestamp=1584365858459, timestamp_type=0, key=None, value=b'{\"test\": \"test\"}', headers=[], checksum=None, serialized_key_size=-1, serialized_value_size=16, serialized_header_size=-1),\n",
       " ConsumerRecord(topic='test', partition=0, offset=343, timestamp=1584365858459, timestamp_type=0, key=None, value=b'{\"test\": \"test\"}', headers=[], checksum=None, serialized_key_size=-1, serialized_value_size=16, serialized_header_size=-1),\n",
       " ConsumerRecord(topic='test', partition=0, offset=344, timestamp=1584365858459, timestamp_type=0, key=None, value=b'{\"test\": \"test\"}', headers=[], checksum=None, serialized_key_size=-1, serialized_value_size=16, serialized_header_size=-1),\n",
       " ConsumerRecord(topic='test', partition=0, offset=345, timestamp=1584365888464, timestamp_type=0, key=None, value=b'{\"test\": \"test\"}', headers=[], checksum=None, serialized_key_size=-1, serialized_value_size=16, serialized_header_size=-1),\n",
       " ConsumerRecord(topic='test', partition=0, offset=346, timestamp=1584365888465, timestamp_type=0, key=None, value=b'{\"test\": \"test\"}', headers=[], checksum=None, serialized_key_size=-1, serialized_value_size=16, serialized_header_size=-1),\n",
       " ConsumerRecord(topic='test', partition=0, offset=347, timestamp=1584365888465, timestamp_type=0, key=None, value=b'{\"test\": \"test\"}', headers=[], checksum=None, serialized_key_size=-1, serialized_value_size=16, serialized_header_size=-1),\n",
       " ConsumerRecord(topic='test', partition=0, offset=348, timestamp=1584365918477, timestamp_type=0, key=None, value=b'{\"test\": \"test\"}', headers=[], checksum=None, serialized_key_size=-1, serialized_value_size=16, serialized_header_size=-1),\n",
       " ConsumerRecord(topic='test', partition=0, offset=349, timestamp=1584365918477, timestamp_type=0, key=None, value=b'{\"test\": \"test\"}', headers=[], checksum=None, serialized_key_size=-1, serialized_value_size=16, serialized_header_size=-1),\n",
       " ConsumerRecord(topic='test', partition=0, offset=350, timestamp=1584365918477, timestamp_type=0, key=None, value=b'{\"test\": \"test\"}', headers=[], checksum=None, serialized_key_size=-1, serialized_value_size=16, serialized_header_size=-1),\n",
       " ConsumerRecord(topic='test', partition=0, offset=351, timestamp=1584365948507, timestamp_type=0, key=None, value=b'{\"test\": \"test\"}', headers=[], checksum=None, serialized_key_size=-1, serialized_value_size=16, serialized_header_size=-1),\n",
       " ConsumerRecord(topic='test', partition=0, offset=352, timestamp=1584365948508, timestamp_type=0, key=None, value=b'{\"test\": \"test\"}', headers=[], checksum=None, serialized_key_size=-1, serialized_value_size=16, serialized_header_size=-1),\n",
       " ConsumerRecord(topic='test', partition=0, offset=353, timestamp=1584365948508, timestamp_type=0, key=None, value=b'{\"test\": \"test\"}', headers=[], checksum=None, serialized_key_size=-1, serialized_value_size=16, serialized_header_size=-1),\n",
       " ConsumerRecord(topic='test', partition=0, offset=354, timestamp=1584365978512, timestamp_type=0, key=None, value=b'{\"test\": \"test\"}', headers=[], checksum=None, serialized_key_size=-1, serialized_value_size=16, serialized_header_size=-1),\n",
       " ConsumerRecord(topic='test', partition=0, offset=355, timestamp=1584365978512, timestamp_type=0, key=None, value=b'{\"test\": \"test\"}', headers=[], checksum=None, serialized_key_size=-1, serialized_value_size=16, serialized_header_size=-1),\n",
       " ConsumerRecord(topic='test', partition=0, offset=356, timestamp=1584365978513, timestamp_type=0, key=None, value=b'{\"test\": \"test\"}', headers=[], checksum=None, serialized_key_size=-1, serialized_value_size=16, serialized_header_size=-1),\n",
       " ConsumerRecord(topic='test', partition=0, offset=357, timestamp=1584366008520, timestamp_type=0, key=None, value=b'{\"test\": \"test\"}', headers=[], checksum=None, serialized_key_size=-1, serialized_value_size=16, serialized_header_size=-1),\n",
       " ConsumerRecord(topic='test', partition=0, offset=358, timestamp=1584366008520, timestamp_type=0, key=None, value=b'{\"test\": \"test\"}', headers=[], checksum=None, serialized_key_size=-1, serialized_value_size=16, serialized_header_size=-1),\n",
       " ConsumerRecord(topic='test', partition=0, offset=359, timestamp=1584366008520, timestamp_type=0, key=None, value=b'{\"test\": \"test\"}', headers=[], checksum=None, serialized_key_size=-1, serialized_value_size=16, serialized_header_size=-1),\n",
       " ConsumerRecord(topic='test', partition=0, offset=360, timestamp=1584366038548, timestamp_type=0, key=None, value=b'{\"test\": \"test\"}', headers=[], checksum=None, serialized_key_size=-1, serialized_value_size=16, serialized_header_size=-1),\n",
       " ConsumerRecord(topic='test', partition=0, offset=361, timestamp=1584366038548, timestamp_type=0, key=None, value=b'{\"test\": \"test\"}', headers=[], checksum=None, serialized_key_size=-1, serialized_value_size=16, serialized_header_size=-1),\n",
       " ConsumerRecord(topic='test', partition=0, offset=362, timestamp=1584366038548, timestamp_type=0, key=None, value=b'{\"test\": \"test\"}', headers=[], checksum=None, serialized_key_size=-1, serialized_value_size=16, serialized_header_size=-1),\n",
       " ConsumerRecord(topic='test', partition=0, offset=363, timestamp=1584366068551, timestamp_type=0, key=None, value=b'{\"test\": \"test\"}', headers=[], checksum=None, serialized_key_size=-1, serialized_value_size=16, serialized_header_size=-1),\n",
       " ConsumerRecord(topic='test', partition=0, offset=364, timestamp=1584366068552, timestamp_type=0, key=None, value=b'{\"test\": \"test\"}', headers=[], checksum=None, serialized_key_size=-1, serialized_value_size=16, serialized_header_size=-1),\n",
       " ConsumerRecord(topic='test', partition=0, offset=365, timestamp=1584366068552, timestamp_type=0, key=None, value=b'{\"test\": \"test\"}', headers=[], checksum=None, serialized_key_size=-1, serialized_value_size=16, serialized_header_size=-1),\n",
       " ConsumerRecord(topic='test', partition=0, offset=366, timestamp=1584366098562, timestamp_type=0, key=None, value=b'{\"test\": \"test\"}', headers=[], checksum=None, serialized_key_size=-1, serialized_value_size=16, serialized_header_size=-1),\n",
       " ConsumerRecord(topic='test', partition=0, offset=367, timestamp=1584366098562, timestamp_type=0, key=None, value=b'{\"test\": \"test\"}', headers=[], checksum=None, serialized_key_size=-1, serialized_value_size=16, serialized_header_size=-1),\n",
       " ConsumerRecord(topic='test', partition=0, offset=368, timestamp=1584366098562, timestamp_type=0, key=None, value=b'{\"test\": \"test\"}', headers=[], checksum=None, serialized_key_size=-1, serialized_value_size=16, serialized_header_size=-1),\n",
       " ConsumerRecord(topic='test', partition=0, offset=369, timestamp=1584366128571, timestamp_type=0, key=None, value=b'{\"test\": \"test\"}', headers=[], checksum=None, serialized_key_size=-1, serialized_value_size=16, serialized_header_size=-1),\n",
       " ConsumerRecord(topic='test', partition=0, offset=370, timestamp=1584366128572, timestamp_type=0, key=None, value=b'{\"test\": \"test\"}', headers=[], checksum=None, serialized_key_size=-1, serialized_value_size=16, serialized_header_size=-1),\n",
       " ConsumerRecord(topic='test', partition=0, offset=371, timestamp=1584366128572, timestamp_type=0, key=None, value=b'{\"test\": \"test\"}', headers=[], checksum=None, serialized_key_size=-1, serialized_value_size=16, serialized_header_size=-1),\n",
       " ConsumerRecord(topic='test', partition=0, offset=372, timestamp=1584366158600, timestamp_type=0, key=None, value=b'{\"test\": \"test\"}', headers=[], checksum=None, serialized_key_size=-1, serialized_value_size=16, serialized_header_size=-1),\n",
       " ConsumerRecord(topic='test', partition=0, offset=373, timestamp=1584366158600, timestamp_type=0, key=None, value=b'{\"test\": \"test\"}', headers=[], checksum=None, serialized_key_size=-1, serialized_value_size=16, serialized_header_size=-1),\n",
       " ConsumerRecord(topic='test', partition=0, offset=374, timestamp=1584366158600, timestamp_type=0, key=None, value=b'{\"test\": \"test\"}', headers=[], checksum=None, serialized_key_size=-1, serialized_value_size=16, serialized_header_size=-1),\n",
       " ConsumerRecord(topic='test', partition=0, offset=375, timestamp=1584366188624, timestamp_type=0, key=None, value=b'{\"test\": \"test\"}', headers=[], checksum=None, serialized_key_size=-1, serialized_value_size=16, serialized_header_size=-1),\n",
       " ConsumerRecord(topic='test', partition=0, offset=376, timestamp=1584366188624, timestamp_type=0, key=None, value=b'{\"test\": \"test\"}', headers=[], checksum=None, serialized_key_size=-1, serialized_value_size=16, serialized_header_size=-1),\n",
       " ConsumerRecord(topic='test', partition=0, offset=377, timestamp=1584366188624, timestamp_type=0, key=None, value=b'{\"test\": \"test\"}', headers=[], checksum=None, serialized_key_size=-1, serialized_value_size=16, serialized_header_size=-1),\n",
       " ConsumerRecord(topic='test', partition=0, offset=378, timestamp=1584366218648, timestamp_type=0, key=None, value=b'{\"test\": \"test\"}', headers=[], checksum=None, serialized_key_size=-1, serialized_value_size=16, serialized_header_size=-1),\n",
       " ConsumerRecord(topic='test', partition=0, offset=379, timestamp=1584366218649, timestamp_type=0, key=None, value=b'{\"test\": \"test\"}', headers=[], checksum=None, serialized_key_size=-1, serialized_value_size=16, serialized_header_size=-1),\n",
       " ConsumerRecord(topic='test', partition=0, offset=380, timestamp=1584366218649, timestamp_type=0, key=None, value=b'{\"test\": \"test\"}', headers=[], checksum=None, serialized_key_size=-1, serialized_value_size=16, serialized_header_size=-1),\n",
       " ConsumerRecord(topic='test', partition=0, offset=381, timestamp=1584366248678, timestamp_type=0, key=None, value=b'{\"test\": \"test\"}', headers=[], checksum=None, serialized_key_size=-1, serialized_value_size=16, serialized_header_size=-1),\n",
       " ConsumerRecord(topic='test', partition=0, offset=382, timestamp=1584366248678, timestamp_type=0, key=None, value=b'{\"test\": \"test\"}', headers=[], checksum=None, serialized_key_size=-1, serialized_value_size=16, serialized_header_size=-1),\n",
       " ConsumerRecord(topic='test', partition=0, offset=383, timestamp=1584366248678, timestamp_type=0, key=None, value=b'{\"test\": \"test\"}', headers=[], checksum=None, serialized_key_size=-1, serialized_value_size=16, serialized_header_size=-1),\n",
       " ConsumerRecord(topic='test', partition=0, offset=384, timestamp=1584366278687, timestamp_type=0, key=None, value=b'{\"test\": \"test\"}', headers=[], checksum=None, serialized_key_size=-1, serialized_value_size=16, serialized_header_size=-1),\n",
       " ConsumerRecord(topic='test', partition=0, offset=385, timestamp=1584366278687, timestamp_type=0, key=None, value=b'{\"test\": \"test\"}', headers=[], checksum=None, serialized_key_size=-1, serialized_value_size=16, serialized_header_size=-1),\n",
       " ConsumerRecord(topic='test', partition=0, offset=386, timestamp=1584366278687, timestamp_type=0, key=None, value=b'{\"test\": \"test\"}', headers=[], checksum=None, serialized_key_size=-1, serialized_value_size=16, serialized_header_size=-1),\n",
       " ConsumerRecord(topic='test', partition=0, offset=387, timestamp=1584366308701, timestamp_type=0, key=None, value=b'{\"test\": \"test\"}', headers=[], checksum=None, serialized_key_size=-1, serialized_value_size=16, serialized_header_size=-1),\n",
       " ConsumerRecord(topic='test', partition=0, offset=388, timestamp=1584366308701, timestamp_type=0, key=None, value=b'{\"test\": \"test\"}', headers=[], checksum=None, serialized_key_size=-1, serialized_value_size=16, serialized_header_size=-1),\n",
       " ConsumerRecord(topic='test', partition=0, offset=389, timestamp=1584366308701, timestamp_type=0, key=None, value=b'{\"test\": \"test\"}', headers=[], checksum=None, serialized_key_size=-1, serialized_value_size=16, serialized_header_size=-1),\n",
       " ConsumerRecord(topic='test', partition=0, offset=390, timestamp=1584366731246, timestamp_type=0, key=None, value=b'sdfdsf', headers=[], checksum=None, serialized_key_size=-1, serialized_value_size=6, serialized_header_size=-1),\n",
       " ConsumerRecord(topic='test', partition=0, offset=391, timestamp=1584366800157, timestamp_type=0, key=None, value=b'sdfsdf', headers=[], checksum=None, serialized_key_size=-1, serialized_value_size=6, serialized_header_size=-1),\n",
       " ConsumerRecord(topic='test', partition=0, offset=392, timestamp=1584366811227, timestamp_type=0, key=None, value=b'{\"test\": \"test\"}', headers=[], checksum=None, serialized_key_size=-1, serialized_value_size=16, serialized_header_size=-1),\n",
       " ConsumerRecord(topic='test', partition=0, offset=393, timestamp=1584366811227, timestamp_type=0, key=None, value=b'{\"test\": \"test\"}', headers=[], checksum=None, serialized_key_size=-1, serialized_value_size=16, serialized_header_size=-1),\n",
       " ConsumerRecord(topic='test', partition=0, offset=394, timestamp=1584366811227, timestamp_type=0, key=None, value=b'{\"test\": \"test\"}', headers=[], checksum=None, serialized_key_size=-1, serialized_value_size=16, serialized_header_size=-1),\n",
       " ConsumerRecord(topic='test', partition=0, offset=395, timestamp=1584366859993, timestamp_type=0, key=None, value=b'1', headers=[], checksum=None, serialized_key_size=-1, serialized_value_size=1, serialized_header_size=-1),\n",
       " ConsumerRecord(topic='test', partition=0, offset=396, timestamp=1584366919294, timestamp_type=0, key=None, value=b\"{'ss':'ss'}\", headers=[], checksum=None, serialized_key_size=-1, serialized_value_size=11, serialized_header_size=-1),\n",
       " ConsumerRecord(topic='test', partition=0, offset=397, timestamp=1584366978720, timestamp_type=0, key=None, value=b\"{'sdf':'sdfsd'}\", headers=[], checksum=None, serialized_key_size=-1, serialized_value_size=15, serialized_header_size=-1),\n",
       " ConsumerRecord(topic='test', partition=0, offset=398, timestamp=1584367781704, timestamp_type=0, key=None, value=b'dfdf', headers=[], checksum=None, serialized_key_size=-1, serialized_value_size=4, serialized_header_size=-1),\n",
       " ConsumerRecord(topic='test', partition=0, offset=399, timestamp=1584367783051, timestamp_type=0, key=None, value=b'sdfsdf', headers=[], checksum=None, serialized_key_size=-1, serialized_value_size=6, serialized_header_size=-1),\n",
       " ConsumerRecord(topic='test', partition=0, offset=400, timestamp=1584367784404, timestamp_type=0, key=None, value=b'werwer', headers=[], checksum=None, serialized_key_size=-1, serialized_value_size=6, serialized_header_size=-1)]"
      ]
     },
     "execution_count": 144,
     "metadata": {},
     "output_type": "execute_result"
    }
   ],
   "source": [
    "list(a)"
   ]
  },
  {
   "cell_type": "code",
   "execution_count": 67,
   "metadata": {},
   "outputs": [
    {
     "data": {
      "text/plain": [
       "[ConsumerRecord(topic='test', partition=0, offset=33, timestamp=1584352160643, timestamp_type=0, key=None, value=b'{\"b22\": 2}', headers=[], checksum=None, serialized_key_size=-1, serialized_value_size=10, serialized_header_size=-1)]"
      ]
     },
     "execution_count": 67,
     "metadata": {},
     "output_type": "execute_result"
    }
   ],
   "source": []
  },
  {
   "cell_type": "code",
   "execution_count": 120,
   "metadata": {},
   "outputs": [
    {
     "data": {
      "text/plain": [
       "ConsumerRecord(topic='test', partition=0, offset=30, timestamp=1584351138295, timestamp_type=0, key=None, value=b'{\"b22\": 2}', headers=[], checksum=None, serialized_key_size=-1, serialized_value_size=10, serialized_header_size=-1)"
      ]
     },
     "execution_count": 120,
     "metadata": {},
     "output_type": "execute_result"
    }
   ],
   "source": [
    "e"
   ]
  },
  {
   "cell_type": "code",
   "execution_count": 85,
   "metadata": {},
   "outputs": [
    {
     "data": {
      "text/plain": [
       "ConsumerRecord(topic='test', partition=0, offset=30, timestamp=1584351138295, timestamp_type=0, key=None, value=b'{\"b22\": 2}', headers=[], checksum=None, serialized_key_size=-1, serialized_value_size=10, serialized_header_size=-1)"
      ]
     },
     "execution_count": 85,
     "metadata": {},
     "output_type": "execute_result"
    }
   ],
   "source": [
    "e"
   ]
  },
  {
   "cell_type": "code",
   "execution_count": 16,
   "metadata": {},
   "outputs": [
    {
     "data": {
      "text/plain": [
       "['DEFAULT_CONFIG',\n",
       " 'DEFAULT_SESSION_TIMEOUT_MS_0_9',\n",
       " '__class__',\n",
       " '__delattr__',\n",
       " '__dict__',\n",
       " '__dir__',\n",
       " '__doc__',\n",
       " '__eq__',\n",
       " '__format__',\n",
       " '__ge__',\n",
       " '__getattribute__',\n",
       " '__gt__',\n",
       " '__hash__',\n",
       " '__init__',\n",
       " '__init_subclass__',\n",
       " '__iter__',\n",
       " '__le__',\n",
       " '__lt__',\n",
       " '__module__',\n",
       " '__ne__',\n",
       " '__new__',\n",
       " '__next__',\n",
       " '__reduce__',\n",
       " '__reduce_ex__',\n",
       " '__repr__',\n",
       " '__setattr__',\n",
       " '__sizeof__',\n",
       " '__str__',\n",
       " '__subclasshook__',\n",
       " '__weakref__',\n",
       " '_client',\n",
       " '_closed',\n",
       " '_consumer_timeout',\n",
       " '_coordinator',\n",
       " '_fetch_all_topic_metadata',\n",
       " '_fetcher',\n",
       " '_iterator',\n",
       " '_message_generator',\n",
       " '_message_generator_v2',\n",
       " '_metrics',\n",
       " '_next_timeout',\n",
       " '_poll_once',\n",
       " '_set_consumer_timeout',\n",
       " '_subscription',\n",
       " '_update_fetch_positions',\n",
       " '_use_consumer_group',\n",
       " 'assign',\n",
       " 'assignment',\n",
       " 'beginning_offsets',\n",
       " 'bootstrap_connected',\n",
       " 'close',\n",
       " 'commit',\n",
       " 'commit_async',\n",
       " 'committed',\n",
       " 'config',\n",
       " 'end_offsets',\n",
       " 'highwater',\n",
       " 'metrics',\n",
       " 'next_v1',\n",
       " 'next_v2',\n",
       " 'offsets_for_times',\n",
       " 'partitions_for_topic',\n",
       " 'pause',\n",
       " 'paused',\n",
       " 'poll',\n",
       " 'position',\n",
       " 'resume',\n",
       " 'seek',\n",
       " 'seek_to_beginning',\n",
       " 'seek_to_end',\n",
       " 'subscribe',\n",
       " 'subscription',\n",
       " 'topics',\n",
       " 'unsubscribe']"
      ]
     },
     "execution_count": 16,
     "metadata": {},
     "output_type": "execute_result"
    }
   ],
   "source": [
    "dir(a)"
   ]
  },
  {
   "cell_type": "code",
   "execution_count": 19,
   "metadata": {},
   "outputs": [
    {
     "data": {
      "text/plain": [
       "{'test'}"
      ]
     },
     "execution_count": 19,
     "metadata": {},
     "output_type": "execute_result"
    }
   ],
   "source": [
    "a.topics()"
   ]
  },
  {
   "cell_type": "code",
   "execution_count": 20,
   "metadata": {},
   "outputs": [
    {
     "data": {
      "text/plain": [
       "{'bootstrap_servers': ['0.0.0.0:9092'],\n",
       " 'client_id': 'kafka-python-2.0.1',\n",
       " 'group_id': 'test_user',\n",
       " 'key_deserializer': None,\n",
       " 'value_deserializer': None,\n",
       " 'fetch_max_wait_ms': 500,\n",
       " 'fetch_min_bytes': 1,\n",
       " 'fetch_max_bytes': 52428800,\n",
       " 'max_partition_fetch_bytes': 1048576,\n",
       " 'request_timeout_ms': 305000,\n",
       " 'retry_backoff_ms': 100,\n",
       " 'reconnect_backoff_ms': 50,\n",
       " 'reconnect_backoff_max_ms': 1000,\n",
       " 'max_in_flight_requests_per_connection': 5,\n",
       " 'auto_offset_reset': 'latest',\n",
       " 'enable_auto_commit': True,\n",
       " 'auto_commit_interval_ms': 5000,\n",
       " 'default_offset_commit_callback': <function kafka.consumer.group.KafkaConsumer.<lambda>(offsets, response)>,\n",
       " 'check_crcs': True,\n",
       " 'metadata_max_age_ms': 300000,\n",
       " 'partition_assignment_strategy': (kafka.coordinator.assignors.range.RangePartitionAssignor,\n",
       "  kafka.coordinator.assignors.roundrobin.RoundRobinPartitionAssignor),\n",
       " 'max_poll_records': 500,\n",
       " 'max_poll_interval_ms': 300000,\n",
       " 'session_timeout_ms': 10000,\n",
       " 'heartbeat_interval_ms': 3000,\n",
       " 'receive_buffer_bytes': None,\n",
       " 'send_buffer_bytes': None,\n",
       " 'socket_options': [(6, 1, 1)],\n",
       " 'sock_chunk_bytes': 4096,\n",
       " 'sock_chunk_buffer_count': 1000,\n",
       " 'consumer_timeout_ms': 5000,\n",
       " 'security_protocol': 'PLAINTEXT',\n",
       " 'ssl_context': None,\n",
       " 'ssl_check_hostname': True,\n",
       " 'ssl_cafile': None,\n",
       " 'ssl_certfile': None,\n",
       " 'ssl_keyfile': None,\n",
       " 'ssl_crlfile': None,\n",
       " 'ssl_password': None,\n",
       " 'ssl_ciphers': None,\n",
       " 'api_version': (1, 0, 0),\n",
       " 'api_version_auto_timeout_ms': 2000,\n",
       " 'connections_max_idle_ms': 540000,\n",
       " 'metric_reporters': [],\n",
       " 'metrics_num_samples': 2,\n",
       " 'metrics_sample_window_ms': 30000,\n",
       " 'metric_group_prefix': 'consumer',\n",
       " 'selector': selectors.EpollSelector,\n",
       " 'exclude_internal_topics': True,\n",
       " 'sasl_mechanism': None,\n",
       " 'sasl_plain_username': None,\n",
       " 'sasl_plain_password': None,\n",
       " 'sasl_kerberos_service_name': 'kafka',\n",
       " 'sasl_kerberos_domain_name': None,\n",
       " 'sasl_oauth_token_provider': None,\n",
       " 'legacy_iterator': False}"
      ]
     },
     "execution_count": 20,
     "metadata": {},
     "output_type": "execute_result"
    }
   ],
   "source": [
    "a.config"
   ]
  },
  {
   "cell_type": "code",
   "execution_count": 109,
   "metadata": {},
   "outputs": [],
   "source": [
    "b = KafkaProducer(bootstrap_servers=bootstrap_servers, \n",
    "                  value_serializer=lambda x: json.dumps(x).encode('utf-8'))"
   ]
  },
  {
   "cell_type": "code",
   "execution_count": 110,
   "metadata": {},
   "outputs": [
    {
     "data": {
      "text/plain": [
       "<kafka.producer.future.FutureRecordMetadata at 0x7fd5206b64e0>"
      ]
     },
     "execution_count": 110,
     "metadata": {},
     "output_type": "execute_result"
    }
   ],
   "source": [
    "from collections import defaultdict\n",
    "\n",
    "\n",
    "b.send('test', 'b22')"
   ]
  },
  {
   "cell_type": "code",
   "execution_count": 112,
   "metadata": {},
   "outputs": [
    {
     "data": {
      "text/plain": [
       "b'\"b22\"'"
      ]
     },
     "execution_count": 112,
     "metadata": {},
     "output_type": "execute_result"
    }
   ],
   "source": [
    "json.dumps('b22').encode('utf-8')"
   ]
  },
  {
   "cell_type": "code",
   "execution_count": 38,
   "metadata": {},
   "outputs": [
    {
     "data": {
      "text/plain": [
       "['DEFAULT_CONFIG',\n",
       " '_COMPRESSORS',\n",
       " '__class__',\n",
       " '__del__',\n",
       " '__delattr__',\n",
       " '__dict__',\n",
       " '__dir__',\n",
       " '__doc__',\n",
       " '__eq__',\n",
       " '__format__',\n",
       " '__ge__',\n",
       " '__getattribute__',\n",
       " '__gt__',\n",
       " '__hash__',\n",
       " '__init__',\n",
       " '__init_subclass__',\n",
       " '__le__',\n",
       " '__lt__',\n",
       " '__module__',\n",
       " '__ne__',\n",
       " '__new__',\n",
       " '__reduce__',\n",
       " '__reduce_ex__',\n",
       " '__repr__',\n",
       " '__setattr__',\n",
       " '__sizeof__',\n",
       " '__str__',\n",
       " '__subclasshook__',\n",
       " '__weakref__',\n",
       " '_accumulator',\n",
       " '_cleanup',\n",
       " '_cleanup_factory',\n",
       " '_closed',\n",
       " '_ensure_valid_record_size',\n",
       " '_estimate_size_in_bytes',\n",
       " '_max_usable_produce_magic',\n",
       " '_metadata',\n",
       " '_metrics',\n",
       " '_partition',\n",
       " '_sender',\n",
       " '_serialize',\n",
       " '_unregister_cleanup',\n",
       " '_wait_on_metadata',\n",
       " 'bootstrap_connected',\n",
       " 'close',\n",
       " 'config',\n",
       " 'flush',\n",
       " 'metrics',\n",
       " 'partitions_for',\n",
       " 'send']"
      ]
     },
     "execution_count": 38,
     "metadata": {},
     "output_type": "execute_result"
    }
   ],
   "source": [
    "dir(b)"
   ]
  },
  {
   "cell_type": "code",
   "execution_count": 72,
   "metadata": {},
   "outputs": [],
   "source": [
    "z = b'sdf'"
   ]
  },
  {
   "cell_type": "code",
   "execution_count": 73,
   "metadata": {},
   "outputs": [
    {
     "data": {
      "text/plain": [
       "bytes"
      ]
     },
     "execution_count": 73,
     "metadata": {},
     "output_type": "execute_result"
    }
   ],
   "source": [
    "type(z)"
   ]
  },
  {
   "cell_type": "code",
   "execution_count": 74,
   "metadata": {},
   "outputs": [
    {
     "data": {
      "text/plain": [
       "True"
      ]
     },
     "execution_count": 74,
     "metadata": {},
     "output_type": "execute_result"
    }
   ],
   "source": [
    "isinstance(z, bytes)"
   ]
  },
  {
   "cell_type": "code",
   "execution_count": 84,
   "metadata": {},
   "outputs": [
    {
     "name": "stdout",
     "output_type": "stream",
     "text": [
      "e\n",
      "pass\n"
     ]
    }
   ],
   "source": [
    "try:\n",
    "    json.loads(z)\n",
    "except json.JSONDecodeError:\n",
    "    print('e')\n",
    "    print('pass')"
   ]
  },
  {
   "cell_type": "code",
   "execution_count": 78,
   "metadata": {},
   "outputs": [
    {
     "ename": "JSONDecodeError",
     "evalue": "Expecting value: line 1 column 1 (char 0)",
     "output_type": "error",
     "traceback": [
      "\u001b[0;31m---------------------------------------------------------------------------\u001b[0m",
      "\u001b[0;31mJSONDecodeError\u001b[0m                           Traceback (most recent call last)",
      "\u001b[0;32m<ipython-input-78-6fb9903c8acc>\u001b[0m in \u001b[0;36m<module>\u001b[0;34m\u001b[0m\n\u001b[0;32m----> 1\u001b[0;31m \u001b[0mjson\u001b[0m\u001b[0;34m.\u001b[0m\u001b[0mloads\u001b[0m\u001b[0;34m(\u001b[0m\u001b[0mz\u001b[0m\u001b[0;34m)\u001b[0m\u001b[0;34m\u001b[0m\u001b[0m\n\u001b[0m",
      "\u001b[0;32m/usr/local/lib/python3.7/json/__init__.py\u001b[0m in \u001b[0;36mloads\u001b[0;34m(s, encoding, cls, object_hook, parse_float, parse_int, parse_constant, object_pairs_hook, **kw)\u001b[0m\n\u001b[1;32m    346\u001b[0m             \u001b[0mparse_int\u001b[0m \u001b[0;32mis\u001b[0m \u001b[0;32mNone\u001b[0m \u001b[0;32mand\u001b[0m \u001b[0mparse_float\u001b[0m \u001b[0;32mis\u001b[0m \u001b[0;32mNone\u001b[0m \u001b[0;32mand\u001b[0m\u001b[0;34m\u001b[0m\u001b[0m\n\u001b[1;32m    347\u001b[0m             parse_constant is None and object_pairs_hook is None and not kw):\n\u001b[0;32m--> 348\u001b[0;31m         \u001b[0;32mreturn\u001b[0m \u001b[0m_default_decoder\u001b[0m\u001b[0;34m.\u001b[0m\u001b[0mdecode\u001b[0m\u001b[0;34m(\u001b[0m\u001b[0ms\u001b[0m\u001b[0;34m)\u001b[0m\u001b[0;34m\u001b[0m\u001b[0m\n\u001b[0m\u001b[1;32m    349\u001b[0m     \u001b[0;32mif\u001b[0m \u001b[0mcls\u001b[0m \u001b[0;32mis\u001b[0m \u001b[0;32mNone\u001b[0m\u001b[0;34m:\u001b[0m\u001b[0;34m\u001b[0m\u001b[0m\n\u001b[1;32m    350\u001b[0m         \u001b[0mcls\u001b[0m \u001b[0;34m=\u001b[0m \u001b[0mJSONDecoder\u001b[0m\u001b[0;34m\u001b[0m\u001b[0m\n",
      "\u001b[0;32m/usr/local/lib/python3.7/json/decoder.py\u001b[0m in \u001b[0;36mdecode\u001b[0;34m(self, s, _w)\u001b[0m\n\u001b[1;32m    335\u001b[0m \u001b[0;34m\u001b[0m\u001b[0m\n\u001b[1;32m    336\u001b[0m         \"\"\"\n\u001b[0;32m--> 337\u001b[0;31m         \u001b[0mobj\u001b[0m\u001b[0;34m,\u001b[0m \u001b[0mend\u001b[0m \u001b[0;34m=\u001b[0m \u001b[0mself\u001b[0m\u001b[0;34m.\u001b[0m\u001b[0mraw_decode\u001b[0m\u001b[0;34m(\u001b[0m\u001b[0ms\u001b[0m\u001b[0;34m,\u001b[0m \u001b[0midx\u001b[0m\u001b[0;34m=\u001b[0m\u001b[0m_w\u001b[0m\u001b[0;34m(\u001b[0m\u001b[0ms\u001b[0m\u001b[0;34m,\u001b[0m \u001b[0;36m0\u001b[0m\u001b[0;34m)\u001b[0m\u001b[0;34m.\u001b[0m\u001b[0mend\u001b[0m\u001b[0;34m(\u001b[0m\u001b[0;34m)\u001b[0m\u001b[0;34m)\u001b[0m\u001b[0;34m\u001b[0m\u001b[0m\n\u001b[0m\u001b[1;32m    338\u001b[0m         \u001b[0mend\u001b[0m \u001b[0;34m=\u001b[0m \u001b[0m_w\u001b[0m\u001b[0;34m(\u001b[0m\u001b[0ms\u001b[0m\u001b[0;34m,\u001b[0m \u001b[0mend\u001b[0m\u001b[0;34m)\u001b[0m\u001b[0;34m.\u001b[0m\u001b[0mend\u001b[0m\u001b[0;34m(\u001b[0m\u001b[0;34m)\u001b[0m\u001b[0;34m\u001b[0m\u001b[0m\n\u001b[1;32m    339\u001b[0m         \u001b[0;32mif\u001b[0m \u001b[0mend\u001b[0m \u001b[0;34m!=\u001b[0m \u001b[0mlen\u001b[0m\u001b[0;34m(\u001b[0m\u001b[0ms\u001b[0m\u001b[0;34m)\u001b[0m\u001b[0;34m:\u001b[0m\u001b[0;34m\u001b[0m\u001b[0m\n",
      "\u001b[0;32m/usr/local/lib/python3.7/json/decoder.py\u001b[0m in \u001b[0;36mraw_decode\u001b[0;34m(self, s, idx)\u001b[0m\n\u001b[1;32m    353\u001b[0m             \u001b[0mobj\u001b[0m\u001b[0;34m,\u001b[0m \u001b[0mend\u001b[0m \u001b[0;34m=\u001b[0m \u001b[0mself\u001b[0m\u001b[0;34m.\u001b[0m\u001b[0mscan_once\u001b[0m\u001b[0;34m(\u001b[0m\u001b[0ms\u001b[0m\u001b[0;34m,\u001b[0m \u001b[0midx\u001b[0m\u001b[0;34m)\u001b[0m\u001b[0;34m\u001b[0m\u001b[0m\n\u001b[1;32m    354\u001b[0m         \u001b[0;32mexcept\u001b[0m \u001b[0mStopIteration\u001b[0m \u001b[0;32mas\u001b[0m \u001b[0merr\u001b[0m\u001b[0;34m:\u001b[0m\u001b[0;34m\u001b[0m\u001b[0m\n\u001b[0;32m--> 355\u001b[0;31m             \u001b[0;32mraise\u001b[0m \u001b[0mJSONDecodeError\u001b[0m\u001b[0;34m(\u001b[0m\u001b[0;34m\"Expecting value\"\u001b[0m\u001b[0;34m,\u001b[0m \u001b[0ms\u001b[0m\u001b[0;34m,\u001b[0m \u001b[0merr\u001b[0m\u001b[0;34m.\u001b[0m\u001b[0mvalue\u001b[0m\u001b[0;34m)\u001b[0m \u001b[0;32mfrom\u001b[0m \u001b[0;32mNone\u001b[0m\u001b[0;34m\u001b[0m\u001b[0m\n\u001b[0m\u001b[1;32m    356\u001b[0m         \u001b[0;32mreturn\u001b[0m \u001b[0mobj\u001b[0m\u001b[0;34m,\u001b[0m \u001b[0mend\u001b[0m\u001b[0;34m\u001b[0m\u001b[0m\n",
      "\u001b[0;31mJSONDecodeError\u001b[0m: Expecting value: line 1 column 1 (char 0)"
     ]
    }
   ],
   "source": [
    "json.loads(z)"
   ]
  },
  {
   "cell_type": "code",
   "execution_count": 79,
   "metadata": {},
   "outputs": [
    {
     "data": {
      "text/plain": [
       "['JSONDecodeError',\n",
       " 'JSONDecoder',\n",
       " 'JSONEncoder',\n",
       " '__all__',\n",
       " '__author__',\n",
       " '__builtins__',\n",
       " '__cached__',\n",
       " '__doc__',\n",
       " '__file__',\n",
       " '__loader__',\n",
       " '__name__',\n",
       " '__package__',\n",
       " '__path__',\n",
       " '__spec__',\n",
       " '__version__',\n",
       " '_default_decoder',\n",
       " '_default_encoder',\n",
       " 'codecs',\n",
       " 'decoder',\n",
       " 'detect_encoding',\n",
       " 'dump',\n",
       " 'dumps',\n",
       " 'encoder',\n",
       " 'load',\n",
       " 'loads',\n",
       " 'scanner']"
      ]
     },
     "execution_count": 79,
     "metadata": {},
     "output_type": "execute_result"
    }
   ],
   "source": [
    "dir(json.JSONDecodeError)"
   ]
  },
  {
   "cell_type": "code",
   "execution_count": 106,
   "metadata": {},
   "outputs": [],
   "source": [
    "zz = defaultdict()"
   ]
  },
  {
   "cell_type": "code",
   "execution_count": 107,
   "metadata": {},
   "outputs": [
    {
     "data": {
      "text/plain": [
       "True"
      ]
     },
     "execution_count": 107,
     "metadata": {},
     "output_type": "execute_result"
    }
   ],
   "source": [
    "isinstance(zz, dict)"
   ]
  },
  {
   "cell_type": "code",
   "execution_count": null,
   "metadata": {},
   "outputs": [],
   "source": []
  }
 ],
 "metadata": {
  "kernelspec": {
   "display_name": "Python 3",
   "language": "python",
   "name": "python3"
  },
  "language_info": {
   "codemirror_mode": {
    "name": "ipython",
    "version": 3
   },
   "file_extension": ".py",
   "mimetype": "text/x-python",
   "name": "python",
   "nbconvert_exporter": "python",
   "pygments_lexer": "ipython3",
   "version": "3.7.0"
  },
  "toc": {
   "base_numbering": 1,
   "nav_menu": {},
   "number_sections": true,
   "sideBar": true,
   "skip_h1_title": false,
   "title_cell": "Table of Contents",
   "title_sidebar": "Contents",
   "toc_cell": false,
   "toc_position": {},
   "toc_section_display": true,
   "toc_window_display": false
  },
  "varInspector": {
   "cols": {
    "lenName": 16,
    "lenType": 16,
    "lenVar": 40
   },
   "kernels_config": {
    "python": {
     "delete_cmd_postfix": "",
     "delete_cmd_prefix": "del ",
     "library": "var_list.py",
     "varRefreshCmd": "print(var_dic_list())"
    },
    "r": {
     "delete_cmd_postfix": ") ",
     "delete_cmd_prefix": "rm(",
     "library": "var_list.r",
     "varRefreshCmd": "cat(var_dic_list()) "
    }
   },
   "types_to_exclude": [
    "module",
    "function",
    "builtin_function_or_method",
    "instance",
    "_Feature"
   ],
   "window_display": false
  }
 },
 "nbformat": 4,
 "nbformat_minor": 4
}
